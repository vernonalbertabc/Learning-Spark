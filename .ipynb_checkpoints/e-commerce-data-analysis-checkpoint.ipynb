{
 "cells": [
  {
   "cell_type": "markdown",
   "metadata": {
    "papermill": {
     "duration": 0.04952,
     "end_time": "2021-04-04T20:59:46.333552",
     "exception": false,
     "start_time": "2021-04-04T20:59:46.284032",
     "status": "completed"
    },
    "tags": []
   },
   "source": [
    "# Targeted marketing with Customer segmention \n",
    "\n",
    "\n",
    "- Here, targeted marketing will be done by analysing customer behaviour.\n",
    "- Hence, K-means clustering will be performed to segment customers\n",
    "- In actual practice, marketing campaigns might be rolled out to 100K - 200K customers with different purchasing attributes.\n",
    "- If you run multiple iterations of K Means on your local system. For K=4, the number of distance metrics required to be calculated is 4 x 100K = 400,000\n",
    "- Hence, a lot of computation power is required. This is where data parallelism steps in\n",
    "\n",
    "This works in the following way -:\n",
    "```\n",
    "1. Data D is divided across P processors. Each processor works on a set of records (determined by spark configuration). The initial centroid values, C, are shared across each of these processors\n",
    "2. Now every processor has centroid information. The processors compute the distance of their records to these centroids and form local clusters by assigning data points to its closest centroid\n",
    "3. Once step 2 is done, the sum and count of records for each of these clusters across P processors are stored by a master process for future reference\n",
    "4. Once one iteration is completed, the information from the processor is exchanged and a master process computes the updated 5. Centroids and shares them across the P processors again, i.e. one point is allocated to K clusters, a master process updates the centroids, and reshare the information back with the processors\n",
    "5. This process keeps iterating till convergence is met. Once a convergence criterion is met, the master process collects local clusters and combines them into a global one\n",
    "\n",
    "```\n",
    "<img src=\"https://www.researchgate.net/profile/Zhiang-Wu/publication/312487404/figure/fig1/AS:573268115169280@1513689177637/Framework-overview_Q320.jpg\">\n",
    "\n",
    "Imagine 100K records divided across 3 processors each having ~33K records. This is where distributed processing comes into the picture to reduce the volume of data, yet ensuring a complete result."
   ]
  },
  {
   "cell_type": "code",
   "execution_count": 1,
   "metadata": {},
   "outputs": [],
   "source": [
    "# References\n",
    "# https://towardsdatascience.com/k-means-clustering-using-pyspark-on-big-data-6214beacdc8b\n",
    "# https://www.researchgate.net/publication/312487404_Parallelizing_K-Means-Based_Clustering_on_Spark"
   ]
  },
  {
   "cell_type": "markdown",
   "metadata": {},
   "source": [
    "# Libraries"
   ]
  },
  {
   "cell_type": "code",
   "execution_count": 2,
   "metadata": {
    "_cell_guid": "b1076dfc-b9ad-4769-8c92-a6c4dae69d19",
    "_uuid": "8f2839f25d086af736a60e9eeb907d3b93b6e0e5",
    "execution": {
     "iopub.execute_input": "2021-04-04T20:59:46.436004Z",
     "iopub.status.busy": "2021-04-04T20:59:46.435330Z",
     "iopub.status.idle": "2021-04-04T20:59:48.583301Z",
     "shell.execute_reply": "2021-04-04T20:59:48.581961Z"
    },
    "papermill": {
     "duration": 2.201825,
     "end_time": "2021-04-04T20:59:48.583558",
     "exception": false,
     "start_time": "2021-04-04T20:59:46.381733",
     "status": "completed"
    },
    "tags": []
   },
   "outputs": [],
   "source": [
    "import numpy as np\n",
    "import pandas as pd \n",
    "import os\n",
    "\n",
    "import seaborn as sns\n",
    "\n",
    "import matplotlib.pyplot as plt\n",
    "\n",
    "import plotly.express as px\n",
    "plt.style.use('fivethirtyeight')\n",
    "import plotly.io as pio\n",
    "import plotly.graph_objects as go\n",
    "\n",
    "import warnings\n",
    "warnings.filterwarnings('ignore')\n",
    "\n",
    "from pyspark.sql import SparkSession\n",
    "from pyspark.ml.feature import VectorAssembler"
   ]
  },
  {
   "cell_type": "code",
   "execution_count": 3,
   "metadata": {
    "execution": {
     "iopub.execute_input": "2021-04-04T20:59:48.685244Z",
     "iopub.status.busy": "2021-04-04T20:59:48.684646Z",
     "iopub.status.idle": "2021-04-04T20:59:49.801179Z",
     "shell.execute_reply": "2021-04-04T20:59:49.801606Z"
    },
    "papermill": {
     "duration": 1.169838,
     "end_time": "2021-04-04T20:59:49.801775",
     "exception": false,
     "start_time": "2021-04-04T20:59:48.631937",
     "status": "completed"
    },
    "tags": []
   },
   "outputs": [
    {
     "name": "stdout",
     "output_type": "stream",
     "text": [
      "       InvoiceNo StockCode                          Description  Quantity  \\\n",
      "0         536365    85123A   WHITE HANGING HEART T-LIGHT HOLDER         6   \n",
      "1         536365     71053                  WHITE METAL LANTERN         6   \n",
      "2         536365    84406B       CREAM CUPID HEARTS COAT HANGER         8   \n",
      "3         536365    84029G  KNITTED UNION FLAG HOT WATER BOTTLE         6   \n",
      "4         536365    84029E       RED WOOLLY HOTTIE WHITE HEART.         6   \n",
      "...          ...       ...                                  ...       ...   \n",
      "541904    581587     22613          PACK OF 20 SPACEBOY NAPKINS        12   \n",
      "541905    581587     22899         CHILDREN'S APRON DOLLY GIRL          6   \n",
      "541906    581587     23254        CHILDRENS CUTLERY DOLLY GIRL          4   \n",
      "541907    581587     23255      CHILDRENS CUTLERY CIRCUS PARADE         4   \n",
      "541908    581587     22138        BAKING SET 9 PIECE RETROSPOT          3   \n",
      "\n",
      "            InvoiceDate  UnitPrice  CustomerID         Country  \n",
      "0        12/1/2010 8:26       2.55     17850.0  United Kingdom  \n",
      "1        12/1/2010 8:26       3.39     17850.0  United Kingdom  \n",
      "2        12/1/2010 8:26       2.75     17850.0  United Kingdom  \n",
      "3        12/1/2010 8:26       3.39     17850.0  United Kingdom  \n",
      "4        12/1/2010 8:26       3.39     17850.0  United Kingdom  \n",
      "...                 ...        ...         ...             ...  \n",
      "541904  12/9/2011 12:50       0.85     12680.0          France  \n",
      "541905  12/9/2011 12:50       2.10     12680.0          France  \n",
      "541906  12/9/2011 12:50       4.15     12680.0          France  \n",
      "541907  12/9/2011 12:50       4.15     12680.0          France  \n",
      "541908  12/9/2011 12:50       4.95     12680.0          France  \n",
      "\n",
      "[541909 rows x 8 columns]\n"
     ]
    }
   ],
   "source": [
    "# specify encoding to deal with different formats\n",
    "df = pd.read_csv('data.csv', encoding = 'ISO-8859-1')\n",
    "print(df)\n"
   ]
  },
  {
   "cell_type": "code",
   "execution_count": 4,
   "metadata": {
    "execution": {
     "iopub.execute_input": "2021-04-04T20:59:49.914961Z",
     "iopub.status.busy": "2021-04-04T20:59:49.914246Z",
     "iopub.status.idle": "2021-04-04T20:59:49.917487Z",
     "shell.execute_reply": "2021-04-04T20:59:49.917907Z"
    },
    "papermill": {
     "duration": 0.066327,
     "end_time": "2021-04-04T20:59:49.918070",
     "exception": false,
     "start_time": "2021-04-04T20:59:49.851743",
     "status": "completed"
    },
    "tags": []
   },
   "outputs": [
    {
     "name": "stdout",
     "output_type": "stream",
     "text": [
      "InvoiceNo       object\n",
      "StockCode       object\n",
      "Description     object\n",
      "Quantity         int64\n",
      "InvoiceDate     object\n",
      "UnitPrice      float64\n",
      "CustomerID     float64\n",
      "Country         object\n",
      "dtype: object\n"
     ]
    }
   ],
   "source": [
    "print(df.dtypes)"
   ]
  },
  {
   "cell_type": "markdown",
   "metadata": {
    "papermill": {
     "duration": 0.050206,
     "end_time": "2021-04-04T20:59:50.018585",
     "exception": false,
     "start_time": "2021-04-04T20:59:49.968379",
     "status": "completed"
    },
    "tags": []
   },
   "source": [
    "Some attributes of the data\n",
    "\n",
    "```\n",
    "InvoiceNo: Invoice number. Nominal, a 6-digit integral number uniquely assigned to each transaction. If this code starts with letter 'c', it indicates a cancellation.\n",
    "StockCode: Product (item) code. Nominal, a 5-digit integral number uniquely assigned to each distinct product.\n",
    "Description: Product (item) name. Nominal.\n",
    "Quantity: The quantities of each product (item) per transaction. Numeric.\n",
    "InvoiceDate: Invice Date and time. Numeric, the day and time when each transaction was generated.\n",
    "UnitPrice: Unit price. Numeric, Product price per unit in sterling.\n",
    "CustomerID: Customer number. Nominal, a 5-digit integral number uniquely assigned to each customer.\n",
    "Country: Country name. Nominal, the name of the country where each customer resides.\n",
    "```"
   ]
  },
  {
   "cell_type": "markdown",
   "metadata": {
    "papermill": {
     "duration": 0.048726,
     "end_time": "2021-04-04T20:59:50.117288",
     "exception": false,
     "start_time": "2021-04-04T20:59:50.068562",
     "status": "completed"
    },
    "tags": []
   },
   "source": [
    "# Data cleaning"
   ]
  },
  {
   "cell_type": "markdown",
   "metadata": {
    "papermill": {
     "duration": 0.048668,
     "end_time": "2021-04-04T20:59:50.214746",
     "exception": false,
     "start_time": "2021-04-04T20:59:50.166078",
     "status": "completed"
    },
    "tags": []
   },
   "source": [
    "- Before I go further, I recieved a lot of interesting ideas from the notebook \"https://www.kaggle.com/anmoltripathi/complete-e-commerce-analysis\" especially on data cleaning, I will be using some of the ideas from that notebook here"
   ]
  },
  {
   "cell_type": "code",
   "execution_count": 5,
   "metadata": {
    "execution": {
     "iopub.execute_input": "2021-04-04T20:59:50.316529Z",
     "iopub.status.busy": "2021-04-04T20:59:50.315663Z",
     "iopub.status.idle": "2021-04-04T20:59:50.395049Z",
     "shell.execute_reply": "2021-04-04T20:59:50.394579Z"
    },
    "papermill": {
     "duration": 0.131133,
     "end_time": "2021-04-04T20:59:50.395178",
     "exception": false,
     "start_time": "2021-04-04T20:59:50.264045",
     "status": "completed"
    },
    "tags": []
   },
   "outputs": [
    {
     "data": {
      "text/html": [
       "<div>\n",
       "<style scoped>\n",
       "    .dataframe tbody tr th:only-of-type {\n",
       "        vertical-align: middle;\n",
       "    }\n",
       "\n",
       "    .dataframe tbody tr th {\n",
       "        vertical-align: top;\n",
       "    }\n",
       "\n",
       "    .dataframe thead th {\n",
       "        text-align: right;\n",
       "    }\n",
       "</style>\n",
       "<table border=\"1\" class=\"dataframe\">\n",
       "  <thead>\n",
       "    <tr style=\"text-align: right;\">\n",
       "      <th></th>\n",
       "      <th>Quantity</th>\n",
       "      <th>UnitPrice</th>\n",
       "      <th>CustomerID</th>\n",
       "    </tr>\n",
       "  </thead>\n",
       "  <tbody>\n",
       "    <tr>\n",
       "      <th>count</th>\n",
       "      <td>541909.000000</td>\n",
       "      <td>541909.000000</td>\n",
       "      <td>406829.000000</td>\n",
       "    </tr>\n",
       "    <tr>\n",
       "      <th>mean</th>\n",
       "      <td>9.552250</td>\n",
       "      <td>4.611114</td>\n",
       "      <td>15287.690570</td>\n",
       "    </tr>\n",
       "    <tr>\n",
       "      <th>std</th>\n",
       "      <td>218.081158</td>\n",
       "      <td>96.759853</td>\n",
       "      <td>1713.600303</td>\n",
       "    </tr>\n",
       "    <tr>\n",
       "      <th>min</th>\n",
       "      <td>-80995.000000</td>\n",
       "      <td>-11062.060000</td>\n",
       "      <td>12346.000000</td>\n",
       "    </tr>\n",
       "    <tr>\n",
       "      <th>25%</th>\n",
       "      <td>1.000000</td>\n",
       "      <td>1.250000</td>\n",
       "      <td>13953.000000</td>\n",
       "    </tr>\n",
       "    <tr>\n",
       "      <th>50%</th>\n",
       "      <td>3.000000</td>\n",
       "      <td>2.080000</td>\n",
       "      <td>15152.000000</td>\n",
       "    </tr>\n",
       "    <tr>\n",
       "      <th>75%</th>\n",
       "      <td>10.000000</td>\n",
       "      <td>4.130000</td>\n",
       "      <td>16791.000000</td>\n",
       "    </tr>\n",
       "    <tr>\n",
       "      <th>max</th>\n",
       "      <td>80995.000000</td>\n",
       "      <td>38970.000000</td>\n",
       "      <td>18287.000000</td>\n",
       "    </tr>\n",
       "  </tbody>\n",
       "</table>\n",
       "</div>"
      ],
      "text/plain": [
       "            Quantity      UnitPrice     CustomerID\n",
       "count  541909.000000  541909.000000  406829.000000\n",
       "mean        9.552250       4.611114   15287.690570\n",
       "std       218.081158      96.759853    1713.600303\n",
       "min    -80995.000000  -11062.060000   12346.000000\n",
       "25%         1.000000       1.250000   13953.000000\n",
       "50%         3.000000       2.080000   15152.000000\n",
       "75%        10.000000       4.130000   16791.000000\n",
       "max     80995.000000   38970.000000   18287.000000"
      ]
     },
     "execution_count": 5,
     "metadata": {},
     "output_type": "execute_result"
    }
   ],
   "source": [
    "df.describe()"
   ]
  },
  {
   "cell_type": "markdown",
   "metadata": {
    "papermill": {
     "duration": 0.049413,
     "end_time": "2021-04-04T20:59:50.495093",
     "exception": false,
     "start_time": "2021-04-04T20:59:50.445680",
     "status": "completed"
    },
    "tags": []
   },
   "source": [
    "- As we can see some of the numerical fields are negative. This could be due to erronous values or refunds \n",
    "- This can be checked by comparing whether there are any duplicate invoice numbers or cancellations\n",
    "- Letter c indicates cancellations in Invoice number. Lets check that. "
   ]
  },
  {
   "cell_type": "code",
   "execution_count": 6,
   "metadata": {
    "execution": {
     "iopub.execute_input": "2021-04-04T20:59:50.613064Z",
     "iopub.status.busy": "2021-04-04T20:59:50.608054Z",
     "iopub.status.idle": "2021-04-04T21:00:03.784172Z",
     "shell.execute_reply": "2021-04-04T21:00:03.783710Z"
    },
    "papermill": {
     "duration": 13.239097,
     "end_time": "2021-04-04T21:00:03.784312",
     "exception": false,
     "start_time": "2021-04-04T20:59:50.545215",
     "status": "completed"
    },
    "tags": []
   },
   "outputs": [
    {
     "name": "stdout",
     "output_type": "stream",
     "text": [
      "No of cancellations:  9288\n"
     ]
    }
   ],
   "source": [
    "Cancellations = []\n",
    "\n",
    "for i in range(len(df)):\n",
    "    \n",
    "    if \"c\" in df[\"InvoiceNo\"].loc[i] or \"C\" in df[\"InvoiceNo\"].loc[i] :\n",
    "        \n",
    "        Cancellations.append(1)\n",
    "        \n",
    "    else:\n",
    "        pass\n",
    "\n",
    "print(\"No of cancellations: \", len(Cancellations))"
   ]
  },
  {
   "cell_type": "code",
   "execution_count": 7,
   "metadata": {
    "execution": {
     "iopub.execute_input": "2021-04-04T21:00:03.901900Z",
     "iopub.status.busy": "2021-04-04T21:00:03.901255Z",
     "iopub.status.idle": "2021-04-04T21:00:05.966974Z",
     "shell.execute_reply": "2021-04-04T21:00:05.966005Z"
    },
    "papermill": {
     "duration": 2.132863,
     "end_time": "2021-04-04T21:00:05.967180",
     "exception": false,
     "start_time": "2021-04-04T21:00:03.834317",
     "status": "completed"
    },
    "tags": []
   },
   "outputs": [
    {
     "name": "stdout",
     "output_type": "stream",
     "text": [
      "No of total negative quantity:  10624\n"
     ]
    }
   ],
   "source": [
    "df['InvoiceDate']= pd.to_datetime(df['InvoiceDate'])\n",
    "\n",
    "df.set_index(np.arange(0,len(df),1),inplace=True)\n",
    "neg_df = df[df[\"Quantity\"]<0]\n",
    "pos_df = df[~df[\"Quantity\"]<0]\n",
    "\n",
    "print(\"No of total negative quantity: \",len(neg_df))"
   ]
  },
  {
   "cell_type": "code",
   "execution_count": 8,
   "metadata": {
    "execution": {
     "iopub.execute_input": "2021-04-04T21:00:06.099231Z",
     "iopub.status.busy": "2021-04-04T21:00:06.098631Z",
     "iopub.status.idle": "2021-04-04T21:00:06.103697Z",
     "shell.execute_reply": "2021-04-04T21:00:06.103215Z"
    },
    "papermill": {
     "duration": 0.085075,
     "end_time": "2021-04-04T21:00:06.103847",
     "exception": false,
     "start_time": "2021-04-04T21:00:06.018772",
     "status": "completed"
    },
    "tags": []
   },
   "outputs": [
    {
     "data": {
      "text/html": [
       "<div>\n",
       "<style scoped>\n",
       "    .dataframe tbody tr th:only-of-type {\n",
       "        vertical-align: middle;\n",
       "    }\n",
       "\n",
       "    .dataframe tbody tr th {\n",
       "        vertical-align: top;\n",
       "    }\n",
       "\n",
       "    .dataframe thead th {\n",
       "        text-align: right;\n",
       "    }\n",
       "</style>\n",
       "<table border=\"1\" class=\"dataframe\">\n",
       "  <thead>\n",
       "    <tr style=\"text-align: right;\">\n",
       "      <th></th>\n",
       "      <th>InvoiceNo</th>\n",
       "      <th>StockCode</th>\n",
       "      <th>Description</th>\n",
       "      <th>Quantity</th>\n",
       "      <th>InvoiceDate</th>\n",
       "      <th>UnitPrice</th>\n",
       "      <th>CustomerID</th>\n",
       "      <th>Country</th>\n",
       "    </tr>\n",
       "  </thead>\n",
       "  <tbody>\n",
       "    <tr>\n",
       "      <th>141</th>\n",
       "      <td>C536379</td>\n",
       "      <td>D</td>\n",
       "      <td>Discount</td>\n",
       "      <td>-1</td>\n",
       "      <td>2010-12-01 09:41:00</td>\n",
       "      <td>27.50</td>\n",
       "      <td>14527.0</td>\n",
       "      <td>United Kingdom</td>\n",
       "    </tr>\n",
       "    <tr>\n",
       "      <th>154</th>\n",
       "      <td>C536383</td>\n",
       "      <td>35004C</td>\n",
       "      <td>SET OF 3 COLOURED  FLYING DUCKS</td>\n",
       "      <td>-1</td>\n",
       "      <td>2010-12-01 09:49:00</td>\n",
       "      <td>4.65</td>\n",
       "      <td>15311.0</td>\n",
       "      <td>United Kingdom</td>\n",
       "    </tr>\n",
       "    <tr>\n",
       "      <th>235</th>\n",
       "      <td>C536391</td>\n",
       "      <td>22556</td>\n",
       "      <td>PLASTERS IN TIN CIRCUS PARADE</td>\n",
       "      <td>-12</td>\n",
       "      <td>2010-12-01 10:24:00</td>\n",
       "      <td>1.65</td>\n",
       "      <td>17548.0</td>\n",
       "      <td>United Kingdom</td>\n",
       "    </tr>\n",
       "    <tr>\n",
       "      <th>236</th>\n",
       "      <td>C536391</td>\n",
       "      <td>21984</td>\n",
       "      <td>PACK OF 12 PINK PAISLEY TISSUES</td>\n",
       "      <td>-24</td>\n",
       "      <td>2010-12-01 10:24:00</td>\n",
       "      <td>0.29</td>\n",
       "      <td>17548.0</td>\n",
       "      <td>United Kingdom</td>\n",
       "    </tr>\n",
       "    <tr>\n",
       "      <th>237</th>\n",
       "      <td>C536391</td>\n",
       "      <td>21983</td>\n",
       "      <td>PACK OF 12 BLUE PAISLEY TISSUES</td>\n",
       "      <td>-24</td>\n",
       "      <td>2010-12-01 10:24:00</td>\n",
       "      <td>0.29</td>\n",
       "      <td>17548.0</td>\n",
       "      <td>United Kingdom</td>\n",
       "    </tr>\n",
       "    <tr>\n",
       "      <th>238</th>\n",
       "      <td>C536391</td>\n",
       "      <td>21980</td>\n",
       "      <td>PACK OF 12 RED RETROSPOT TISSUES</td>\n",
       "      <td>-24</td>\n",
       "      <td>2010-12-01 10:24:00</td>\n",
       "      <td>0.29</td>\n",
       "      <td>17548.0</td>\n",
       "      <td>United Kingdom</td>\n",
       "    </tr>\n",
       "    <tr>\n",
       "      <th>239</th>\n",
       "      <td>C536391</td>\n",
       "      <td>21484</td>\n",
       "      <td>CHICK GREY HOT WATER BOTTLE</td>\n",
       "      <td>-12</td>\n",
       "      <td>2010-12-01 10:24:00</td>\n",
       "      <td>3.45</td>\n",
       "      <td>17548.0</td>\n",
       "      <td>United Kingdom</td>\n",
       "    </tr>\n",
       "    <tr>\n",
       "      <th>240</th>\n",
       "      <td>C536391</td>\n",
       "      <td>22557</td>\n",
       "      <td>PLASTERS IN TIN VINTAGE PAISLEY</td>\n",
       "      <td>-12</td>\n",
       "      <td>2010-12-01 10:24:00</td>\n",
       "      <td>1.65</td>\n",
       "      <td>17548.0</td>\n",
       "      <td>United Kingdom</td>\n",
       "    </tr>\n",
       "    <tr>\n",
       "      <th>241</th>\n",
       "      <td>C536391</td>\n",
       "      <td>22553</td>\n",
       "      <td>PLASTERS IN TIN SKULLS</td>\n",
       "      <td>-24</td>\n",
       "      <td>2010-12-01 10:24:00</td>\n",
       "      <td>1.65</td>\n",
       "      <td>17548.0</td>\n",
       "      <td>United Kingdom</td>\n",
       "    </tr>\n",
       "    <tr>\n",
       "      <th>939</th>\n",
       "      <td>C536506</td>\n",
       "      <td>22960</td>\n",
       "      <td>JAM MAKING SET WITH JARS</td>\n",
       "      <td>-6</td>\n",
       "      <td>2010-12-01 12:38:00</td>\n",
       "      <td>4.25</td>\n",
       "      <td>17897.0</td>\n",
       "      <td>United Kingdom</td>\n",
       "    </tr>\n",
       "    <tr>\n",
       "      <th>1441</th>\n",
       "      <td>C536543</td>\n",
       "      <td>22632</td>\n",
       "      <td>HAND WARMER RED RETROSPOT</td>\n",
       "      <td>-1</td>\n",
       "      <td>2010-12-01 14:30:00</td>\n",
       "      <td>2.10</td>\n",
       "      <td>17841.0</td>\n",
       "      <td>United Kingdom</td>\n",
       "    </tr>\n",
       "    <tr>\n",
       "      <th>1442</th>\n",
       "      <td>C536543</td>\n",
       "      <td>22355</td>\n",
       "      <td>CHARLOTTE BAG SUKI DESIGN</td>\n",
       "      <td>-2</td>\n",
       "      <td>2010-12-01 14:30:00</td>\n",
       "      <td>0.85</td>\n",
       "      <td>17841.0</td>\n",
       "      <td>United Kingdom</td>\n",
       "    </tr>\n",
       "    <tr>\n",
       "      <th>1973</th>\n",
       "      <td>C536548</td>\n",
       "      <td>22244</td>\n",
       "      <td>3 HOOK HANGER MAGIC GARDEN</td>\n",
       "      <td>-4</td>\n",
       "      <td>2010-12-01 14:33:00</td>\n",
       "      <td>1.95</td>\n",
       "      <td>12472.0</td>\n",
       "      <td>Germany</td>\n",
       "    </tr>\n",
       "    <tr>\n",
       "      <th>1974</th>\n",
       "      <td>C536548</td>\n",
       "      <td>22242</td>\n",
       "      <td>5 HOOK HANGER MAGIC TOADSTOOL</td>\n",
       "      <td>-5</td>\n",
       "      <td>2010-12-01 14:33:00</td>\n",
       "      <td>1.65</td>\n",
       "      <td>12472.0</td>\n",
       "      <td>Germany</td>\n",
       "    </tr>\n",
       "    <tr>\n",
       "      <th>1975</th>\n",
       "      <td>C536548</td>\n",
       "      <td>20914</td>\n",
       "      <td>SET/5 RED RETROSPOT LID GLASS BOWLS</td>\n",
       "      <td>-1</td>\n",
       "      <td>2010-12-01 14:33:00</td>\n",
       "      <td>2.95</td>\n",
       "      <td>12472.0</td>\n",
       "      <td>Germany</td>\n",
       "    </tr>\n",
       "    <tr>\n",
       "      <th>1976</th>\n",
       "      <td>C536548</td>\n",
       "      <td>22892</td>\n",
       "      <td>SET OF SALT AND PEPPER TOADSTOOLS</td>\n",
       "      <td>-7</td>\n",
       "      <td>2010-12-01 14:33:00</td>\n",
       "      <td>1.25</td>\n",
       "      <td>12472.0</td>\n",
       "      <td>Germany</td>\n",
       "    </tr>\n",
       "    <tr>\n",
       "      <th>1977</th>\n",
       "      <td>C536548</td>\n",
       "      <td>22654</td>\n",
       "      <td>DELUXE SEWING KIT</td>\n",
       "      <td>-1</td>\n",
       "      <td>2010-12-01 14:33:00</td>\n",
       "      <td>5.95</td>\n",
       "      <td>12472.0</td>\n",
       "      <td>Germany</td>\n",
       "    </tr>\n",
       "    <tr>\n",
       "      <th>1978</th>\n",
       "      <td>C536548</td>\n",
       "      <td>22767</td>\n",
       "      <td>TRIPLE PHOTO FRAME CORNICE</td>\n",
       "      <td>-2</td>\n",
       "      <td>2010-12-01 14:33:00</td>\n",
       "      <td>9.95</td>\n",
       "      <td>12472.0</td>\n",
       "      <td>Germany</td>\n",
       "    </tr>\n",
       "    <tr>\n",
       "      <th>1979</th>\n",
       "      <td>C536548</td>\n",
       "      <td>22333</td>\n",
       "      <td>RETROSPOT PARTY BAG + STICKER SET</td>\n",
       "      <td>-1</td>\n",
       "      <td>2010-12-01 14:33:00</td>\n",
       "      <td>1.65</td>\n",
       "      <td>12472.0</td>\n",
       "      <td>Germany</td>\n",
       "    </tr>\n",
       "    <tr>\n",
       "      <th>1980</th>\n",
       "      <td>C536548</td>\n",
       "      <td>22245</td>\n",
       "      <td>HOOK, 1 HANGER ,MAGIC GARDEN</td>\n",
       "      <td>-2</td>\n",
       "      <td>2010-12-01 14:33:00</td>\n",
       "      <td>0.85</td>\n",
       "      <td>12472.0</td>\n",
       "      <td>Germany</td>\n",
       "    </tr>\n",
       "    <tr>\n",
       "      <th>1981</th>\n",
       "      <td>C536548</td>\n",
       "      <td>22077</td>\n",
       "      <td>6 RIBBONS RUSTIC CHARM</td>\n",
       "      <td>-6</td>\n",
       "      <td>2010-12-01 14:33:00</td>\n",
       "      <td>1.65</td>\n",
       "      <td>12472.0</td>\n",
       "      <td>Germany</td>\n",
       "    </tr>\n",
       "    <tr>\n",
       "      <th>1982</th>\n",
       "      <td>C536548</td>\n",
       "      <td>22631</td>\n",
       "      <td>CIRCUS PARADE LUNCH BOX</td>\n",
       "      <td>-1</td>\n",
       "      <td>2010-12-01 14:33:00</td>\n",
       "      <td>1.95</td>\n",
       "      <td>12472.0</td>\n",
       "      <td>Germany</td>\n",
       "    </tr>\n",
       "    <tr>\n",
       "      <th>1983</th>\n",
       "      <td>C536548</td>\n",
       "      <td>22168</td>\n",
       "      <td>ORGANISER WOOD ANTIQUE WHITE</td>\n",
       "      <td>-2</td>\n",
       "      <td>2010-12-01 14:33:00</td>\n",
       "      <td>8.50</td>\n",
       "      <td>12472.0</td>\n",
       "      <td>Germany</td>\n",
       "    </tr>\n",
       "    <tr>\n",
       "      <th>1984</th>\n",
       "      <td>C536548</td>\n",
       "      <td>21218</td>\n",
       "      <td>RED SPOTTY BISCUIT TIN</td>\n",
       "      <td>-3</td>\n",
       "      <td>2010-12-01 14:33:00</td>\n",
       "      <td>3.75</td>\n",
       "      <td>12472.0</td>\n",
       "      <td>Germany</td>\n",
       "    </tr>\n",
       "    <tr>\n",
       "      <th>1985</th>\n",
       "      <td>C536548</td>\n",
       "      <td>20957</td>\n",
       "      <td>PORCELAIN HANGING BELL SMALL</td>\n",
       "      <td>-1</td>\n",
       "      <td>2010-12-01 14:33:00</td>\n",
       "      <td>1.45</td>\n",
       "      <td>12472.0</td>\n",
       "      <td>Germany</td>\n",
       "    </tr>\n",
       "    <tr>\n",
       "      <th>1986</th>\n",
       "      <td>C536548</td>\n",
       "      <td>22580</td>\n",
       "      <td>ADVENT CALENDAR GINGHAM SACK</td>\n",
       "      <td>-4</td>\n",
       "      <td>2010-12-01 14:33:00</td>\n",
       "      <td>5.95</td>\n",
       "      <td>12472.0</td>\n",
       "      <td>Germany</td>\n",
       "    </tr>\n",
       "    <tr>\n",
       "      <th>2406</th>\n",
       "      <td>536589</td>\n",
       "      <td>21777</td>\n",
       "      <td>NaN</td>\n",
       "      <td>-10</td>\n",
       "      <td>2010-12-01 16:50:00</td>\n",
       "      <td>0.00</td>\n",
       "      <td>NaN</td>\n",
       "      <td>United Kingdom</td>\n",
       "    </tr>\n",
       "    <tr>\n",
       "      <th>3170</th>\n",
       "      <td>C536606</td>\n",
       "      <td>20914</td>\n",
       "      <td>SET/5 RED RETROSPOT LID GLASS BOWLS</td>\n",
       "      <td>-2</td>\n",
       "      <td>2010-12-02 09:10:00</td>\n",
       "      <td>2.95</td>\n",
       "      <td>14092.0</td>\n",
       "      <td>United Kingdom</td>\n",
       "    </tr>\n",
       "    <tr>\n",
       "      <th>3338</th>\n",
       "      <td>C536622</td>\n",
       "      <td>22752</td>\n",
       "      <td>SET 7 BABUSHKA NESTING BOXES</td>\n",
       "      <td>-2</td>\n",
       "      <td>2010-12-02 10:37:00</td>\n",
       "      <td>8.50</td>\n",
       "      <td>12471.0</td>\n",
       "      <td>Germany</td>\n",
       "    </tr>\n",
       "    <tr>\n",
       "      <th>3410</th>\n",
       "      <td>C536625</td>\n",
       "      <td>22839</td>\n",
       "      <td>3 TIER CAKE TIN GREEN AND CREAM</td>\n",
       "      <td>-2</td>\n",
       "      <td>2010-12-02 10:46:00</td>\n",
       "      <td>14.95</td>\n",
       "      <td>14766.0</td>\n",
       "      <td>United Kingdom</td>\n",
       "    </tr>\n",
       "    <tr>\n",
       "      <th>3693</th>\n",
       "      <td>C536642</td>\n",
       "      <td>21463</td>\n",
       "      <td>MIRRORED DISCO BALL</td>\n",
       "      <td>-1</td>\n",
       "      <td>2010-12-02 11:56:00</td>\n",
       "      <td>5.95</td>\n",
       "      <td>14390.0</td>\n",
       "      <td>United Kingdom</td>\n",
       "    </tr>\n",
       "    <tr>\n",
       "      <th>3911</th>\n",
       "      <td>C536734</td>\n",
       "      <td>22780</td>\n",
       "      <td>LIGHT GARLAND BUTTERFILES PINK</td>\n",
       "      <td>-4</td>\n",
       "      <td>2010-12-02 12:50:00</td>\n",
       "      <td>4.25</td>\n",
       "      <td>16042.0</td>\n",
       "      <td>United Kingdom</td>\n",
       "    </tr>\n",
       "    <tr>\n",
       "      <th>3912</th>\n",
       "      <td>C536734</td>\n",
       "      <td>85048</td>\n",
       "      <td>15CM CHRISTMAS GLASS BALL 20 LIGHTS</td>\n",
       "      <td>-1</td>\n",
       "      <td>2010-12-02 12:50:00</td>\n",
       "      <td>7.95</td>\n",
       "      <td>16042.0</td>\n",
       "      <td>United Kingdom</td>\n",
       "    </tr>\n",
       "    <tr>\n",
       "      <th>3919</th>\n",
       "      <td>C536737</td>\n",
       "      <td>22798</td>\n",
       "      <td>ANTIQUE GLASS DRESSING TABLE POT</td>\n",
       "      <td>-2</td>\n",
       "      <td>2010-12-02 13:05:00</td>\n",
       "      <td>2.95</td>\n",
       "      <td>15922.0</td>\n",
       "      <td>United Kingdom</td>\n",
       "    </tr>\n",
       "    <tr>\n",
       "      <th>4287</th>\n",
       "      <td>C536757</td>\n",
       "      <td>84347</td>\n",
       "      <td>ROTATING SILVER ANGELS T-LIGHT HLDR</td>\n",
       "      <td>-9360</td>\n",
       "      <td>2010-12-02 14:23:00</td>\n",
       "      <td>0.03</td>\n",
       "      <td>15838.0</td>\n",
       "      <td>United Kingdom</td>\n",
       "    </tr>\n",
       "    <tr>\n",
       "      <th>4288</th>\n",
       "      <td>C536758</td>\n",
       "      <td>21314</td>\n",
       "      <td>SMALL GLASS HEART TRINKET POT</td>\n",
       "      <td>-1</td>\n",
       "      <td>2010-12-02 14:25:00</td>\n",
       "      <td>2.10</td>\n",
       "      <td>13767.0</td>\n",
       "      <td>United Kingdom</td>\n",
       "    </tr>\n",
       "    <tr>\n",
       "      <th>4306</th>\n",
       "      <td>C536760</td>\n",
       "      <td>22175</td>\n",
       "      <td>PINK OWL SOFT TOY</td>\n",
       "      <td>-1</td>\n",
       "      <td>2010-12-02 14:29:00</td>\n",
       "      <td>2.95</td>\n",
       "      <td>17547.0</td>\n",
       "      <td>United Kingdom</td>\n",
       "    </tr>\n",
       "    <tr>\n",
       "      <th>4307</th>\n",
       "      <td>C536760</td>\n",
       "      <td>22273</td>\n",
       "      <td>FELTCRAFT DOLL MOLLY</td>\n",
       "      <td>-3</td>\n",
       "      <td>2010-12-02 14:29:00</td>\n",
       "      <td>2.95</td>\n",
       "      <td>17547.0</td>\n",
       "      <td>United Kingdom</td>\n",
       "    </tr>\n",
       "    <tr>\n",
       "      <th>4347</th>\n",
       "      <td>536764</td>\n",
       "      <td>84952C</td>\n",
       "      <td>NaN</td>\n",
       "      <td>-38</td>\n",
       "      <td>2010-12-02 14:42:00</td>\n",
       "      <td>0.00</td>\n",
       "      <td>NaN</td>\n",
       "      <td>United Kingdom</td>\n",
       "    </tr>\n",
       "    <tr>\n",
       "      <th>4836</th>\n",
       "      <td>C536807</td>\n",
       "      <td>22501</td>\n",
       "      <td>PICNIC BASKET WICKER LARGE</td>\n",
       "      <td>-2</td>\n",
       "      <td>2010-12-02 16:45:00</td>\n",
       "      <td>9.95</td>\n",
       "      <td>15834.0</td>\n",
       "      <td>United Kingdom</td>\n",
       "    </tr>\n",
       "    <tr>\n",
       "      <th>4837</th>\n",
       "      <td>C536807</td>\n",
       "      <td>22778</td>\n",
       "      <td>GLASS CLOCHE SMALL</td>\n",
       "      <td>-1</td>\n",
       "      <td>2010-12-02 16:45:00</td>\n",
       "      <td>3.95</td>\n",
       "      <td>15834.0</td>\n",
       "      <td>United Kingdom</td>\n",
       "    </tr>\n",
       "    <tr>\n",
       "      <th>4853</th>\n",
       "      <td>C536812</td>\n",
       "      <td>22578</td>\n",
       "      <td>WOODEN STAR CHRISTMAS SCANDINAVIAN</td>\n",
       "      <td>-36</td>\n",
       "      <td>2010-12-02 16:58:00</td>\n",
       "      <td>0.85</td>\n",
       "      <td>16546.0</td>\n",
       "      <td>United Kingdom</td>\n",
       "    </tr>\n",
       "    <tr>\n",
       "      <th>4854</th>\n",
       "      <td>C536812</td>\n",
       "      <td>22574</td>\n",
       "      <td>HEART WOODEN CHRISTMAS DECORATION</td>\n",
       "      <td>-192</td>\n",
       "      <td>2010-12-02 16:58:00</td>\n",
       "      <td>0.72</td>\n",
       "      <td>16546.0</td>\n",
       "      <td>United Kingdom</td>\n",
       "    </tr>\n",
       "    <tr>\n",
       "      <th>4855</th>\n",
       "      <td>C536812</td>\n",
       "      <td>22593</td>\n",
       "      <td>CHRISTMAS GINGHAM STAR</td>\n",
       "      <td>-144</td>\n",
       "      <td>2010-12-02 16:58:00</td>\n",
       "      <td>0.72</td>\n",
       "      <td>16546.0</td>\n",
       "      <td>United Kingdom</td>\n",
       "    </tr>\n",
       "    <tr>\n",
       "      <th>4856</th>\n",
       "      <td>C536812</td>\n",
       "      <td>22595</td>\n",
       "      <td>CHRISTMAS GINGHAM HEART</td>\n",
       "      <td>-144</td>\n",
       "      <td>2010-12-02 16:58:00</td>\n",
       "      <td>0.72</td>\n",
       "      <td>16546.0</td>\n",
       "      <td>United Kingdom</td>\n",
       "    </tr>\n",
       "    <tr>\n",
       "      <th>4857</th>\n",
       "      <td>C536812</td>\n",
       "      <td>22588</td>\n",
       "      <td>CARD HOLDER GINGHAM HEART</td>\n",
       "      <td>-192</td>\n",
       "      <td>2010-12-02 16:58:00</td>\n",
       "      <td>2.10</td>\n",
       "      <td>16546.0</td>\n",
       "      <td>United Kingdom</td>\n",
       "    </tr>\n",
       "    <tr>\n",
       "      <th>4858</th>\n",
       "      <td>C536812</td>\n",
       "      <td>22130</td>\n",
       "      <td>PARTY CONE CHRISTMAS DECORATION</td>\n",
       "      <td>-144</td>\n",
       "      <td>2010-12-02 16:58:00</td>\n",
       "      <td>0.72</td>\n",
       "      <td>16546.0</td>\n",
       "      <td>United Kingdom</td>\n",
       "    </tr>\n",
       "    <tr>\n",
       "      <th>4876</th>\n",
       "      <td>C536814</td>\n",
       "      <td>21527</td>\n",
       "      <td>RED RETROSPOT TRADITIONAL TEAPOT</td>\n",
       "      <td>-2</td>\n",
       "      <td>2010-12-02 17:03:00</td>\n",
       "      <td>7.95</td>\n",
       "      <td>13958.0</td>\n",
       "      <td>United Kingdom</td>\n",
       "    </tr>\n",
       "    <tr>\n",
       "      <th>4877</th>\n",
       "      <td>C536814</td>\n",
       "      <td>72799E</td>\n",
       "      <td>IVORY PILLAR CANDLE SILVER FLOCK</td>\n",
       "      <td>-6</td>\n",
       "      <td>2010-12-02 17:03:00</td>\n",
       "      <td>2.95</td>\n",
       "      <td>13958.0</td>\n",
       "      <td>United Kingdom</td>\n",
       "    </tr>\n",
       "    <tr>\n",
       "      <th>4878</th>\n",
       "      <td>C536814</td>\n",
       "      <td>85066</td>\n",
       "      <td>CREAM SWEETHEART MINI CHEST</td>\n",
       "      <td>-2</td>\n",
       "      <td>2010-12-02 17:03:00</td>\n",
       "      <td>12.75</td>\n",
       "      <td>13958.0</td>\n",
       "      <td>United Kingdom</td>\n",
       "    </tr>\n",
       "  </tbody>\n",
       "</table>\n",
       "</div>"
      ],
      "text/plain": [
       "     InvoiceNo StockCode                          Description  Quantity  \\\n",
       "141    C536379         D                             Discount        -1   \n",
       "154    C536383    35004C      SET OF 3 COLOURED  FLYING DUCKS        -1   \n",
       "235    C536391     22556       PLASTERS IN TIN CIRCUS PARADE        -12   \n",
       "236    C536391     21984     PACK OF 12 PINK PAISLEY TISSUES        -24   \n",
       "237    C536391     21983     PACK OF 12 BLUE PAISLEY TISSUES        -24   \n",
       "238    C536391     21980    PACK OF 12 RED RETROSPOT TISSUES        -24   \n",
       "239    C536391     21484          CHICK GREY HOT WATER BOTTLE       -12   \n",
       "240    C536391     22557     PLASTERS IN TIN VINTAGE PAISLEY        -12   \n",
       "241    C536391     22553               PLASTERS IN TIN SKULLS       -24   \n",
       "939    C536506     22960             JAM MAKING SET WITH JARS        -6   \n",
       "1441   C536543     22632            HAND WARMER RED RETROSPOT        -1   \n",
       "1442   C536543     22355            CHARLOTTE BAG SUKI DESIGN        -2   \n",
       "1973   C536548     22244           3 HOOK HANGER MAGIC GARDEN        -4   \n",
       "1974   C536548     22242        5 HOOK HANGER MAGIC TOADSTOOL        -5   \n",
       "1975   C536548     20914  SET/5 RED RETROSPOT LID GLASS BOWLS        -1   \n",
       "1976   C536548     22892    SET OF SALT AND PEPPER TOADSTOOLS        -7   \n",
       "1977   C536548     22654                   DELUXE SEWING KIT         -1   \n",
       "1978   C536548     22767          TRIPLE PHOTO FRAME CORNICE         -2   \n",
       "1979   C536548     22333    RETROSPOT PARTY BAG + STICKER SET        -1   \n",
       "1980   C536548     22245         HOOK, 1 HANGER ,MAGIC GARDEN        -2   \n",
       "1981   C536548     22077               6 RIBBONS RUSTIC CHARM        -6   \n",
       "1982   C536548     22631             CIRCUS PARADE LUNCH BOX         -1   \n",
       "1983   C536548     22168        ORGANISER WOOD ANTIQUE WHITE         -2   \n",
       "1984   C536548     21218               RED SPOTTY BISCUIT TIN        -3   \n",
       "1985   C536548     20957         PORCELAIN HANGING BELL SMALL        -1   \n",
       "1986   C536548     22580         ADVENT CALENDAR GINGHAM SACK        -4   \n",
       "2406    536589     21777                                  NaN       -10   \n",
       "3170   C536606     20914  SET/5 RED RETROSPOT LID GLASS BOWLS        -2   \n",
       "3338   C536622     22752         SET 7 BABUSHKA NESTING BOXES        -2   \n",
       "3410   C536625     22839      3 TIER CAKE TIN GREEN AND CREAM        -2   \n",
       "3693   C536642     21463                 MIRRORED DISCO BALL         -1   \n",
       "3911   C536734     22780       LIGHT GARLAND BUTTERFILES PINK        -4   \n",
       "3912   C536734     85048  15CM CHRISTMAS GLASS BALL 20 LIGHTS        -1   \n",
       "3919   C536737     22798     ANTIQUE GLASS DRESSING TABLE POT        -2   \n",
       "4287   C536757     84347  ROTATING SILVER ANGELS T-LIGHT HLDR     -9360   \n",
       "4288   C536758     21314        SMALL GLASS HEART TRINKET POT        -1   \n",
       "4306   C536760     22175                    PINK OWL SOFT TOY        -1   \n",
       "4307   C536760     22273                 FELTCRAFT DOLL MOLLY        -3   \n",
       "4347    536764    84952C                                  NaN       -38   \n",
       "4836   C536807     22501           PICNIC BASKET WICKER LARGE        -2   \n",
       "4837   C536807     22778                   GLASS CLOCHE SMALL        -1   \n",
       "4853   C536812     22578   WOODEN STAR CHRISTMAS SCANDINAVIAN       -36   \n",
       "4854   C536812     22574    HEART WOODEN CHRISTMAS DECORATION      -192   \n",
       "4855   C536812     22593               CHRISTMAS GINGHAM STAR      -144   \n",
       "4856   C536812     22595              CHRISTMAS GINGHAM HEART      -144   \n",
       "4857   C536812     22588            CARD HOLDER GINGHAM HEART      -192   \n",
       "4858   C536812     22130     PARTY CONE CHRISTMAS DECORATION       -144   \n",
       "4876   C536814     21527    RED RETROSPOT TRADITIONAL TEAPOT         -2   \n",
       "4877   C536814    72799E     IVORY PILLAR CANDLE SILVER FLOCK        -6   \n",
       "4878   C536814     85066          CREAM SWEETHEART MINI CHEST        -2   \n",
       "\n",
       "             InvoiceDate  UnitPrice  CustomerID         Country  \n",
       "141  2010-12-01 09:41:00      27.50     14527.0  United Kingdom  \n",
       "154  2010-12-01 09:49:00       4.65     15311.0  United Kingdom  \n",
       "235  2010-12-01 10:24:00       1.65     17548.0  United Kingdom  \n",
       "236  2010-12-01 10:24:00       0.29     17548.0  United Kingdom  \n",
       "237  2010-12-01 10:24:00       0.29     17548.0  United Kingdom  \n",
       "238  2010-12-01 10:24:00       0.29     17548.0  United Kingdom  \n",
       "239  2010-12-01 10:24:00       3.45     17548.0  United Kingdom  \n",
       "240  2010-12-01 10:24:00       1.65     17548.0  United Kingdom  \n",
       "241  2010-12-01 10:24:00       1.65     17548.0  United Kingdom  \n",
       "939  2010-12-01 12:38:00       4.25     17897.0  United Kingdom  \n",
       "1441 2010-12-01 14:30:00       2.10     17841.0  United Kingdom  \n",
       "1442 2010-12-01 14:30:00       0.85     17841.0  United Kingdom  \n",
       "1973 2010-12-01 14:33:00       1.95     12472.0         Germany  \n",
       "1974 2010-12-01 14:33:00       1.65     12472.0         Germany  \n",
       "1975 2010-12-01 14:33:00       2.95     12472.0         Germany  \n",
       "1976 2010-12-01 14:33:00       1.25     12472.0         Germany  \n",
       "1977 2010-12-01 14:33:00       5.95     12472.0         Germany  \n",
       "1978 2010-12-01 14:33:00       9.95     12472.0         Germany  \n",
       "1979 2010-12-01 14:33:00       1.65     12472.0         Germany  \n",
       "1980 2010-12-01 14:33:00       0.85     12472.0         Germany  \n",
       "1981 2010-12-01 14:33:00       1.65     12472.0         Germany  \n",
       "1982 2010-12-01 14:33:00       1.95     12472.0         Germany  \n",
       "1983 2010-12-01 14:33:00       8.50     12472.0         Germany  \n",
       "1984 2010-12-01 14:33:00       3.75     12472.0         Germany  \n",
       "1985 2010-12-01 14:33:00       1.45     12472.0         Germany  \n",
       "1986 2010-12-01 14:33:00       5.95     12472.0         Germany  \n",
       "2406 2010-12-01 16:50:00       0.00         NaN  United Kingdom  \n",
       "3170 2010-12-02 09:10:00       2.95     14092.0  United Kingdom  \n",
       "3338 2010-12-02 10:37:00       8.50     12471.0         Germany  \n",
       "3410 2010-12-02 10:46:00      14.95     14766.0  United Kingdom  \n",
       "3693 2010-12-02 11:56:00       5.95     14390.0  United Kingdom  \n",
       "3911 2010-12-02 12:50:00       4.25     16042.0  United Kingdom  \n",
       "3912 2010-12-02 12:50:00       7.95     16042.0  United Kingdom  \n",
       "3919 2010-12-02 13:05:00       2.95     15922.0  United Kingdom  \n",
       "4287 2010-12-02 14:23:00       0.03     15838.0  United Kingdom  \n",
       "4288 2010-12-02 14:25:00       2.10     13767.0  United Kingdom  \n",
       "4306 2010-12-02 14:29:00       2.95     17547.0  United Kingdom  \n",
       "4307 2010-12-02 14:29:00       2.95     17547.0  United Kingdom  \n",
       "4347 2010-12-02 14:42:00       0.00         NaN  United Kingdom  \n",
       "4836 2010-12-02 16:45:00       9.95     15834.0  United Kingdom  \n",
       "4837 2010-12-02 16:45:00       3.95     15834.0  United Kingdom  \n",
       "4853 2010-12-02 16:58:00       0.85     16546.0  United Kingdom  \n",
       "4854 2010-12-02 16:58:00       0.72     16546.0  United Kingdom  \n",
       "4855 2010-12-02 16:58:00       0.72     16546.0  United Kingdom  \n",
       "4856 2010-12-02 16:58:00       0.72     16546.0  United Kingdom  \n",
       "4857 2010-12-02 16:58:00       2.10     16546.0  United Kingdom  \n",
       "4858 2010-12-02 16:58:00       0.72     16546.0  United Kingdom  \n",
       "4876 2010-12-02 17:03:00       7.95     13958.0  United Kingdom  \n",
       "4877 2010-12-02 17:03:00       2.95     13958.0  United Kingdom  \n",
       "4878 2010-12-02 17:03:00      12.75     13958.0  United Kingdom  "
      ]
     },
     "execution_count": 8,
     "metadata": {},
     "output_type": "execute_result"
    }
   ],
   "source": [
    "neg_df.head(50)"
   ]
  },
  {
   "cell_type": "markdown",
   "metadata": {
    "papermill": {
     "duration": 0.050764,
     "end_time": "2021-04-04T21:00:06.205813",
     "exception": false,
     "start_time": "2021-04-04T21:00:06.155049",
     "status": "completed"
    },
    "tags": []
   },
   "source": [
    "Cancellations could amount to the negative quantity. Let's check for refunds. These can happen for\n",
    "- Quantity lower than total bought quantity\n",
    "- Bought after the purchase date\n",
    "- Same customer id"
   ]
  },
  {
   "cell_type": "code",
   "execution_count": 9,
   "metadata": {
    "execution": {
     "iopub.execute_input": "2021-04-04T21:00:06.312188Z",
     "iopub.status.busy": "2021-04-04T21:00:06.311319Z",
     "iopub.status.idle": "2021-04-04T21:00:06.661347Z",
     "shell.execute_reply": "2021-04-04T21:00:06.660535Z"
    },
    "papermill": {
     "duration": 0.404115,
     "end_time": "2021-04-04T21:00:06.661647",
     "exception": false,
     "start_time": "2021-04-04T21:00:06.257532",
     "status": "completed"
    },
    "tags": []
   },
   "outputs": [
    {
     "name": "stdout",
     "output_type": "stream",
     "text": [
      "Refunds exists\n"
     ]
    }
   ],
   "source": [
    "check_for_truth = []\n",
    "\n",
    "for j in neg_df.index:  \n",
    "    \n",
    "        for_ref = pos_df[(neg_df[\"CustomerID\"].loc[j]==pos_df[\"CustomerID\"]) & \\\n",
    "        (neg_df[\"Description\"].loc[j]==pos_df[\"Description\"])\\\n",
    "         &  (neg_df[\"InvoiceDate\"].loc[j]>pos_df[\"InvoiceDate\"]) & \\\n",
    "         (abs(neg_df[\"Quantity\"].loc[j])<=pos_df[\"Quantity\"])]\n",
    "        \n",
    "        if len(for_ref)>0:\n",
    "            print(\"Refunds exists\")\n",
    "            break    \n",
    "        \n",
    "        \n"
   ]
  },
  {
   "cell_type": "markdown",
   "metadata": {
    "papermill": {
     "duration": 0.051198,
     "end_time": "2021-04-04T21:00:06.764542",
     "exception": false,
     "start_time": "2021-04-04T21:00:06.713344",
     "status": "completed"
    },
    "tags": []
   },
   "source": [
    "### Let's check which items contribute to the most refunds"
   ]
  },
  {
   "cell_type": "code",
   "execution_count": 10,
   "metadata": {
    "execution": {
     "iopub.execute_input": "2021-04-04T21:00:06.879555Z",
     "iopub.status.busy": "2021-04-04T21:00:06.878640Z",
     "iopub.status.idle": "2021-04-04T21:00:07.111089Z",
     "shell.execute_reply": "2021-04-04T21:00:07.110591Z"
    },
    "papermill": {
     "duration": 0.29532,
     "end_time": "2021-04-04T21:00:07.111229",
     "exception": false,
     "start_time": "2021-04-04T21:00:06.815909",
     "status": "completed"
    },
    "tags": []
   },
   "outputs": [
    {
     "data": {
      "image/png": "[encoded data removed]",
      "text/plain": [
       "<Figure size 720x720 with 1 Axes>"
      ]
     },
     "metadata": {},
     "output_type": "display_data"
    }
   ],
   "source": [
    "df_neg = neg_df[['Quantity','Description']].groupby(\"Description\").sum()\n",
    "df_neg[\"Quantity\"] = abs(df_neg[\"Quantity\"])\n",
    "\n",
    "plt.figure(figsize=(10,10))\n",
    "df_neg = df_neg.nlargest(10,columns=\"Quantity\")\n",
    "plt.title(\"Top 10 items that were refunded\")\n",
    "plt.pie(df_neg[\"Quantity\"].to_list(),labels=df_neg.index,autopct='%1.1f%%')\n",
    "plt.show()"
   ]
  },
  {
   "cell_type": "markdown",
   "metadata": {
    "papermill": {
     "duration": 0.054442,
     "end_time": "2021-04-04T21:00:07.221258",
     "exception": false,
     "start_time": "2021-04-04T21:00:07.166816",
     "status": "completed"
    },
    "tags": []
   },
   "source": [
    "- Paper craft little birdie along with medium ceramic top storage jar are the most refunded\n",
    "- Refunded item details will not be deleted from the dataframe as they are vital later for correctly finding the revenue retention\n",
    "- Additionally there are items mentioned as unsaleable, destroyed, printing smudges/thrown away which don't point to a specific item. These can be checked with stockcode"
   ]
  },
  {
   "cell_type": "code",
   "execution_count": 11,
   "metadata": {
    "execution": {
     "iopub.execute_input": "2021-04-04T21:00:07.369013Z",
     "iopub.status.busy": "2021-04-04T21:00:07.364347Z",
     "iopub.status.idle": "2021-04-04T21:00:07.444770Z",
     "shell.execute_reply": "2021-04-04T21:00:07.445163Z"
    },
    "papermill": {
     "duration": 0.169342,
     "end_time": "2021-04-04T21:00:07.445328",
     "exception": false,
     "start_time": "2021-04-04T21:00:07.275986",
     "status": "completed"
    },
    "tags": []
   },
   "outputs": [
    {
     "name": "stdout",
     "output_type": "stream",
     "text": [
      "       InvoiceNo StockCode                   Description  Quantity  \\\n",
      "225529    556690     23005  printing smudges/thrown away     -9600   \n",
      "225530    556691     23005  printing smudges/thrown away     -9600   \n",
      "\n",
      "               InvoiceDate  UnitPrice  CustomerID         Country  \n",
      "225529 2011-06-14 10:37:00        0.0         NaN  United Kingdom  \n",
      "225530 2011-06-14 10:37:00        0.0         NaN  United Kingdom  \n",
      "       InvoiceNo StockCode             Description  Quantity  \\\n",
      "431375    573590    79323G  Unsaleable, destroyed.      -657   \n",
      "431376    573591    79323B  Unsaleable, destroyed.     -1671   \n",
      "431377    573592   79323GR  Unsaleable, destroyed.     -1158   \n",
      "431378    573593   79323LP  Unsaleable, destroyed.     -2618   \n",
      "431379    573594    79323P  Unsaleable, destroyed.     -2003   \n",
      "431380    573595    79323S  Unsaleable, destroyed.      -674   \n",
      "431381    573596    79323W  Unsaleable, destroyed.     -4830   \n",
      "431382    573597     79341  Unsaleable, destroyed.      -905   \n",
      "431383    573598    79342B  Unsaleable, destroyed.     -1128   \n",
      "\n",
      "               InvoiceDate  UnitPrice  CustomerID         Country  \n",
      "431375 2011-10-31 15:15:00        0.0         NaN  United Kingdom  \n",
      "431376 2011-10-31 15:15:00        0.0         NaN  United Kingdom  \n",
      "431377 2011-10-31 15:16:00        0.0         NaN  United Kingdom  \n",
      "431378 2011-10-31 15:16:00        0.0         NaN  United Kingdom  \n",
      "431379 2011-10-31 15:16:00        0.0         NaN  United Kingdom  \n",
      "431380 2011-10-31 15:17:00        0.0         NaN  United Kingdom  \n",
      "431381 2011-10-31 15:17:00        0.0         NaN  United Kingdom  \n",
      "431382 2011-10-31 15:18:00        0.0         NaN  United Kingdom  \n",
      "431383 2011-10-31 15:18:00        0.0         NaN  United Kingdom  \n",
      "       InvoiceNo StockCode Description  Quantity         InvoiceDate  \\\n",
      "13217     537425    84968F       check       -20 2010-12-06 15:35:00   \n",
      "13218     537426    84968E       check       -35 2010-12-06 15:36:00   \n",
      "108577    545546    84249A       check      -150 2011-03-03 15:03:00   \n",
      "113580    545990     84598       check     -3000 2011-03-08 13:07:00   \n",
      "381676    569875    90195A       check       -45 2011-10-06 15:07:00   \n",
      "...          ...       ...         ...       ...                 ...   \n",
      "535325    581202     23404       check        41 2011-12-07 18:30:00   \n",
      "535331    581208    72801C       check       -10 2011-12-07 18:35:00   \n",
      "535333    581210     23395       check       -26 2011-12-07 18:36:00   \n",
      "535334    581211     22142       check        14 2011-12-07 18:36:00   \n",
      "535336    581213     22576       check       -30 2011-12-07 18:38:00   \n",
      "\n",
      "        UnitPrice  CustomerID         Country  \n",
      "13217         0.0         NaN  United Kingdom  \n",
      "13218         0.0         NaN  United Kingdom  \n",
      "108577        0.0         NaN  United Kingdom  \n",
      "113580        0.0         NaN  United Kingdom  \n",
      "381676        0.0         NaN  United Kingdom  \n",
      "...           ...         ...             ...  \n",
      "535325        0.0         NaN  United Kingdom  \n",
      "535331        0.0         NaN  United Kingdom  \n",
      "535333        0.0         NaN  United Kingdom  \n",
      "535334        0.0         NaN  United Kingdom  \n",
      "535336        0.0         NaN  United Kingdom  \n",
      "\n",
      "[159 rows x 8 columns]\n"
     ]
    }
   ],
   "source": [
    "print(df[df.Description==\"printing smudges/thrown away\"])\n",
    "\n",
    "print(df[df.Description==\"Unsaleable, destroyed.\"])\n",
    "\n",
    "print(df[df.Description==\"check\"])"
   ]
  },
  {
   "cell_type": "markdown",
   "metadata": {
    "papermill": {
     "duration": 0.053614,
     "end_time": "2021-04-04T21:00:07.553187",
     "exception": false,
     "start_time": "2021-04-04T21:00:07.499573",
     "status": "completed"
    },
    "tags": []
   },
   "source": [
    "- Since, they lack a CustomerID, they could be refunds at the company level i.e. refunds during purchase from the supplier\n",
    "- Let's delete null values and find correctly the items that were refunded"
   ]
  },
  {
   "cell_type": "markdown",
   "metadata": {
    "papermill": {
     "duration": 0.055543,
     "end_time": "2021-04-04T21:00:08.407653",
     "exception": false,
     "start_time": "2021-04-04T21:00:08.352110",
     "status": "completed"
    },
    "tags": []
   },
   "source": [
    "- Let's check for negative price"
   ]
  },
  {
   "cell_type": "code",
   "execution_count": 12,
   "metadata": {
    "execution": {
     "iopub.execute_input": "2021-04-04T21:00:08.524363Z",
     "iopub.status.busy": "2021-04-04T21:00:08.523816Z",
     "iopub.status.idle": "2021-04-04T21:00:08.531630Z",
     "shell.execute_reply": "2021-04-04T21:00:08.532055Z"
    },
    "papermill": {
     "duration": 0.068873,
     "end_time": "2021-04-04T21:00:08.532203",
     "exception": false,
     "start_time": "2021-04-04T21:00:08.463330",
     "status": "completed"
    },
    "tags": []
   },
   "outputs": [
    {
     "name": "stdout",
     "output_type": "stream",
     "text": [
      "       InvoiceNo StockCode      Description  Quantity         InvoiceDate  \\\n",
      "299983   A563186         B  Adjust bad debt         1 2011-08-12 14:51:00   \n",
      "299984   A563187         B  Adjust bad debt         1 2011-08-12 14:52:00   \n",
      "\n",
      "        UnitPrice  CustomerID         Country  \n",
      "299983  -11062.06         NaN  United Kingdom  \n",
      "299984  -11062.06         NaN  United Kingdom  \n"
     ]
    }
   ],
   "source": [
    "neg_price = df[df[\"UnitPrice\"]<0]\n",
    "print(neg_price)"
   ]
  },
  {
   "cell_type": "markdown",
   "metadata": {
    "papermill": {
     "duration": 0.056353,
     "end_time": "2021-04-04T21:00:08.644675",
     "exception": false,
     "start_time": "2021-04-04T21:00:08.588322",
     "status": "completed"
    },
    "tags": []
   },
   "source": [
    "- Since this does not count as a customer, let's delete it "
   ]
  },
  {
   "cell_type": "code",
   "execution_count": 13,
   "metadata": {
    "execution": {
     "iopub.execute_input": "2021-04-04T21:00:08.762988Z",
     "iopub.status.busy": "2021-04-04T21:00:08.762334Z",
     "iopub.status.idle": "2021-04-04T21:00:08.814403Z",
     "shell.execute_reply": "2021-04-04T21:00:08.813917Z"
    },
    "papermill": {
     "duration": 0.113457,
     "end_time": "2021-04-04T21:00:08.814559",
     "exception": false,
     "start_time": "2021-04-04T21:00:08.701102",
     "status": "completed"
    },
    "tags": []
   },
   "outputs": [],
   "source": [
    "df = df[df[\"UnitPrice\"]>0]"
   ]
  },
  {
   "cell_type": "markdown",
   "metadata": {
    "papermill": {
     "duration": 0.056401,
     "end_time": "2021-04-04T21:00:08.927673",
     "exception": false,
     "start_time": "2021-04-04T21:00:08.871272",
     "status": "completed"
    },
    "tags": []
   },
   "source": [
    "- Remove possible duplicates and check for null values"
   ]
  },
  {
   "cell_type": "code",
   "execution_count": 14,
   "metadata": {
    "execution": {
     "iopub.execute_input": "2021-04-04T21:00:09.056036Z",
     "iopub.status.busy": "2021-04-04T21:00:09.055399Z",
     "iopub.status.idle": "2021-04-04T21:00:09.482580Z",
     "shell.execute_reply": "2021-04-04T21:00:09.482098Z"
    },
    "papermill": {
     "duration": 0.49845,
     "end_time": "2021-04-04T21:00:09.482713",
     "exception": false,
     "start_time": "2021-04-04T21:00:08.984263",
     "status": "completed"
    },
    "tags": []
   },
   "outputs": [
    {
     "data": {
      "text/plain": [
       "InvoiceNo           0\n",
       "StockCode           0\n",
       "Description         0\n",
       "Quantity            0\n",
       "InvoiceDate         0\n",
       "UnitPrice           0\n",
       "CustomerID     132565\n",
       "Country             0\n",
       "dtype: int64"
      ]
     },
     "execution_count": 14,
     "metadata": {},
     "output_type": "execute_result"
    }
   ],
   "source": [
    "df = df.drop_duplicates(keep='first')\n",
    "df.isnull().sum()"
   ]
  },
  {
   "cell_type": "markdown",
   "metadata": {
    "papermill": {
     "duration": 0.057301,
     "end_time": "2021-04-04T21:00:09.596986",
     "exception": false,
     "start_time": "2021-04-04T21:00:09.539685",
     "status": "completed"
    },
    "tags": []
   },
   "source": [
    "- From above, some descriptions are NaN, but they don't appear here.\n",
    "- Maybe they are text, let's find them and convert them to null values"
   ]
  },
  {
   "cell_type": "code",
   "execution_count": 15,
   "metadata": {
    "execution": {
     "iopub.execute_input": "2021-04-04T21:00:09.715980Z",
     "iopub.status.busy": "2021-04-04T21:00:09.715300Z",
     "iopub.status.idle": "2021-04-04T21:00:09.943750Z",
     "shell.execute_reply": "2021-04-04T21:00:09.944155Z"
    },
    "papermill": {
     "duration": 0.290116,
     "end_time": "2021-04-04T21:00:09.944321",
     "exception": false,
     "start_time": "2021-04-04T21:00:09.654205",
     "status": "completed"
    },
    "tags": []
   },
   "outputs": [
    {
     "name": "stdout",
     "output_type": "stream",
     "text": [
      "InvoiceNo           0\n",
      "StockCode           0\n",
      "Description         0\n",
      "Quantity            0\n",
      "InvoiceDate         0\n",
      "UnitPrice           0\n",
      "CustomerID     132565\n",
      "Country             0\n",
      "dtype: int64\n"
     ]
    }
   ],
   "source": [
    "df[\"Description\"] = df[\"Description\"].apply(lambda x:np.nan if x.lower() == \"nan\" else x)\n",
    "print(df.isnull().sum()) # Seems to be zero for zero unit price"
   ]
  },
  {
   "cell_type": "code",
   "execution_count": 16,
   "metadata": {
    "execution": {
     "iopub.execute_input": "2021-04-04T21:00:10.065584Z",
     "iopub.status.busy": "2021-04-04T21:00:10.064632Z",
     "iopub.status.idle": "2021-04-04T21:00:10.085239Z",
     "shell.execute_reply": "2021-04-04T21:00:10.084682Z"
    },
    "papermill": {
     "duration": 0.083663,
     "end_time": "2021-04-04T21:00:10.085424",
     "exception": false,
     "start_time": "2021-04-04T21:00:10.001761",
     "status": "completed"
    },
    "tags": []
   },
   "outputs": [
    {
     "name": "stdout",
     "output_type": "stream",
     "text": [
      "       InvoiceNo StockCode                      Description  Quantity  \\\n",
      "1443      536544     21773  DECORATIVE ROSE BATHROOM BOTTLE         1   \n",
      "1444      536544     21774  DECORATIVE CATS BATHROOM BOTTLE         2   \n",
      "1445      536544     21786               POLKADOT RAIN HAT          4   \n",
      "1446      536544     21787            RAIN PONCHO RETROSPOT         2   \n",
      "1447      536544     21790               VINTAGE SNAP CARDS         9   \n",
      "...          ...       ...                              ...       ...   \n",
      "541536    581498    85099B          JUMBO BAG RED RETROSPOT         5   \n",
      "541537    581498    85099C   JUMBO  BAG BAROQUE BLACK WHITE         4   \n",
      "541538    581498     85150    LADIES & GENTLEMEN METAL SIGN         1   \n",
      "541539    581498     85174                S/4 CACTI CANDLES         1   \n",
      "541540    581498       DOT                   DOTCOM POSTAGE         1   \n",
      "\n",
      "               InvoiceDate  UnitPrice  CustomerID         Country  \n",
      "1443   2010-12-01 14:32:00       2.51         NaN  United Kingdom  \n",
      "1444   2010-12-01 14:32:00       2.51         NaN  United Kingdom  \n",
      "1445   2010-12-01 14:32:00       0.85         NaN  United Kingdom  \n",
      "1446   2010-12-01 14:32:00       1.66         NaN  United Kingdom  \n",
      "1447   2010-12-01 14:32:00       1.66         NaN  United Kingdom  \n",
      "...                    ...        ...         ...             ...  \n",
      "541536 2011-12-09 10:26:00       4.13         NaN  United Kingdom  \n",
      "541537 2011-12-09 10:26:00       4.13         NaN  United Kingdom  \n",
      "541538 2011-12-09 10:26:00       4.96         NaN  United Kingdom  \n",
      "541539 2011-12-09 10:26:00      10.79         NaN  United Kingdom  \n",
      "541540 2011-12-09 10:26:00    1714.17         NaN  United Kingdom  \n",
      "\n",
      "[132565 rows x 8 columns]\n"
     ]
    }
   ],
   "source": [
    "print(df[df[\"CustomerID\"].isna()])"
   ]
  },
  {
   "cell_type": "markdown",
   "metadata": {
    "papermill": {
     "duration": 0.057998,
     "end_time": "2021-04-04T21:00:10.201901",
     "exception": false,
     "start_time": "2021-04-04T21:00:10.143903",
     "status": "completed"
    },
    "tags": []
   },
   "source": [
    "- This could probably be customers whose details have not been taken down\n",
    "- To ensure our analysis are correct, drop rows with null values throughout\n",
    "- Additionally some items are coded less than 5, they seem to some kind of delivery charge"
   ]
  },
  {
   "cell_type": "code",
   "execution_count": 17,
   "metadata": {
    "execution": {
     "iopub.execute_input": "2021-04-04T21:00:10.323474Z",
     "iopub.status.busy": "2021-04-04T21:00:10.322897Z",
     "iopub.status.idle": "2021-04-04T21:00:10.820581Z",
     "shell.execute_reply": "2021-04-04T21:00:10.820031Z"
    },
    "papermill": {
     "duration": 0.560877,
     "end_time": "2021-04-04T21:00:10.820723",
     "exception": false,
     "start_time": "2021-04-04T21:00:10.259846",
     "status": "completed"
    },
    "tags": []
   },
   "outputs": [
    {
     "name": "stdout",
     "output_type": "stream",
     "text": [
      "InvoiceNo\n",
      "StockCode\n",
      "Country\n",
      "Description\n",
      "       InvoiceNo StockCode                          Description  Quantity  \\\n",
      "0         536365    85123A   WHITE HANGING HEART T-LIGHT HOLDER         6   \n",
      "1         536365     71053                  WHITE METAL LANTERN         6   \n",
      "2         536365    84406B       CREAM CUPID HEARTS COAT HANGER         8   \n",
      "3         536365    84029G  KNITTED UNION FLAG HOT WATER BOTTLE         6   \n",
      "4         536365    84029E       RED WOOLLY HOTTIE WHITE HEART.         6   \n",
      "...          ...       ...                                  ...       ...   \n",
      "541904    581587     22613          PACK OF 20 SPACEBOY NAPKINS        12   \n",
      "541905    581587     22899         CHILDREN'S APRON DOLLY GIRL          6   \n",
      "541906    581587     23254        CHILDRENS CUTLERY DOLLY GIRL          4   \n",
      "541907    581587     23255      CHILDRENS CUTLERY CIRCUS PARADE         4   \n",
      "541908    581587     22138        BAKING SET 9 PIECE RETROSPOT          3   \n",
      "\n",
      "               InvoiceDate  UnitPrice  CustomerID         Country  \n",
      "0      2010-12-01 08:26:00       2.55     17850.0  United Kingdom  \n",
      "1      2010-12-01 08:26:00       3.39     17850.0  United Kingdom  \n",
      "2      2010-12-01 08:26:00       2.75     17850.0  United Kingdom  \n",
      "3      2010-12-01 08:26:00       3.39     17850.0  United Kingdom  \n",
      "4      2010-12-01 08:26:00       3.39     17850.0  United Kingdom  \n",
      "...                    ...        ...         ...             ...  \n",
      "541904 2011-12-09 12:50:00       0.85     12680.0          France  \n",
      "541905 2011-12-09 12:50:00       2.10     12680.0          France  \n",
      "541906 2011-12-09 12:50:00       4.15     12680.0          France  \n",
      "541907 2011-12-09 12:50:00       4.15     12680.0          France  \n",
      "541908 2011-12-09 12:50:00       4.95     12680.0          France  \n",
      "\n",
      "[401564 rows x 8 columns]\n"
     ]
    }
   ],
   "source": [
    "# String nan\n",
    "columns = [\"InvoiceNo\",\"StockCode\",\"Country\",\"Description\"]\n",
    "for column in columns:\n",
    "    print(column)\n",
    "    df[column] = df[column].apply(lambda x:np.nan if x.lower==\"nan\" else x)   \n",
    "  \n",
    "df.dropna(inplace=True)\n",
    "print(df)"
   ]
  },
  {
   "cell_type": "markdown",
   "metadata": {
    "papermill": {
     "duration": 0.059128,
     "end_time": "2021-04-04T21:00:10.938791",
     "exception": false,
     "start_time": "2021-04-04T21:00:10.879663",
     "status": "completed"
    },
    "tags": []
   },
   "source": [
    "Lets look at the stock code especially where there are instance of codes with length less than 5"
   ]
  },
  {
   "cell_type": "code",
   "execution_count": 18,
   "metadata": {
    "execution": {
     "iopub.execute_input": "2021-04-04T21:00:11.079768Z",
     "iopub.status.busy": "2021-04-04T21:00:11.078743Z",
     "iopub.status.idle": "2021-04-04T21:00:11.213029Z",
     "shell.execute_reply": "2021-04-04T21:00:11.212321Z"
    },
    "papermill": {
     "duration": 0.215144,
     "end_time": "2021-04-04T21:00:11.213218",
     "exception": false,
     "start_time": "2021-04-04T21:00:10.998074",
     "status": "completed"
    },
    "tags": []
   },
   "outputs": [
    {
     "name": "stdout",
     "output_type": "stream",
     "text": [
      "POST    1196\n",
      "M        454\n",
      "C2       134\n",
      "D         77\n",
      "DOT       16\n",
      "CRUK      16\n",
      "PADS       3\n",
      "Name: StockCode, dtype: int64\n"
     ]
    }
   ],
   "source": [
    "df_sc = df[df.StockCode.str.len()<5]\n",
    "print(df_sc[\"StockCode\"].value_counts())"
   ]
  },
  {
   "cell_type": "code",
   "execution_count": 19,
   "metadata": {
    "execution": {
     "iopub.execute_input": "2021-04-04T21:00:11.342818Z",
     "iopub.status.busy": "2021-04-04T21:00:11.338261Z",
     "iopub.status.idle": "2021-04-04T21:00:11.358614Z",
     "shell.execute_reply": "2021-04-04T21:00:11.357822Z"
    },
    "papermill": {
     "duration": 0.086594,
     "end_time": "2021-04-04T21:00:11.358794",
     "exception": false,
     "start_time": "2021-04-04T21:00:11.272200",
     "status": "completed"
    },
    "tags": []
   },
   "outputs": [
    {
     "name": "stdout",
     "output_type": "stream",
     "text": [
      "POST 45    POSTAGE\n",
      "Name: Description, dtype: object\n",
      "DOT 317507    DOTCOM POSTAGE\n",
      "Name: Description, dtype: object\n",
      "M 2239    Manual\n",
      "Name: Description, dtype: object\n",
      "C2 1423    CARRIAGE\n",
      "Name: Description, dtype: object\n",
      "D 141    Discount\n",
      "Name: Description, dtype: object\n",
      "S Series([], Name: Description, dtype: object)\n",
      "CRUK 317508    CRUK Commission\n",
      "Name: Description, dtype: object\n",
      "PADS 157195    PADS TO MATCH ALL CUSHIONS\n",
      "Name: Description, dtype: object\n",
      "B Series([], Name: Description, dtype: object)\n",
      "M 2239    Manual\n",
      "Name: Description, dtype: object\n"
     ]
    }
   ],
   "source": [
    "print(\"POST\",df_sc[df_sc.StockCode==\"POST\"][\"Description\"].head(1))\n",
    "print(\"DOT\",df_sc[df_sc.StockCode==\"DOT\"][\"Description\"].head(1)) \n",
    "print(\"M\",df_sc[df_sc.StockCode==\"M\"][\"Description\"].head(1)) \n",
    "print(\"C2\",df_sc[df_sc.StockCode==\"C2\"][\"Description\"].head(1))\n",
    "print(\"D\",df_sc[df_sc.StockCode==\"D\"][\"Description\"].head(1)) \n",
    "print(\"S\",df_sc[df_sc.StockCode==\"S\"][\"Description\"].head(1))\n",
    "print(\"CRUK\",df_sc[df_sc.StockCode==\"CRUK\"][\"Description\"].head(1))\n",
    "print(\"PADS\",df_sc[df_sc.StockCode==\"PADS\"][\"Description\"].head(1))\n",
    "print(\"B\",df_sc[df_sc.StockCode==\"B\"][\"Description\"].head(1))\n",
    "print(\"M\",df_sc[df_sc.StockCode==\"M\"][\"Description\"].head(1))"
   ]
  },
  {
   "cell_type": "markdown",
   "metadata": {
    "papermill": {
     "duration": 0.059062,
     "end_time": "2021-04-04T21:00:11.477456",
     "exception": false,
     "start_time": "2021-04-04T21:00:11.418394",
     "status": "completed"
    },
    "tags": []
   },
   "source": [
    "- These seem to be additional charges for delivery and additional services. It would be better to remove them as they might inflate the revenue figures (except for discount)\n",
    "- Before that, let's check for stock code greater than 5"
   ]
  },
  {
   "cell_type": "code",
   "execution_count": 20,
   "metadata": {
    "execution": {
     "iopub.execute_input": "2021-04-04T21:00:11.617037Z",
     "iopub.status.busy": "2021-04-04T21:00:11.616467Z",
     "iopub.status.idle": "2021-04-04T21:00:11.965943Z",
     "shell.execute_reply": "2021-04-04T21:00:11.966591Z"
    },
    "papermill": {
     "duration": 0.430914,
     "end_time": "2021-04-04T21:00:11.966813",
     "exception": false,
     "start_time": "2021-04-04T21:00:11.535899",
     "status": "completed"
    },
    "tags": []
   },
   "outputs": [
    {
     "name": "stdout",
     "output_type": "stream",
     "text": [
      "  InvoiceNo StockCode                         Description  Quantity  \\\n",
      "0    536365    85123A  WHITE HANGING HEART T-LIGHT HOLDER         6   \n",
      "2    536365    84406B      CREAM CUPID HEARTS COAT HANGER         8   \n",
      "\n",
      "          InvoiceDate  UnitPrice  CustomerID         Country  \n",
      "0 2010-12-01 08:26:00       2.55     17850.0  United Kingdom  \n",
      "2 2010-12-01 08:26:00       2.75     17850.0  United Kingdom  \n",
      "    InvoiceNo StockCode              Description  Quantity  \\\n",
      "132    536381   15056BL  EDWARDIAN PARASOL BLACK         2   \n",
      "281    536396   15056BL  EDWARDIAN PARASOL BLACK         6   \n",
      "\n",
      "            InvoiceDate  UnitPrice  CustomerID         Country  \n",
      "132 2010-12-01 09:41:00       5.95     15311.0  United Kingdom  \n",
      "281 2010-12-01 10:51:00       4.95     17850.0  United Kingdom  \n",
      "      InvoiceNo     StockCode   Description  Quantity         InvoiceDate  \\\n",
      "4406     536779  BANK CHARGES  Bank Charges         1 2010-12-02 15:08:00   \n",
      "62508    541505  BANK CHARGES  Bank Charges         1 2011-01-18 15:58:00   \n",
      "\n",
      "       UnitPrice  CustomerID         Country  \n",
      "4406        15.0     15823.0  United Kingdom  \n",
      "62508       15.0     15939.0  United Kingdom  \n"
     ]
    }
   ],
   "source": [
    "df_sc = df[(df.StockCode.str.len()>5)]\n",
    "print(df_sc.head(2))\n",
    "df_sc = df[(df.StockCode.str.len()>6)]\n",
    "print(df_sc.head(2))\n",
    "df_sc = df[(df.StockCode.str.len()>7)]\n",
    "print(df_sc.head(2))"
   ]
  },
  {
   "cell_type": "markdown",
   "metadata": {
    "papermill": {
     "duration": 0.060756,
     "end_time": "2021-04-04T21:00:12.087741",
     "exception": false,
     "start_time": "2021-04-04T21:00:12.026985",
     "status": "completed"
    },
    "tags": []
   },
   "source": [
    "- Delete additional and bank charges as bank charges might be due to transaction charges and will inflate actual revenue to the company through customers"
   ]
  },
  {
   "cell_type": "code",
   "execution_count": 21,
   "metadata": {
    "execution": {
     "iopub.execute_input": "2021-04-04T21:00:12.228975Z",
     "iopub.status.busy": "2021-04-04T21:00:12.228099Z",
     "iopub.status.idle": "2021-04-04T21:00:12.521218Z",
     "shell.execute_reply": "2021-04-04T21:00:12.521702Z"
    },
    "papermill": {
     "duration": 0.374582,
     "end_time": "2021-04-04T21:00:12.521877",
     "exception": false,
     "start_time": "2021-04-04T21:00:12.147295",
     "status": "completed"
    },
    "tags": []
   },
   "outputs": [],
   "source": [
    "df = df[~((df.StockCode.str.len()<5) & (df.StockCode!=\"D\"))]\n",
    "df = df[df.StockCode.str.lower() !=\"bank charges\"]"
   ]
  },
  {
   "cell_type": "markdown",
   "metadata": {
    "papermill": {
     "duration": 0.058897,
     "end_time": "2021-04-04T21:00:12.640003",
     "exception": false,
     "start_time": "2021-04-04T21:00:12.581106",
     "status": "completed"
    },
    "tags": []
   },
   "source": [
    "- Let's further check stock code. Is each product associated with a single stock code"
   ]
  },
  {
   "cell_type": "code",
   "execution_count": 22,
   "metadata": {
    "execution": {
     "iopub.execute_input": "2021-04-04T21:00:12.764931Z",
     "iopub.status.busy": "2021-04-04T21:00:12.764233Z",
     "iopub.status.idle": "2021-04-04T21:00:14.554688Z",
     "shell.execute_reply": "2021-04-04T21:00:14.555135Z"
    },
    "papermill": {
     "duration": 1.855642,
     "end_time": "2021-04-04T21:00:14.555296",
     "exception": false,
     "start_time": "2021-04-04T21:00:12.699654",
     "status": "completed"
    },
    "tags": []
   },
   "outputs": [
    {
     "data": {
      "text/plain": [
       "<AxesSubplot:xlabel='StockCode'>"
      ]
     },
     "execution_count": 22,
     "metadata": {},
     "output_type": "execute_result"
    },
    {
     "data": {
      "image/png": "[encoded data removed]",
      "text/plain": [
       "<Figure size 1440x720 with 1 Axes>"
      ]
     },
     "metadata": {},
     "output_type": "display_data"
    }
   ],
   "source": [
    "stock_code_df = df[[\"StockCode\",\"Description\"]].groupby(\"StockCode\")[\"Description\"].nunique()\n",
    "stock_code_df = stock_code_df.sort_values(ascending=False)\n",
    "plt.figure(figsize=(20,10))\n",
    "stock_code_df.head(100).plot(kind='bar')"
   ]
  },
  {
   "cell_type": "code",
   "execution_count": 23,
   "metadata": {
    "execution": {
     "iopub.execute_input": "2021-04-04T21:00:14.681989Z",
     "iopub.status.busy": "2021-04-04T21:00:14.681306Z",
     "iopub.status.idle": "2021-04-04T21:00:15.046007Z",
     "shell.execute_reply": "2021-04-04T21:00:15.046461Z"
    },
    "papermill": {
     "duration": 0.430588,
     "end_time": "2021-04-04T21:00:15.046632",
     "exception": false,
     "start_time": "2021-04-04T21:00:14.616044",
     "status": "completed"
    },
    "tags": []
   },
   "outputs": [
    {
     "name": "stdout",
     "output_type": "stream",
     "text": [
      "['Product for stock code 23196: RETRO LEAVES MAGNETIC NOTEPAD'\n",
      " 'Product for stock code 23196: RETO LEAVES MAGNETIC SHOPPING LIST'\n",
      " 'Product for stock code 23196: LEAVES MAGNETIC  SHOPPING LIST'\n",
      " 'Product for stock code 23196: VINTAGE LEAF MAGNETIC NOTEPAD']\n",
      "['Product for stock code 23236: DOILEY STORAGE TIN'\n",
      " 'Product for stock code 23236: DOILEY BISCUIT TIN'\n",
      " 'Product for stock code 23236: STORAGE TIN VINTAGE DOILY '\n",
      " 'Product for stock code 23236: STORAGE TIN VINTAGE DOILEY ']\n",
      "['Product for stock code 21243: PINK  POLKADOT PLATE '\n",
      " 'Product for stock code 21243: PINK POLKADOT PLATE ']\n"
     ]
    }
   ],
   "source": [
    "stockcode = df[[\"StockCode\",\"Description\"]].groupby(\"StockCode\")[\"Description\"].unique()\n",
    "print(\"Product for stock code 23196: \" + stockcode.at[\"23196\"])\n",
    "\n",
    "print(\"Product for stock code 23236: \" + stockcode.at[\"23236\"])\n",
    "\n",
    "print(\"Product for stock code 21243: \" + stockcode.at[\"21243\"])"
   ]
  },
  {
   "cell_type": "markdown",
   "metadata": {
    "papermill": {
     "duration": 0.060647,
     "end_time": "2021-04-04T21:00:15.168807",
     "exception": false,
     "start_time": "2021-04-04T21:00:15.108160",
     "status": "completed"
    },
    "tags": []
   },
   "source": [
    "- Stockcode seems to denote similar items from different suppliers or with different spellings\n",
    "- So rather than analysing with product descriptions, it would be advisable with stock codes for some of the analysis"
   ]
  },
  {
   "cell_type": "markdown",
   "metadata": {
    "papermill": {
     "duration": 0.081543,
     "end_time": "2021-04-04T21:01:16.081178",
     "exception": false,
     "start_time": "2021-04-04T21:01:15.999635",
     "status": "completed"
    },
    "tags": []
   },
   "source": [
    "# Derivation of marketing strategies"
   ]
  },
  {
   "cell_type": "markdown",
   "metadata": {
    "papermill": {
     "duration": 0.0802,
     "end_time": "2021-04-04T21:01:16.243446",
     "exception": false,
     "start_time": "2021-04-04T21:01:16.163246",
     "status": "completed"
    },
    "tags": []
   },
   "source": [
    "## Customer segmentation will be achieved with an RFM matrix. It has three indicators \n",
    "```\n",
    "1. Recency - When the customer last bought from the store. Calculated with the difference between the last date of purchase ever to date of purchase\n",
    "2. Frequency - No of times customer has bought from the store\n",
    "3. Monetary - Total purchase from the customer\n",
    "```"
   ]
  },
  {
   "cell_type": "markdown",
   "metadata": {
    "papermill": {
     "duration": 0.080525,
     "end_time": "2021-04-04T21:01:16.405075",
     "exception": false,
     "start_time": "2021-04-04T21:01:16.324550",
     "status": "completed"
    },
    "tags": []
   },
   "source": [
    "- Here, let's analyse only based on purchases not based on returns or cancellations\n",
    "- For UK alone, for targeted marketing"
   ]
  },
  {
   "cell_type": "code",
   "execution_count": 24,
   "metadata": {
    "execution": {
     "iopub.execute_input": "2021-04-04T21:01:16.587137Z",
     "iopub.status.busy": "2021-04-04T21:01:16.586133Z",
     "iopub.status.idle": "2021-04-04T21:01:16.810038Z",
     "shell.execute_reply": "2021-04-04T21:01:16.809445Z"
    },
    "papermill": {
     "duration": 0.324188,
     "end_time": "2021-04-04T21:01:16.810181",
     "exception": false,
     "start_time": "2021-04-04T21:01:16.485993",
     "status": "completed"
    },
    "tags": []
   },
   "outputs": [],
   "source": [
    "df = df.loc[df.Country==\"Germany\",:]\n",
    "df = df[~df['InvoiceNo'].str.contains('C', na=False)]\n",
    "df = df[df[\"Quantity\"]>0]\n",
    "df[\"Individual Revenue\"] = df[\"Quantity\"]*df[\"UnitPrice\"]\n",
    "\n",
    "# Non consideration of discounts\n",
    "df = df[df[\"StockCode\"]!='D']"
   ]
  },
  {
   "cell_type": "code",
   "execution_count": 25,
   "metadata": {
    "execution": {
     "iopub.execute_input": "2021-04-04T21:01:16.979495Z",
     "iopub.status.busy": "2021-04-04T21:01:16.978859Z",
     "iopub.status.idle": "2021-04-04T21:01:17.392209Z",
     "shell.execute_reply": "2021-04-04T21:01:17.392657Z"
    },
    "papermill": {
     "duration": 0.501001,
     "end_time": "2021-04-04T21:01:17.392828",
     "exception": false,
     "start_time": "2021-04-04T21:01:16.891827",
     "status": "completed"
    },
    "tags": []
   },
   "outputs": [
    {
     "name": "stdout",
     "output_type": "stream",
     "text": [
      "            Recency  Frequency  Monetary\n",
      "CustomerID                              \n",
      "12426.0         193         29    510.73\n",
      "12427.0          21         28    699.80\n",
      "12468.0         187         36    657.54\n",
      "12471.0           1        438  17388.65\n",
      "12472.0          31        332   6068.11\n",
      "...             ...        ...       ...\n",
      "13814.0          91         57   1579.12\n",
      "13815.0          21        173   3667.36\n",
      "13816.0          23         26    499.67\n",
      "13817.0          28         22    328.98\n",
      "14335.0          15         60    454.86\n",
      "\n",
      "[94 rows x 3 columns]\n"
     ]
    }
   ],
   "source": [
    "# Latest purchase\n",
    "max_date = df[\"InvoiceDate\"].max()\n",
    "\n",
    "rfm_df = df.groupby(\"CustomerID\").agg({\"InvoiceDate\":lambda date: (max_date - date.max()).days,\n",
    "                                      \"InvoiceNo\": 'count',\n",
    "                                      \"Individual Revenue\":'sum'})\n",
    "\n",
    "rfm_df.rename(columns={\"InvoiceDate\":\"Recency\",\"InvoiceNo\":\"Frequency\",\"Individual Revenue\":\"Monetary\"},inplace=True)\n",
    "print(rfm_df)"
   ]
  },
  {
   "cell_type": "code",
   "execution_count": 26,
   "metadata": {},
   "outputs": [
    {
     "data": {
      "text/plain": [
       "Recency      0\n",
       "Frequency    0\n",
       "Monetary     0\n",
       "dtype: int64"
      ]
     },
     "execution_count": 26,
     "metadata": {},
     "output_type": "execute_result"
    }
   ],
   "source": [
    "rfm_df.isnull().sum()"
   ]
  },
  {
   "cell_type": "code",
   "execution_count": 27,
   "metadata": {},
   "outputs": [
    {
     "name": "stdout",
     "output_type": "stream",
     "text": [
      "root\n",
      " |-- Recency: long (nullable = true)\n",
      " |-- Frequency: long (nullable = true)\n",
      " |-- Monetary: double (nullable = true)\n",
      "\n"
     ]
    },
    {
     "ename": "Py4JJavaError",
     "evalue": "An error occurred while calling o43.showString.\n: org.apache.spark.SparkException: Job aborted due to stage failure: Task 0 in stage 0.0 failed 1 times, most recent failure: Lost task 0.0 in stage 0.0 (TID 0) (DESKTOP-8JC0254.mshome.net executor driver): org.apache.spark.SparkException: Python worker failed to connect back.\r\n\tat org.apache.spark.api.python.PythonWorkerFactory.createSimpleWorker(PythonWorkerFactory.scala:182)\r\n\tat org.apache.spark.api.python.PythonWorkerFactory.create(PythonWorkerFactory.scala:107)\r\n\tat org.apache.spark.SparkEnv.createPythonWorker(SparkEnv.scala:119)\r\n\tat org.apache.spark.api.python.BasePythonRunner.compute(PythonRunner.scala:145)\r\n\tat org.apache.spark.api.python.PythonRDD.compute(PythonRDD.scala:65)\r\n\tat org.apache.spark.rdd.RDD.computeOrReadCheckpoint(RDD.scala:373)\r\n\tat org.apache.spark.rdd.RDD.iterator(RDD.scala:337)\r\n\tat org.apache.spark.rdd.MapPartitionsRDD.compute(MapPartitionsRDD.scala:52)\r\n\tat org.apache.spark.rdd.RDD.computeOrReadCheckpoint(RDD.scala:373)\r\n\tat org.apache.spark.rdd.RDD.iterator(RDD.scala:337)\r\n\tat org.apache.spark.rdd.MapPartitionsRDD.compute(MapPartitionsRDD.scala:52)\r\n\tat org.apache.spark.rdd.RDD.computeOrReadCheckpoint(RDD.scala:373)\r\n\tat org.apache.spark.rdd.RDD.iterator(RDD.scala:337)\r\n\tat org.apache.spark.rdd.MapPartitionsRDD.compute(MapPartitionsRDD.scala:52)\r\n\tat org.apache.spark.rdd.RDD.computeOrReadCheckpoint(RDD.scala:373)\r\n\tat org.apache.spark.rdd.RDD.iterator(RDD.scala:337)\r\n\tat org.apache.spark.rdd.MapPartitionsRDD.compute(MapPartitionsRDD.scala:52)\r\n\tat org.apache.spark.rdd.RDD.computeOrReadCheckpoint(RDD.scala:373)\r\n\tat org.apache.spark.rdd.RDD.iterator(RDD.scala:337)\r\n\tat org.apache.spark.rdd.MapPartitionsRDD.compute(MapPartitionsRDD.scala:52)\r\n\tat org.apache.spark.rdd.RDD.computeOrReadCheckpoint(RDD.scala:373)\r\n\tat org.apache.spark.rdd.RDD.iterator(RDD.scala:337)\r\n\tat org.apache.spark.scheduler.ResultTask.runTask(ResultTask.scala:90)\r\n\tat org.apache.spark.scheduler.Task.run(Task.scala:131)\r\n\tat org.apache.spark.executor.Executor$TaskRunner.$anonfun$run$3(Executor.scala:497)\r\n\tat org.apache.spark.util.Utils$.tryWithSafeFinally(Utils.scala:1439)\r\n\tat org.apache.spark.executor.Executor$TaskRunner.run(Executor.scala:500)\r\n\tat java.util.concurrent.ThreadPoolExecutor.runWorker(Unknown Source)\r\n\tat java.util.concurrent.ThreadPoolExecutor$Worker.run(Unknown Source)\r\n\tat java.lang.Thread.run(Unknown Source)\r\nCaused by: java.net.SocketTimeoutException: Accept timed out\r\n\tat java.net.DualStackPlainSocketImpl.waitForNewConnection(Native Method)\r\n\tat java.net.DualStackPlainSocketImpl.socketAccept(Unknown Source)\r\n\tat java.net.AbstractPlainSocketImpl.accept(Unknown Source)\r\n\tat java.net.PlainSocketImpl.accept(Unknown Source)\r\n\tat java.net.ServerSocket.implAccept(Unknown Source)\r\n\tat java.net.ServerSocket.accept(Unknown Source)\r\n\tat org.apache.spark.api.python.PythonWorkerFactory.createSimpleWorker(PythonWorkerFactory.scala:174)\r\n\t... 29 more\r\n\nDriver stacktrace:\r\n\tat org.apache.spark.scheduler.DAGScheduler.failJobAndIndependentStages(DAGScheduler.scala:2258)\r\n\tat org.apache.spark.scheduler.DAGScheduler.$anonfun$abortStage$2(DAGScheduler.scala:2207)\r\n\tat org.apache.spark.scheduler.DAGScheduler.$anonfun$abortStage$2$adapted(DAGScheduler.scala:2206)\r\n\tat scala.collection.mutable.ResizableArray.foreach(ResizableArray.scala:62)\r\n\tat scala.collection.mutable.ResizableArray.foreach$(ResizableArray.scala:55)\r\n\tat scala.collection.mutable.ArrayBuffer.foreach(ArrayBuffer.scala:49)\r\n\tat org.apache.spark.scheduler.DAGScheduler.abortStage(DAGScheduler.scala:2206)\r\n\tat org.apache.spark.scheduler.DAGScheduler.$anonfun$handleTaskSetFailed$1(DAGScheduler.scala:1079)\r\n\tat org.apache.spark.scheduler.DAGScheduler.$anonfun$handleTaskSetFailed$1$adapted(DAGScheduler.scala:1079)\r\n\tat scala.Option.foreach(Option.scala:407)\r\n\tat org.apache.spark.scheduler.DAGScheduler.handleTaskSetFailed(DAGScheduler.scala:1079)\r\n\tat org.apache.spark.scheduler.DAGSchedulerEventProcessLoop.doOnReceive(DAGScheduler.scala:2445)\r\n\tat org.apache.spark.scheduler.DAGSchedulerEventProcessLoop.onReceive(DAGScheduler.scala:2387)\r\n\tat org.apache.spark.scheduler.DAGSchedulerEventProcessLoop.onReceive(DAGScheduler.scala:2376)\r\n\tat org.apache.spark.util.EventLoop$$anon$1.run(EventLoop.scala:49)\r\n\tat org.apache.spark.scheduler.DAGScheduler.runJob(DAGScheduler.scala:868)\r\n\tat org.apache.spark.SparkContext.runJob(SparkContext.scala:2196)\r\n\tat org.apache.spark.SparkContext.runJob(SparkContext.scala:2217)\r\n\tat org.apache.spark.SparkContext.runJob(SparkContext.scala:2236)\r\n\tat org.apache.spark.sql.execution.SparkPlan.executeTake(SparkPlan.scala:472)\r\n\tat org.apache.spark.sql.execution.SparkPlan.executeTake(SparkPlan.scala:425)\r\n\tat org.apache.spark.sql.execution.CollectLimitExec.executeCollect(limit.scala:47)\r\n\tat org.apache.spark.sql.Dataset.collectFromPlan(Dataset.scala:3696)\r\n\tat org.apache.spark.sql.Dataset.$anonfun$head$1(Dataset.scala:2722)\r\n\tat org.apache.spark.sql.Dataset.$anonfun$withAction$1(Dataset.scala:3687)\r\n\tat org.apache.spark.sql.execution.SQLExecution$.$anonfun$withNewExecutionId$5(SQLExecution.scala:103)\r\n\tat org.apache.spark.sql.execution.SQLExecution$.withSQLConfPropagated(SQLExecution.scala:163)\r\n\tat org.apache.spark.sql.execution.SQLExecution$.$anonfun$withNewExecutionId$1(SQLExecution.scala:90)\r\n\tat org.apache.spark.sql.SparkSession.withActive(SparkSession.scala:775)\r\n\tat org.apache.spark.sql.execution.SQLExecution$.withNewExecutionId(SQLExecution.scala:64)\r\n\tat org.apache.spark.sql.Dataset.withAction(Dataset.scala:3685)\r\n\tat org.apache.spark.sql.Dataset.head(Dataset.scala:2722)\r\n\tat org.apache.spark.sql.Dataset.take(Dataset.scala:2929)\r\n\tat org.apache.spark.sql.Dataset.getRows(Dataset.scala:301)\r\n\tat org.apache.spark.sql.Dataset.showString(Dataset.scala:338)\r\n\tat sun.reflect.NativeMethodAccessorImpl.invoke0(Native Method)\r\n\tat sun.reflect.NativeMethodAccessorImpl.invoke(Unknown Source)\r\n\tat sun.reflect.DelegatingMethodAccessorImpl.invoke(Unknown Source)\r\n\tat java.lang.reflect.Method.invoke(Unknown Source)\r\n\tat py4j.reflection.MethodInvoker.invoke(MethodInvoker.java:244)\r\n\tat py4j.reflection.ReflectionEngine.invoke(ReflectionEngine.java:357)\r\n\tat py4j.Gateway.invoke(Gateway.java:282)\r\n\tat py4j.commands.AbstractCommand.invokeMethod(AbstractCommand.java:132)\r\n\tat py4j.commands.CallCommand.execute(CallCommand.java:79)\r\n\tat py4j.GatewayConnection.run(GatewayConnection.java:238)\r\n\tat java.lang.Thread.run(Unknown Source)\r\nCaused by: org.apache.spark.SparkException: Python worker failed to connect back.\r\n\tat org.apache.spark.api.python.PythonWorkerFactory.createSimpleWorker(PythonWorkerFactory.scala:182)\r\n\tat org.apache.spark.api.python.PythonWorkerFactory.create(PythonWorkerFactory.scala:107)\r\n\tat org.apache.spark.SparkEnv.createPythonWorker(SparkEnv.scala:119)\r\n\tat org.apache.spark.api.python.BasePythonRunner.compute(PythonRunner.scala:145)\r\n\tat org.apache.spark.api.python.PythonRDD.compute(PythonRDD.scala:65)\r\n\tat org.apache.spark.rdd.RDD.computeOrReadCheckpoint(RDD.scala:373)\r\n\tat org.apache.spark.rdd.RDD.iterator(RDD.scala:337)\r\n\tat org.apache.spark.rdd.MapPartitionsRDD.compute(MapPartitionsRDD.scala:52)\r\n\tat org.apache.spark.rdd.RDD.computeOrReadCheckpoint(RDD.scala:373)\r\n\tat org.apache.spark.rdd.RDD.iterator(RDD.scala:337)\r\n\tat org.apache.spark.rdd.MapPartitionsRDD.compute(MapPartitionsRDD.scala:52)\r\n\tat org.apache.spark.rdd.RDD.computeOrReadCheckpoint(RDD.scala:373)\r\n\tat org.apache.spark.rdd.RDD.iterator(RDD.scala:337)\r\n\tat org.apache.spark.rdd.MapPartitionsRDD.compute(MapPartitionsRDD.scala:52)\r\n\tat org.apache.spark.rdd.RDD.computeOrReadCheckpoint(RDD.scala:373)\r\n\tat org.apache.spark.rdd.RDD.iterator(RDD.scala:337)\r\n\tat org.apache.spark.rdd.MapPartitionsRDD.compute(MapPartitionsRDD.scala:52)\r\n\tat org.apache.spark.rdd.RDD.computeOrReadCheckpoint(RDD.scala:373)\r\n\tat org.apache.spark.rdd.RDD.iterator(RDD.scala:337)\r\n\tat org.apache.spark.rdd.MapPartitionsRDD.compute(MapPartitionsRDD.scala:52)\r\n\tat org.apache.spark.rdd.RDD.computeOrReadCheckpoint(RDD.scala:373)\r\n\tat org.apache.spark.rdd.RDD.iterator(RDD.scala:337)\r\n\tat org.apache.spark.scheduler.ResultTask.runTask(ResultTask.scala:90)\r\n\tat org.apache.spark.scheduler.Task.run(Task.scala:131)\r\n\tat org.apache.spark.executor.Executor$TaskRunner.$anonfun$run$3(Executor.scala:497)\r\n\tat org.apache.spark.util.Utils$.tryWithSafeFinally(Utils.scala:1439)\r\n\tat org.apache.spark.executor.Executor$TaskRunner.run(Executor.scala:500)\r\n\tat java.util.concurrent.ThreadPoolExecutor.runWorker(Unknown Source)\r\n\tat java.util.concurrent.ThreadPoolExecutor$Worker.run(Unknown Source)\r\n\t... 1 more\r\nCaused by: java.net.SocketTimeoutException: Accept timed out\r\n\tat java.net.DualStackPlainSocketImpl.waitForNewConnection(Native Method)\r\n\tat java.net.DualStackPlainSocketImpl.socketAccept(Unknown Source)\r\n\tat java.net.AbstractPlainSocketImpl.accept(Unknown Source)\r\n\tat java.net.PlainSocketImpl.accept(Unknown Source)\r\n\tat java.net.ServerSocket.implAccept(Unknown Source)\r\n\tat java.net.ServerSocket.accept(Unknown Source)\r\n\tat org.apache.spark.api.python.PythonWorkerFactory.createSimpleWorker(PythonWorkerFactory.scala:174)\r\n\t... 29 more\r\n",
     "output_type": "error",
     "traceback": [
      "\u001b[1;31m---------------------------------------------------------------------------\u001b[0m",
      "\u001b[1;31mPy4JJavaError\u001b[0m                             Traceback (most recent call last)",
      "\u001b[1;32m<ipython-input-27-f7ee56f758fc>\u001b[0m in \u001b[0;36m<module>\u001b[1;34m\u001b[0m\n\u001b[0;32m      5\u001b[0m \u001b[0msparkDF\u001b[0m\u001b[1;33m=\u001b[0m\u001b[0mspark\u001b[0m\u001b[1;33m.\u001b[0m\u001b[0mcreateDataFrame\u001b[0m\u001b[1;33m(\u001b[0m\u001b[0mrfm_df\u001b[0m\u001b[1;33m)\u001b[0m\u001b[1;33m\u001b[0m\u001b[1;33m\u001b[0m\u001b[0m\n\u001b[0;32m      6\u001b[0m \u001b[0msparkDF\u001b[0m\u001b[1;33m.\u001b[0m\u001b[0mprintSchema\u001b[0m\u001b[1;33m(\u001b[0m\u001b[1;33m)\u001b[0m\u001b[1;33m\u001b[0m\u001b[1;33m\u001b[0m\u001b[0m\n\u001b[1;32m----> 7\u001b[1;33m \u001b[0msparkDF\u001b[0m\u001b[1;33m.\u001b[0m\u001b[0mshow\u001b[0m\u001b[1;33m(\u001b[0m\u001b[1;33m)\u001b[0m\u001b[1;33m\u001b[0m\u001b[1;33m\u001b[0m\u001b[0m\n\u001b[0m",
      "\u001b[1;32m~\\anaconda3\\lib\\site-packages\\pyspark\\sql\\dataframe.py\u001b[0m in \u001b[0;36mshow\u001b[1;34m(self, n, truncate, vertical)\u001b[0m\n\u001b[0;32m    482\u001b[0m         \"\"\"\n\u001b[0;32m    483\u001b[0m         \u001b[1;32mif\u001b[0m \u001b[0misinstance\u001b[0m\u001b[1;33m(\u001b[0m\u001b[0mtruncate\u001b[0m\u001b[1;33m,\u001b[0m \u001b[0mbool\u001b[0m\u001b[1;33m)\u001b[0m \u001b[1;32mand\u001b[0m \u001b[0mtruncate\u001b[0m\u001b[1;33m:\u001b[0m\u001b[1;33m\u001b[0m\u001b[1;33m\u001b[0m\u001b[0m\n\u001b[1;32m--> 484\u001b[1;33m             \u001b[0mprint\u001b[0m\u001b[1;33m(\u001b[0m\u001b[0mself\u001b[0m\u001b[1;33m.\u001b[0m\u001b[0m_jdf\u001b[0m\u001b[1;33m.\u001b[0m\u001b[0mshowString\u001b[0m\u001b[1;33m(\u001b[0m\u001b[0mn\u001b[0m\u001b[1;33m,\u001b[0m \u001b[1;36m20\u001b[0m\u001b[1;33m,\u001b[0m \u001b[0mvertical\u001b[0m\u001b[1;33m)\u001b[0m\u001b[1;33m)\u001b[0m\u001b[1;33m\u001b[0m\u001b[1;33m\u001b[0m\u001b[0m\n\u001b[0m\u001b[0;32m    485\u001b[0m         \u001b[1;32melse\u001b[0m\u001b[1;33m:\u001b[0m\u001b[1;33m\u001b[0m\u001b[1;33m\u001b[0m\u001b[0m\n\u001b[0;32m    486\u001b[0m             \u001b[0mprint\u001b[0m\u001b[1;33m(\u001b[0m\u001b[0mself\u001b[0m\u001b[1;33m.\u001b[0m\u001b[0m_jdf\u001b[0m\u001b[1;33m.\u001b[0m\u001b[0mshowString\u001b[0m\u001b[1;33m(\u001b[0m\u001b[0mn\u001b[0m\u001b[1;33m,\u001b[0m \u001b[0mint\u001b[0m\u001b[1;33m(\u001b[0m\u001b[0mtruncate\u001b[0m\u001b[1;33m)\u001b[0m\u001b[1;33m,\u001b[0m \u001b[0mvertical\u001b[0m\u001b[1;33m)\u001b[0m\u001b[1;33m)\u001b[0m\u001b[1;33m\u001b[0m\u001b[1;33m\u001b[0m\u001b[0m\n",
      "\u001b[1;32m~\\anaconda3\\lib\\site-packages\\py4j\\java_gateway.py\u001b[0m in \u001b[0;36m__call__\u001b[1;34m(self, *args)\u001b[0m\n\u001b[0;32m   1302\u001b[0m \u001b[1;33m\u001b[0m\u001b[0m\n\u001b[0;32m   1303\u001b[0m         \u001b[0manswer\u001b[0m \u001b[1;33m=\u001b[0m \u001b[0mself\u001b[0m\u001b[1;33m.\u001b[0m\u001b[0mgateway_client\u001b[0m\u001b[1;33m.\u001b[0m\u001b[0msend_command\u001b[0m\u001b[1;33m(\u001b[0m\u001b[0mcommand\u001b[0m\u001b[1;33m)\u001b[0m\u001b[1;33m\u001b[0m\u001b[1;33m\u001b[0m\u001b[0m\n\u001b[1;32m-> 1304\u001b[1;33m         return_value = get_return_value(\n\u001b[0m\u001b[0;32m   1305\u001b[0m             answer, self.gateway_client, self.target_id, self.name)\n\u001b[0;32m   1306\u001b[0m \u001b[1;33m\u001b[0m\u001b[0m\n",
      "\u001b[1;32m~\\anaconda3\\lib\\site-packages\\pyspark\\sql\\utils.py\u001b[0m in \u001b[0;36mdeco\u001b[1;34m(*a, **kw)\u001b[0m\n\u001b[0;32m    109\u001b[0m     \u001b[1;32mdef\u001b[0m \u001b[0mdeco\u001b[0m\u001b[1;33m(\u001b[0m\u001b[1;33m*\u001b[0m\u001b[0ma\u001b[0m\u001b[1;33m,\u001b[0m \u001b[1;33m**\u001b[0m\u001b[0mkw\u001b[0m\u001b[1;33m)\u001b[0m\u001b[1;33m:\u001b[0m\u001b[1;33m\u001b[0m\u001b[1;33m\u001b[0m\u001b[0m\n\u001b[0;32m    110\u001b[0m         \u001b[1;32mtry\u001b[0m\u001b[1;33m:\u001b[0m\u001b[1;33m\u001b[0m\u001b[1;33m\u001b[0m\u001b[0m\n\u001b[1;32m--> 111\u001b[1;33m             \u001b[1;32mreturn\u001b[0m \u001b[0mf\u001b[0m\u001b[1;33m(\u001b[0m\u001b[1;33m*\u001b[0m\u001b[0ma\u001b[0m\u001b[1;33m,\u001b[0m \u001b[1;33m**\u001b[0m\u001b[0mkw\u001b[0m\u001b[1;33m)\u001b[0m\u001b[1;33m\u001b[0m\u001b[1;33m\u001b[0m\u001b[0m\n\u001b[0m\u001b[0;32m    112\u001b[0m         \u001b[1;32mexcept\u001b[0m \u001b[0mpy4j\u001b[0m\u001b[1;33m.\u001b[0m\u001b[0mprotocol\u001b[0m\u001b[1;33m.\u001b[0m\u001b[0mPy4JJavaError\u001b[0m \u001b[1;32mas\u001b[0m \u001b[0me\u001b[0m\u001b[1;33m:\u001b[0m\u001b[1;33m\u001b[0m\u001b[1;33m\u001b[0m\u001b[0m\n\u001b[0;32m    113\u001b[0m             \u001b[0mconverted\u001b[0m \u001b[1;33m=\u001b[0m \u001b[0mconvert_exception\u001b[0m\u001b[1;33m(\u001b[0m\u001b[0me\u001b[0m\u001b[1;33m.\u001b[0m\u001b[0mjava_exception\u001b[0m\u001b[1;33m)\u001b[0m\u001b[1;33m\u001b[0m\u001b[1;33m\u001b[0m\u001b[0m\n",
      "\u001b[1;32m~\\anaconda3\\lib\\site-packages\\py4j\\protocol.py\u001b[0m in \u001b[0;36mget_return_value\u001b[1;34m(answer, gateway_client, target_id, name)\u001b[0m\n\u001b[0;32m    324\u001b[0m             \u001b[0mvalue\u001b[0m \u001b[1;33m=\u001b[0m \u001b[0mOUTPUT_CONVERTER\u001b[0m\u001b[1;33m[\u001b[0m\u001b[0mtype\u001b[0m\u001b[1;33m]\u001b[0m\u001b[1;33m(\u001b[0m\u001b[0manswer\u001b[0m\u001b[1;33m[\u001b[0m\u001b[1;36m2\u001b[0m\u001b[1;33m:\u001b[0m\u001b[1;33m]\u001b[0m\u001b[1;33m,\u001b[0m \u001b[0mgateway_client\u001b[0m\u001b[1;33m)\u001b[0m\u001b[1;33m\u001b[0m\u001b[1;33m\u001b[0m\u001b[0m\n\u001b[0;32m    325\u001b[0m             \u001b[1;32mif\u001b[0m \u001b[0manswer\u001b[0m\u001b[1;33m[\u001b[0m\u001b[1;36m1\u001b[0m\u001b[1;33m]\u001b[0m \u001b[1;33m==\u001b[0m \u001b[0mREFERENCE_TYPE\u001b[0m\u001b[1;33m:\u001b[0m\u001b[1;33m\u001b[0m\u001b[1;33m\u001b[0m\u001b[0m\n\u001b[1;32m--> 326\u001b[1;33m                 raise Py4JJavaError(\n\u001b[0m\u001b[0;32m    327\u001b[0m                     \u001b[1;34m\"An error occurred while calling {0}{1}{2}.\\n\"\u001b[0m\u001b[1;33m.\u001b[0m\u001b[1;33m\u001b[0m\u001b[1;33m\u001b[0m\u001b[0m\n\u001b[0;32m    328\u001b[0m                     format(target_id, \".\", name), value)\n",
      "\u001b[1;31mPy4JJavaError\u001b[0m: An error occurred while calling o43.showString.\n: org.apache.spark.SparkException: Job aborted due to stage failure: Task 0 in stage 0.0 failed 1 times, most recent failure: Lost task 0.0 in stage 0.0 (TID 0) (DESKTOP-8JC0254.mshome.net executor driver): org.apache.spark.SparkException: Python worker failed to connect back.\r\n\tat org.apache.spark.api.python.PythonWorkerFactory.createSimpleWorker(PythonWorkerFactory.scala:182)\r\n\tat org.apache.spark.api.python.PythonWorkerFactory.create(PythonWorkerFactory.scala:107)\r\n\tat org.apache.spark.SparkEnv.createPythonWorker(SparkEnv.scala:119)\r\n\tat org.apache.spark.api.python.BasePythonRunner.compute(PythonRunner.scala:145)\r\n\tat org.apache.spark.api.python.PythonRDD.compute(PythonRDD.scala:65)\r\n\tat org.apache.spark.rdd.RDD.computeOrReadCheckpoint(RDD.scala:373)\r\n\tat org.apache.spark.rdd.RDD.iterator(RDD.scala:337)\r\n\tat org.apache.spark.rdd.MapPartitionsRDD.compute(MapPartitionsRDD.scala:52)\r\n\tat org.apache.spark.rdd.RDD.computeOrReadCheckpoint(RDD.scala:373)\r\n\tat org.apache.spark.rdd.RDD.iterator(RDD.scala:337)\r\n\tat org.apache.spark.rdd.MapPartitionsRDD.compute(MapPartitionsRDD.scala:52)\r\n\tat org.apache.spark.rdd.RDD.computeOrReadCheckpoint(RDD.scala:373)\r\n\tat org.apache.spark.rdd.RDD.iterator(RDD.scala:337)\r\n\tat org.apache.spark.rdd.MapPartitionsRDD.compute(MapPartitionsRDD.scala:52)\r\n\tat org.apache.spark.rdd.RDD.computeOrReadCheckpoint(RDD.scala:373)\r\n\tat org.apache.spark.rdd.RDD.iterator(RDD.scala:337)\r\n\tat org.apache.spark.rdd.MapPartitionsRDD.compute(MapPartitionsRDD.scala:52)\r\n\tat org.apache.spark.rdd.RDD.computeOrReadCheckpoint(RDD.scala:373)\r\n\tat org.apache.spark.rdd.RDD.iterator(RDD.scala:337)\r\n\tat org.apache.spark.rdd.MapPartitionsRDD.compute(MapPartitionsRDD.scala:52)\r\n\tat org.apache.spark.rdd.RDD.computeOrReadCheckpoint(RDD.scala:373)\r\n\tat org.apache.spark.rdd.RDD.iterator(RDD.scala:337)\r\n\tat org.apache.spark.scheduler.ResultTask.runTask(ResultTask.scala:90)\r\n\tat org.apache.spark.scheduler.Task.run(Task.scala:131)\r\n\tat org.apache.spark.executor.Executor$TaskRunner.$anonfun$run$3(Executor.scala:497)\r\n\tat org.apache.spark.util.Utils$.tryWithSafeFinally(Utils.scala:1439)\r\n\tat org.apache.spark.executor.Executor$TaskRunner.run(Executor.scala:500)\r\n\tat java.util.concurrent.ThreadPoolExecutor.runWorker(Unknown Source)\r\n\tat java.util.concurrent.ThreadPoolExecutor$Worker.run(Unknown Source)\r\n\tat java.lang.Thread.run(Unknown Source)\r\nCaused by: java.net.SocketTimeoutException: Accept timed out\r\n\tat java.net.DualStackPlainSocketImpl.waitForNewConnection(Native Method)\r\n\tat java.net.DualStackPlainSocketImpl.socketAccept(Unknown Source)\r\n\tat java.net.AbstractPlainSocketImpl.accept(Unknown Source)\r\n\tat java.net.PlainSocketImpl.accept(Unknown Source)\r\n\tat java.net.ServerSocket.implAccept(Unknown Source)\r\n\tat java.net.ServerSocket.accept(Unknown Source)\r\n\tat org.apache.spark.api.python.PythonWorkerFactory.createSimpleWorker(PythonWorkerFactory.scala:174)\r\n\t... 29 more\r\n\nDriver stacktrace:\r\n\tat org.apache.spark.scheduler.DAGScheduler.failJobAndIndependentStages(DAGScheduler.scala:2258)\r\n\tat org.apache.spark.scheduler.DAGScheduler.$anonfun$abortStage$2(DAGScheduler.scala:2207)\r\n\tat org.apache.spark.scheduler.DAGScheduler.$anonfun$abortStage$2$adapted(DAGScheduler.scala:2206)\r\n\tat scala.collection.mutable.ResizableArray.foreach(ResizableArray.scala:62)\r\n\tat scala.collection.mutable.ResizableArray.foreach$(ResizableArray.scala:55)\r\n\tat scala.collection.mutable.ArrayBuffer.foreach(ArrayBuffer.scala:49)\r\n\tat org.apache.spark.scheduler.DAGScheduler.abortStage(DAGScheduler.scala:2206)\r\n\tat org.apache.spark.scheduler.DAGScheduler.$anonfun$handleTaskSetFailed$1(DAGScheduler.scala:1079)\r\n\tat org.apache.spark.scheduler.DAGScheduler.$anonfun$handleTaskSetFailed$1$adapted(DAGScheduler.scala:1079)\r\n\tat scala.Option.foreach(Option.scala:407)\r\n\tat org.apache.spark.scheduler.DAGScheduler.handleTaskSetFailed(DAGScheduler.scala:1079)\r\n\tat org.apache.spark.scheduler.DAGSchedulerEventProcessLoop.doOnReceive(DAGScheduler.scala:2445)\r\n\tat org.apache.spark.scheduler.DAGSchedulerEventProcessLoop.onReceive(DAGScheduler.scala:2387)\r\n\tat org.apache.spark.scheduler.DAGSchedulerEventProcessLoop.onReceive(DAGScheduler.scala:2376)\r\n\tat org.apache.spark.util.EventLoop$$anon$1.run(EventLoop.scala:49)\r\n\tat org.apache.spark.scheduler.DAGScheduler.runJob(DAGScheduler.scala:868)\r\n\tat org.apache.spark.SparkContext.runJob(SparkContext.scala:2196)\r\n\tat org.apache.spark.SparkContext.runJob(SparkContext.scala:2217)\r\n\tat org.apache.spark.SparkContext.runJob(SparkContext.scala:2236)\r\n\tat org.apache.spark.sql.execution.SparkPlan.executeTake(SparkPlan.scala:472)\r\n\tat org.apache.spark.sql.execution.SparkPlan.executeTake(SparkPlan.scala:425)\r\n\tat org.apache.spark.sql.execution.CollectLimitExec.executeCollect(limit.scala:47)\r\n\tat org.apache.spark.sql.Dataset.collectFromPlan(Dataset.scala:3696)\r\n\tat org.apache.spark.sql.Dataset.$anonfun$head$1(Dataset.scala:2722)\r\n\tat org.apache.spark.sql.Dataset.$anonfun$withAction$1(Dataset.scala:3687)\r\n\tat org.apache.spark.sql.execution.SQLExecution$.$anonfun$withNewExecutionId$5(SQLExecution.scala:103)\r\n\tat org.apache.spark.sql.execution.SQLExecution$.withSQLConfPropagated(SQLExecution.scala:163)\r\n\tat org.apache.spark.sql.execution.SQLExecution$.$anonfun$withNewExecutionId$1(SQLExecution.scala:90)\r\n\tat org.apache.spark.sql.SparkSession.withActive(SparkSession.scala:775)\r\n\tat org.apache.spark.sql.execution.SQLExecution$.withNewExecutionId(SQLExecution.scala:64)\r\n\tat org.apache.spark.sql.Dataset.withAction(Dataset.scala:3685)\r\n\tat org.apache.spark.sql.Dataset.head(Dataset.scala:2722)\r\n\tat org.apache.spark.sql.Dataset.take(Dataset.scala:2929)\r\n\tat org.apache.spark.sql.Dataset.getRows(Dataset.scala:301)\r\n\tat org.apache.spark.sql.Dataset.showString(Dataset.scala:338)\r\n\tat sun.reflect.NativeMethodAccessorImpl.invoke0(Native Method)\r\n\tat sun.reflect.NativeMethodAccessorImpl.invoke(Unknown Source)\r\n\tat sun.reflect.DelegatingMethodAccessorImpl.invoke(Unknown Source)\r\n\tat java.lang.reflect.Method.invoke(Unknown Source)\r\n\tat py4j.reflection.MethodInvoker.invoke(MethodInvoker.java:244)\r\n\tat py4j.reflection.ReflectionEngine.invoke(ReflectionEngine.java:357)\r\n\tat py4j.Gateway.invoke(Gateway.java:282)\r\n\tat py4j.commands.AbstractCommand.invokeMethod(AbstractCommand.java:132)\r\n\tat py4j.commands.CallCommand.execute(CallCommand.java:79)\r\n\tat py4j.GatewayConnection.run(GatewayConnection.java:238)\r\n\tat java.lang.Thread.run(Unknown Source)\r\nCaused by: org.apache.spark.SparkException: Python worker failed to connect back.\r\n\tat org.apache.spark.api.python.PythonWorkerFactory.createSimpleWorker(PythonWorkerFactory.scala:182)\r\n\tat org.apache.spark.api.python.PythonWorkerFactory.create(PythonWorkerFactory.scala:107)\r\n\tat org.apache.spark.SparkEnv.createPythonWorker(SparkEnv.scala:119)\r\n\tat org.apache.spark.api.python.BasePythonRunner.compute(PythonRunner.scala:145)\r\n\tat org.apache.spark.api.python.PythonRDD.compute(PythonRDD.scala:65)\r\n\tat org.apache.spark.rdd.RDD.computeOrReadCheckpoint(RDD.scala:373)\r\n\tat org.apache.spark.rdd.RDD.iterator(RDD.scala:337)\r\n\tat org.apache.spark.rdd.MapPartitionsRDD.compute(MapPartitionsRDD.scala:52)\r\n\tat org.apache.spark.rdd.RDD.computeOrReadCheckpoint(RDD.scala:373)\r\n\tat org.apache.spark.rdd.RDD.iterator(RDD.scala:337)\r\n\tat org.apache.spark.rdd.MapPartitionsRDD.compute(MapPartitionsRDD.scala:52)\r\n\tat org.apache.spark.rdd.RDD.computeOrReadCheckpoint(RDD.scala:373)\r\n\tat org.apache.spark.rdd.RDD.iterator(RDD.scala:337)\r\n\tat org.apache.spark.rdd.MapPartitionsRDD.compute(MapPartitionsRDD.scala:52)\r\n\tat org.apache.spark.rdd.RDD.computeOrReadCheckpoint(RDD.scala:373)\r\n\tat org.apache.spark.rdd.RDD.iterator(RDD.scala:337)\r\n\tat org.apache.spark.rdd.MapPartitionsRDD.compute(MapPartitionsRDD.scala:52)\r\n\tat org.apache.spark.rdd.RDD.computeOrReadCheckpoint(RDD.scala:373)\r\n\tat org.apache.spark.rdd.RDD.iterator(RDD.scala:337)\r\n\tat org.apache.spark.rdd.MapPartitionsRDD.compute(MapPartitionsRDD.scala:52)\r\n\tat org.apache.spark.rdd.RDD.computeOrReadCheckpoint(RDD.scala:373)\r\n\tat org.apache.spark.rdd.RDD.iterator(RDD.scala:337)\r\n\tat org.apache.spark.scheduler.ResultTask.runTask(ResultTask.scala:90)\r\n\tat org.apache.spark.scheduler.Task.run(Task.scala:131)\r\n\tat org.apache.spark.executor.Executor$TaskRunner.$anonfun$run$3(Executor.scala:497)\r\n\tat org.apache.spark.util.Utils$.tryWithSafeFinally(Utils.scala:1439)\r\n\tat org.apache.spark.executor.Executor$TaskRunner.run(Executor.scala:500)\r\n\tat java.util.concurrent.ThreadPoolExecutor.runWorker(Unknown Source)\r\n\tat java.util.concurrent.ThreadPoolExecutor$Worker.run(Unknown Source)\r\n\t... 1 more\r\nCaused by: java.net.SocketTimeoutException: Accept timed out\r\n\tat java.net.DualStackPlainSocketImpl.waitForNewConnection(Native Method)\r\n\tat java.net.DualStackPlainSocketImpl.socketAccept(Unknown Source)\r\n\tat java.net.AbstractPlainSocketImpl.accept(Unknown Source)\r\n\tat java.net.PlainSocketImpl.accept(Unknown Source)\r\n\tat java.net.ServerSocket.implAccept(Unknown Source)\r\n\tat java.net.ServerSocket.accept(Unknown Source)\r\n\tat org.apache.spark.api.python.PythonWorkerFactory.createSimpleWorker(PythonWorkerFactory.scala:174)\r\n\t... 29 more\r\n"
     ]
    }
   ],
   "source": [
    "#Create PySpark SparkSession\n",
    "spark = SparkSession.builder.appName(\"Clustering using K-Means\").getOrCreate()\n",
    "\n",
    "#Create PySpark DataFrame from Pandas\n",
    "sparkDF=spark.createDataFrame(rfm_df) \n",
    "sparkDF.printSchema()\n",
    "sparkDF.show()"
   ]
  },
  {
   "cell_type": "code",
   "execution_count": null,
   "metadata": {},
   "outputs": [],
   "source": [
    "from pyspark.sql import SparkSession\n",
    "\n",
    "import pandas as pd    \n",
    "data = [['Scott', 50], ['Jeff', 45], ['Thomas', 54],['Ann',34]] \n",
    " \n",
    "# Create the pandas DataFrame \n",
    "pandasDF = pd.DataFrame(data, columns = ['Name', 'Age']) \n",
    "  \n",
    "# print dataframe. \n",
    "print(pandasDF)\n",
    "\n",
    "#Create PySpark SparkSession\n",
    "spark = SparkSession.builder \\\n",
    "    .master(\"local[1]\") \\\n",
    "    .appName(\"SparkByExamples.com\") \\\n",
    "    .getOrCreate()\n",
    "#Create PySpark DataFrame from Pandas\n",
    "sparkDF=spark.createDataFrame(pandasDF) \n",
    "sparkDF.printSchema()\n",
    "sparkDF.show()"
   ]
  },
  {
   "cell_type": "markdown",
   "metadata": {
    "papermill": {
     "duration": 0.081302,
     "end_time": "2021-04-04T21:01:17.719151",
     "exception": false,
     "start_time": "2021-04-04T21:01:17.637849",
     "status": "completed"
    },
    "tags": []
   },
   "source": [
    "# Customer segmentation by behaviour"
   ]
  },
  {
   "cell_type": "markdown",
   "metadata": {
    "papermill": {
     "duration": 0.10308,
     "end_time": "2021-04-04T21:01:19.798775",
     "exception": false,
     "start_time": "2021-04-04T21:01:19.695695",
     "status": "completed"
    },
    "tags": []
   },
   "source": [
    "### Finding the optimal number of clusters"
   ]
  },
  {
   "cell_type": "code",
   "execution_count": null,
   "metadata": {
    "execution": {
     "iopub.execute_input": "2021-04-04T21:01:20.046549Z",
     "iopub.status.busy": "2021-04-04T21:01:20.045735Z",
     "iopub.status.idle": "2021-04-04T21:01:22.275299Z",
     "shell.execute_reply": "2021-04-04T21:01:22.275753Z"
    },
    "papermill": {
     "duration": 2.359467,
     "end_time": "2021-04-04T21:01:22.275913",
     "exception": false,
     "start_time": "2021-04-04T21:01:19.916446",
     "status": "completed"
    },
    "tags": []
   },
   "outputs": [],
   "source": [
    "# Find optimal number of clusters\n",
    "\n",
    "Sum_of_squared_distances_rec = []\n",
    "K = range(1,10)\n",
    "for k in K:\n",
    "    km = KMeans(n_clusters=k)\n",
    "    km = km.fit(rfm_df[\"Recency\"].values.reshape(-1,1))\n",
    "    Sum_of_squared_distances_rec.append(km.inertia_)\n",
    "    \n",
    "Sum_of_squared_distances_freq = []\n",
    "K = range(1,10)\n",
    "for k in K:\n",
    "    km = KMeans(n_clusters=k)\n",
    "    km = km.fit(rfm_df[\"Frequency\"].values.reshape(-1,1))\n",
    "    Sum_of_squared_distances_freq.append(km.inertia_)\n",
    "    \n",
    "    \n",
    "Sum_of_squared_distances_mon = []\n",
    "K = range(1,10)\n",
    "for k in K:\n",
    "    km = KMeans(n_clusters=k)\n",
    "    km = km.fit(rfm_df[\"Monetary\"].values.reshape(-1,1))\n",
    "    Sum_of_squared_distances_mon.append(km.inertia_)\n",
    " \n",
    "fig, ax = plt.subplots(nrows=1, ncols=3, figsize=(20,10))\n",
    "ax[0].plot(K, Sum_of_squared_distances_rec, 'bx-')\n",
    "ax[0].set_title('Elbow Method For Optimal k - Recency')\n",
    "\n",
    "\n",
    "ax[1].plot(K, Sum_of_squared_distances_freq, 'bx-')\n",
    "ax[1].set_title('Elbow Method For Optimal k - Frequency')\n",
    "\n",
    "\n",
    "ax[2].plot(K, Sum_of_squared_distances_mon, 'bx-')\n",
    "ax[2].set_title('Elbow Method For Optimal k - Monetary')\n",
    "\n",
    "for a in ax.flat:\n",
    "    a.set(xlabel='k', ylabel='Sum_of_squared_distances')\n",
    "    \n",
    "# Hide x labels and tick labels for top plots and y ticks for right plots.\n",
    "for a in ax.flat:\n",
    "    a.label_outer()\n",
    "    \n",
    "plt.show()"
   ]
  },
  {
   "cell_type": "markdown",
   "metadata": {
    "papermill": {
     "duration": 0.105291,
     "end_time": "2021-04-04T21:01:22.486524",
     "exception": false,
     "start_time": "2021-04-04T21:01:22.381233",
     "status": "completed"
    },
    "tags": []
   },
   "source": [
    "- 5 clusters seem to be an acceptable number of clusters for frequncy, Recency and Monetary values"
   ]
  },
  {
   "cell_type": "code",
   "execution_count": null,
   "metadata": {
    "execution": {
     "iopub.execute_input": "2021-04-04T21:01:22.701010Z",
     "iopub.status.busy": "2021-04-04T21:01:22.700456Z",
     "iopub.status.idle": "2021-04-04T21:01:24.088880Z",
     "shell.execute_reply": "2021-04-04T21:01:24.088454Z"
    },
    "papermill": {
     "duration": 1.496816,
     "end_time": "2021-04-04T21:01:24.089024",
     "exception": false,
     "start_time": "2021-04-04T21:01:22.592208",
     "status": "completed"
    },
    "tags": []
   },
   "outputs": [],
   "source": [
    "k=5\n",
    "\n",
    "fig, ax = plt.subplots(nrows=1, ncols=3, figsize=(20,10))\n",
    "labels = [\"Recency\",\"Frequency\",\"Monetary\"]\n",
    "\n",
    "Cluster_labels = []\n",
    "\n",
    "for i in range(len(labels)):\n",
    "    kmeans = KMeans(n_clusters=k).fit(rfm_df[labels[i]].values.reshape(-1,1))   \n",
    "    idx = np.argsort(kmeans.cluster_centers_.sum(axis=1))\n",
    "    lut = np.zeros_like(idx)\n",
    "    lut[idx] = np.arange(k)\n",
    "    \n",
    "\n",
    "    dict = {\n",
    "    labels[i]: rfm_df[labels[i]].tolist(),\n",
    "     \"Cluster_labels\": list(lut[kmeans.labels_])\n",
    "     }\n",
    "    param_df=pd.DataFrame.from_dict(dict,orient='index').transpose()\n",
    "    sns.boxplot(x=\"Cluster_labels\", y=labels[i], data=param_df,ax=ax[i])\n",
    "    \n",
    "    ax[i].set(xlabel=\"Cluster labels\", ylabel = labels[i])\n",
    "    ax[i].title.set_text(\"Clustering \" + labels[i])\n",
    "    \n",
    "        \n",
    "    rfm_df[\"Cluster labels - \" + str(labels[i])] = list(lut[kmeans.labels_])\n",
    "\n",
    "    \n",
    "    \n",
    "plt.show()\n"
   ]
  },
  {
   "cell_type": "code",
   "execution_count": null,
   "metadata": {
    "execution": {
     "iopub.execute_input": "2021-04-04T21:01:24.305899Z",
     "iopub.status.busy": "2021-04-04T21:01:24.305257Z",
     "iopub.status.idle": "2021-04-04T21:01:24.382899Z",
     "shell.execute_reply": "2021-04-04T21:01:24.382377Z"
    },
    "papermill": {
     "duration": 0.185939,
     "end_time": "2021-04-04T21:01:24.383042",
     "exception": false,
     "start_time": "2021-04-04T21:01:24.197103",
     "status": "completed"
    },
    "scrolled": false,
    "tags": []
   },
   "outputs": [],
   "source": [
    "# https://guillaume-martin.github.io/rfm-segmentation-with-python.html\n",
    "\n",
    "segt_map = {\n",
    "    r'[0-1][0-1]': 'First timers - SMS ads',\n",
    "    r'[0-1][2-3]': 'At risk - Discounts',\n",
    "    r'[0-1]4': 'Immediate targeting - Promotions',\n",
    "    r'2[0-1]': 'About to lose - Feedback form',\n",
    "    r'[2-3][3-4]': 'Regular customers - Loyalty cards',\n",
    "    r'30': 'Promising - Instant vouchers',\n",
    "    r'40': 'New customers - 50 % discounts on certain items',\n",
    "    r'[3-4][1-2]': 'Potential regular customers - Loyalty cards',\n",
    "    r'4[3-4]': 'Best customers - Loyalty cards',\n",
    "    r'22': 'Need attention - Discounts'\n",
    "}  # For example if customers hasn't bought for a long time and has tried the shop only once, an SMS ad might     \n",
    "   # rekindle interest\n",
    "\n",
    "\n",
    "rfm_df[\"RFM class\"] = rfm_df['Cluster labels - Recency'].apply(str)+ rfm_df['Cluster labels - Frequency'].apply(str) + \\\n",
    "rfm_df['Cluster labels - Monetary'].apply(str)\n",
    "\n",
    "# Marketing strategy based on recency and frequnecy of shopping alone\n",
    "rfm_df['Marketing strategy'] = rfm_df['Cluster labels - Recency'].apply(str)+ rfm_df['Cluster labels - Frequency'].apply(str)\n",
    "rfm_df['Marketing strategy'] = rfm_df['Marketing strategy'].replace(segt_map, regex=True)\n",
    "rfm_df.head(5)"
   ]
  },
  {
   "cell_type": "code",
   "execution_count": null,
   "metadata": {
    "execution": {
     "iopub.execute_input": "2021-04-04T21:01:24.614733Z",
     "iopub.status.busy": "2021-04-04T21:01:24.608557Z",
     "iopub.status.idle": "2021-04-04T21:01:24.698711Z",
     "shell.execute_reply": "2021-04-04T21:01:24.699131Z"
    },
    "papermill": {
     "duration": 0.208859,
     "end_time": "2021-04-04T21:01:24.699286",
     "exception": false,
     "start_time": "2021-04-04T21:01:24.490427",
     "status": "completed"
    },
    "tags": []
   },
   "outputs": [],
   "source": [
    "fig = px.pie(rfm_df, names='Marketing strategy',title =\"Pieplot of marketing strategies\")\n",
    "fig.data[0].hovertemplate = '%{label}'\n",
    "fig.update_layout(title_x=0.5)\n",
    "pio.write_image(fig, 'filename3.pdf', width=700, height=775)\n",
    "fig.show()\n"
   ]
  }
 ],
 "metadata": {
  "kernelspec": {
   "display_name": "Python 3",
   "language": "python",
   "name": "python3"
  },
  "language_info": {
   "codemirror_mode": {
    "name": "ipython",
    "version": 3
   },
   "file_extension": ".py",
   "mimetype": "text/x-python",
   "name": "python",
   "nbconvert_exporter": "python",
   "pygments_lexer": "ipython3",
   "version": "3.8.5"
  },
  "papermill": {
   "default_parameters": {},
   "duration": 126.157745,
   "end_time": "2021-04-04T21:01:47.330657",
   "environment_variables": {},
   "exception": null,
   "input_path": "__notebook__.ipynb",
   "output_path": "__notebook__.ipynb",
   "parameters": {},
   "start_time": "2021-04-04T20:59:41.172912",
   "version": "2.2.2"
  }
 },
 "nbformat": 4,
 "nbformat_minor": 4
}
