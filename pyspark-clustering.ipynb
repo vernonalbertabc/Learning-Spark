{
 "cells": [
  {
   "cell_type": "markdown",
   "metadata": {
    "papermill": {
     "duration": 0.04952,
     "end_time": "2021-04-04T20:59:46.333552",
     "exception": false,
     "start_time": "2021-04-04T20:59:46.284032",
     "status": "completed"
    },
    "tags": []
   },
   "source": [
    "# Targeted marketing with Customer segmention \n",
    "\n",
    "\n",
    "- Here, targeted marketing will be done by analysing customer behaviour.\n",
    "- Hence, K-means clustering will be performed to segment customers\n",
    "- In actual practice, marketing campaigns might be rolled out to 100K - 200K customers with different purchasing attributes.\n",
    "- If you run multiple iterations of K Means on your local system. For K=4, the number of distance metrics required to be calculated is 4 x 100K = 400,000\n",
    "- Hence, a lot of computation power is required. This is where data parallelism steps in\n",
    "\n",
    "Data parrelism is achieved with the help of RDD's as shown in the below figure -:\n",
    "\n",
    "<img src=\"https://www.researchgate.net/profile/Zhiang-Wu/publication/312487404/figure/fig1/AS:573268115169280@1513689177637/Framework-overview_Q320.jpg\">\n",
    "\n",
    "Imagine 100K records divided across 3 processors each having ~33K records. This is where distributed processing comes into the picture to reduce the volume of data, yet ensuring a complete result.\n",
    "\n",
    "Note: Notebook executed on Kaggle Notebook (Cloud)"
   ]
  },
  {
   "cell_type": "code",
   "execution_count": 1,
   "metadata": {
    "execution": {
     "iopub.execute_input": "2021-07-04T14:06:56.099429Z",
     "iopub.status.busy": "2021-07-04T14:06:56.097037Z",
     "iopub.status.idle": "2021-07-04T14:06:56.103464Z",
     "shell.execute_reply": "2021-07-04T14:06:56.102682Z",
     "shell.execute_reply.started": "2021-07-04T14:06:56.099299Z"
    }
   },
   "outputs": [],
   "source": [
    "# References\n",
    "# https://towardsdatascience.com/k-means-clustering-using-pyspark-on-big-data-6214beacdc8b\n",
    "# https://www.researchgate.net/publication/312487404_Parallelizing_K-Means-Based_Clustering_on_Spark\n",
    "# https://stackoverflow.com/questions/44888415/how-to-set-k-means-clustering-labels-from-highest-to-lowest-with-python/44912014\n",
    "# # https://guillaume-martin.github.io/rfm-segmentation-with-python.html"
   ]
  },
  {
   "cell_type": "markdown",
   "metadata": {},
   "source": [
    "# Libraries"
   ]
  },
  {
   "cell_type": "code",
   "execution_count": 2,
   "metadata": {
    "_cell_guid": "b1076dfc-b9ad-4769-8c92-a6c4dae69d19",
    "_uuid": "8f2839f25d086af736a60e9eeb907d3b93b6e0e5",
    "execution": {
     "iopub.execute_input": "2021-07-04T14:06:56.123682Z",
     "iopub.status.busy": "2021-07-04T14:06:56.122984Z",
     "iopub.status.idle": "2021-07-04T14:07:41.541898Z",
     "shell.execute_reply": "2021-07-04T14:07:41.540488Z",
     "shell.execute_reply.started": "2021-07-04T14:06:56.123627Z"
    },
    "papermill": {
     "duration": 2.201825,
     "end_time": "2021-04-04T20:59:48.583558",
     "exception": false,
     "start_time": "2021-04-04T20:59:46.381733",
     "status": "completed"
    },
    "tags": []
   },
   "outputs": [
    {
     "name": "stdout",
     "output_type": "stream",
     "text": [
      "Collecting pyspark\n",
      "  Downloading pyspark-3.1.2.tar.gz (212.4 MB)\n",
      "\u001b[K     |████████████████████████████████| 212.4 MB 58 kB/s s eta 0:00:01    |█████▊                          | 37.8 MB 19.4 MB/s eta 0:00:09     |██████████▎                     | 68.5 MB 40.0 MB/s eta 0:00:04     |█████████████████▏              | 113.7 MB 65.0 MB/s eta 0:00:02     |███████████████████▉            | 132.0 MB 65.0 MB/s eta 0:00:02\n",
      "\u001b[?25hCollecting py4j==0.10.9\n",
      "  Downloading py4j-0.10.9-py2.py3-none-any.whl (198 kB)\n",
      "\u001b[K     |████████████████████████████████| 198 kB 54.2 MB/s eta 0:00:01\n",
      "\u001b[?25hBuilding wheels for collected packages: pyspark\n",
      "  Building wheel for pyspark (setup.py) ... \u001b[?25ldone\n",
      "\u001b[?25h  Created wheel for pyspark: filename=pyspark-3.1.2-py2.py3-none-any.whl size=212880768 sha256=dfb6c408111a49a3b976d4613ed0d801090fe58a7f82bd3903f38168709d6dcf\n",
      "  Stored in directory: /root/.cache/pip/wheels/a5/0a/c1/9561f6fecb759579a7d863dcd846daaa95f598744e71b02c77\n",
      "Successfully built pyspark\n",
      "Installing collected packages: py4j, pyspark\n",
      "Successfully installed py4j-0.10.9 pyspark-3.1.2\n"
     ]
    }
   ],
   "source": [
    "import numpy as np\n",
    "import pandas as pd \n",
    "import os\n",
    "\n",
    "import seaborn as sns\n",
    "\n",
    "import matplotlib.pyplot as plt\n",
    "\n",
    "import plotly.express as px\n",
    "plt.style.use('ggplot')\n",
    "import plotly.io as pio\n",
    "import plotly.graph_objects as go\n",
    "\n",
    "import warnings\n",
    "warnings.filterwarnings('ignore')\n",
    "\n",
    "!pip install pyspark\n",
    "from pyspark.sql import SparkSession\n",
    "from pyspark.ml.clustering import KMeans\n",
    "from pyspark.ml.evaluation import ClusteringEvaluator\n",
    "from pyspark.ml.feature import VectorAssembler"
   ]
  },
  {
   "cell_type": "markdown",
   "metadata": {},
   "source": [
    "# Data preprocessing"
   ]
  },
  {
   "cell_type": "code",
   "execution_count": 3,
   "metadata": {
    "execution": {
     "iopub.execute_input": "2021-07-04T14:07:41.544119Z",
     "iopub.status.busy": "2021-07-04T14:07:41.543822Z",
     "iopub.status.idle": "2021-07-04T14:07:42.843030Z",
     "shell.execute_reply": "2021-07-04T14:07:42.841728Z",
     "shell.execute_reply.started": "2021-07-04T14:07:41.544091Z"
    },
    "papermill": {
     "duration": 1.169838,
     "end_time": "2021-04-04T20:59:49.801775",
     "exception": false,
     "start_time": "2021-04-04T20:59:48.631937",
     "status": "completed"
    },
    "tags": []
   },
   "outputs": [
    {
     "data": {
      "text/html": [
       "<div>\n",
       "<style scoped>\n",
       "    .dataframe tbody tr th:only-of-type {\n",
       "        vertical-align: middle;\n",
       "    }\n",
       "\n",
       "    .dataframe tbody tr th {\n",
       "        vertical-align: top;\n",
       "    }\n",
       "\n",
       "    .dataframe thead th {\n",
       "        text-align: right;\n",
       "    }\n",
       "</style>\n",
       "<table border=\"1\" class=\"dataframe\">\n",
       "  <thead>\n",
       "    <tr style=\"text-align: right;\">\n",
       "      <th></th>\n",
       "      <th>InvoiceNo</th>\n",
       "      <th>StockCode</th>\n",
       "      <th>Description</th>\n",
       "      <th>Quantity</th>\n",
       "      <th>InvoiceDate</th>\n",
       "      <th>UnitPrice</th>\n",
       "      <th>CustomerID</th>\n",
       "      <th>Country</th>\n",
       "    </tr>\n",
       "  </thead>\n",
       "  <tbody>\n",
       "    <tr>\n",
       "      <th>0</th>\n",
       "      <td>536365</td>\n",
       "      <td>85123A</td>\n",
       "      <td>WHITE HANGING HEART T-LIGHT HOLDER</td>\n",
       "      <td>6</td>\n",
       "      <td>12/1/2010 8:26</td>\n",
       "      <td>2.55</td>\n",
       "      <td>17850.0</td>\n",
       "      <td>United Kingdom</td>\n",
       "    </tr>\n",
       "    <tr>\n",
       "      <th>1</th>\n",
       "      <td>536365</td>\n",
       "      <td>71053</td>\n",
       "      <td>WHITE METAL LANTERN</td>\n",
       "      <td>6</td>\n",
       "      <td>12/1/2010 8:26</td>\n",
       "      <td>3.39</td>\n",
       "      <td>17850.0</td>\n",
       "      <td>United Kingdom</td>\n",
       "    </tr>\n",
       "    <tr>\n",
       "      <th>2</th>\n",
       "      <td>536365</td>\n",
       "      <td>84406B</td>\n",
       "      <td>CREAM CUPID HEARTS COAT HANGER</td>\n",
       "      <td>8</td>\n",
       "      <td>12/1/2010 8:26</td>\n",
       "      <td>2.75</td>\n",
       "      <td>17850.0</td>\n",
       "      <td>United Kingdom</td>\n",
       "    </tr>\n",
       "    <tr>\n",
       "      <th>3</th>\n",
       "      <td>536365</td>\n",
       "      <td>84029G</td>\n",
       "      <td>KNITTED UNION FLAG HOT WATER BOTTLE</td>\n",
       "      <td>6</td>\n",
       "      <td>12/1/2010 8:26</td>\n",
       "      <td>3.39</td>\n",
       "      <td>17850.0</td>\n",
       "      <td>United Kingdom</td>\n",
       "    </tr>\n",
       "    <tr>\n",
       "      <th>4</th>\n",
       "      <td>536365</td>\n",
       "      <td>84029E</td>\n",
       "      <td>RED WOOLLY HOTTIE WHITE HEART.</td>\n",
       "      <td>6</td>\n",
       "      <td>12/1/2010 8:26</td>\n",
       "      <td>3.39</td>\n",
       "      <td>17850.0</td>\n",
       "      <td>United Kingdom</td>\n",
       "    </tr>\n",
       "    <tr>\n",
       "      <th>5</th>\n",
       "      <td>536365</td>\n",
       "      <td>22752</td>\n",
       "      <td>SET 7 BABUSHKA NESTING BOXES</td>\n",
       "      <td>2</td>\n",
       "      <td>12/1/2010 8:26</td>\n",
       "      <td>7.65</td>\n",
       "      <td>17850.0</td>\n",
       "      <td>United Kingdom</td>\n",
       "    </tr>\n",
       "    <tr>\n",
       "      <th>6</th>\n",
       "      <td>536365</td>\n",
       "      <td>21730</td>\n",
       "      <td>GLASS STAR FROSTED T-LIGHT HOLDER</td>\n",
       "      <td>6</td>\n",
       "      <td>12/1/2010 8:26</td>\n",
       "      <td>4.25</td>\n",
       "      <td>17850.0</td>\n",
       "      <td>United Kingdom</td>\n",
       "    </tr>\n",
       "    <tr>\n",
       "      <th>7</th>\n",
       "      <td>536366</td>\n",
       "      <td>22633</td>\n",
       "      <td>HAND WARMER UNION JACK</td>\n",
       "      <td>6</td>\n",
       "      <td>12/1/2010 8:28</td>\n",
       "      <td>1.85</td>\n",
       "      <td>17850.0</td>\n",
       "      <td>United Kingdom</td>\n",
       "    </tr>\n",
       "    <tr>\n",
       "      <th>8</th>\n",
       "      <td>536366</td>\n",
       "      <td>22632</td>\n",
       "      <td>HAND WARMER RED POLKA DOT</td>\n",
       "      <td>6</td>\n",
       "      <td>12/1/2010 8:28</td>\n",
       "      <td>1.85</td>\n",
       "      <td>17850.0</td>\n",
       "      <td>United Kingdom</td>\n",
       "    </tr>\n",
       "    <tr>\n",
       "      <th>9</th>\n",
       "      <td>536367</td>\n",
       "      <td>84879</td>\n",
       "      <td>ASSORTED COLOUR BIRD ORNAMENT</td>\n",
       "      <td>32</td>\n",
       "      <td>12/1/2010 8:34</td>\n",
       "      <td>1.69</td>\n",
       "      <td>13047.0</td>\n",
       "      <td>United Kingdom</td>\n",
       "    </tr>\n",
       "  </tbody>\n",
       "</table>\n",
       "</div>"
      ],
      "text/plain": [
       "  InvoiceNo StockCode                          Description  Quantity  \\\n",
       "0    536365    85123A   WHITE HANGING HEART T-LIGHT HOLDER         6   \n",
       "1    536365     71053                  WHITE METAL LANTERN         6   \n",
       "2    536365    84406B       CREAM CUPID HEARTS COAT HANGER         8   \n",
       "3    536365    84029G  KNITTED UNION FLAG HOT WATER BOTTLE         6   \n",
       "4    536365    84029E       RED WOOLLY HOTTIE WHITE HEART.         6   \n",
       "5    536365     22752         SET 7 BABUSHKA NESTING BOXES         2   \n",
       "6    536365     21730    GLASS STAR FROSTED T-LIGHT HOLDER         6   \n",
       "7    536366     22633               HAND WARMER UNION JACK         6   \n",
       "8    536366     22632            HAND WARMER RED POLKA DOT         6   \n",
       "9    536367     84879        ASSORTED COLOUR BIRD ORNAMENT        32   \n",
       "\n",
       "      InvoiceDate  UnitPrice  CustomerID         Country  \n",
       "0  12/1/2010 8:26       2.55     17850.0  United Kingdom  \n",
       "1  12/1/2010 8:26       3.39     17850.0  United Kingdom  \n",
       "2  12/1/2010 8:26       2.75     17850.0  United Kingdom  \n",
       "3  12/1/2010 8:26       3.39     17850.0  United Kingdom  \n",
       "4  12/1/2010 8:26       3.39     17850.0  United Kingdom  \n",
       "5  12/1/2010 8:26       7.65     17850.0  United Kingdom  \n",
       "6  12/1/2010 8:26       4.25     17850.0  United Kingdom  \n",
       "7  12/1/2010 8:28       1.85     17850.0  United Kingdom  \n",
       "8  12/1/2010 8:28       1.85     17850.0  United Kingdom  \n",
       "9  12/1/2010 8:34       1.69     13047.0  United Kingdom  "
      ]
     },
     "execution_count": 3,
     "metadata": {},
     "output_type": "execute_result"
    }
   ],
   "source": [
    "# specify encoding to deal with different formats\n",
    "df = pd.read_csv('../input/ecommerce-data/data.csv', encoding = 'ISO-8859-1')\n",
    "df.head(10)\n"
   ]
  },
  {
   "cell_type": "code",
   "execution_count": 4,
   "metadata": {
    "execution": {
     "iopub.execute_input": "2021-07-04T14:07:42.846192Z",
     "iopub.status.busy": "2021-07-04T14:07:42.845702Z",
     "iopub.status.idle": "2021-07-04T14:07:42.854604Z",
     "shell.execute_reply": "2021-07-04T14:07:42.853507Z",
     "shell.execute_reply.started": "2021-07-04T14:07:42.846114Z"
    },
    "papermill": {
     "duration": 0.066327,
     "end_time": "2021-04-04T20:59:49.91807",
     "exception": false,
     "start_time": "2021-04-04T20:59:49.851743",
     "status": "completed"
    },
    "tags": []
   },
   "outputs": [
    {
     "name": "stdout",
     "output_type": "stream",
     "text": [
      "InvoiceNo       object\n",
      "StockCode       object\n",
      "Description     object\n",
      "Quantity         int64\n",
      "InvoiceDate     object\n",
      "UnitPrice      float64\n",
      "CustomerID     float64\n",
      "Country         object\n",
      "dtype: object\n"
     ]
    }
   ],
   "source": [
    "print(df.dtypes)"
   ]
  },
  {
   "cell_type": "markdown",
   "metadata": {
    "papermill": {
     "duration": 0.050206,
     "end_time": "2021-04-04T20:59:50.018585",
     "exception": false,
     "start_time": "2021-04-04T20:59:49.968379",
     "status": "completed"
    },
    "tags": []
   },
   "source": [
    "Some attributes of the data\n",
    "\n",
    "```\n",
    "InvoiceNo: Invoice number. Nominal, a 6-digit integral number uniquely assigned to each transaction. If this code starts with letter 'c', it indicates a cancellation.\n",
    "StockCode: Product (item) code. Nominal, a 5-digit integral number uniquely assigned to each distinct product.\n",
    "Description: Product (item) name. Nominal.\n",
    "Quantity: The quantities of each product (item) per transaction. Numeric.\n",
    "InvoiceDate: Invice Date and time. Numeric, the day and time when each transaction was generated.\n",
    "UnitPrice: Unit price. Numeric, Product price per unit in sterling.\n",
    "CustomerID: Customer number. Nominal, a 5-digit integral number uniquely assigned to each customer.\n",
    "Country: Country name. Nominal, the name of the country where each customer resides.\n",
    "```"
   ]
  },
  {
   "cell_type": "code",
   "execution_count": 5,
   "metadata": {
    "execution": {
     "iopub.execute_input": "2021-07-04T14:07:42.856932Z",
     "iopub.status.busy": "2021-07-04T14:07:42.856609Z",
     "iopub.status.idle": "2021-07-04T14:07:43.008337Z",
     "shell.execute_reply": "2021-07-04T14:07:43.007006Z",
     "shell.execute_reply.started": "2021-07-04T14:07:42.856898Z"
    },
    "papermill": {
     "duration": 0.131133,
     "end_time": "2021-04-04T20:59:50.395178",
     "exception": false,
     "start_time": "2021-04-04T20:59:50.264045",
     "status": "completed"
    },
    "tags": []
   },
   "outputs": [
    {
     "data": {
      "text/html": [
       "<div>\n",
       "<style scoped>\n",
       "    .dataframe tbody tr th:only-of-type {\n",
       "        vertical-align: middle;\n",
       "    }\n",
       "\n",
       "    .dataframe tbody tr th {\n",
       "        vertical-align: top;\n",
       "    }\n",
       "\n",
       "    .dataframe thead th {\n",
       "        text-align: right;\n",
       "    }\n",
       "</style>\n",
       "<table border=\"1\" class=\"dataframe\">\n",
       "  <thead>\n",
       "    <tr style=\"text-align: right;\">\n",
       "      <th></th>\n",
       "      <th>Quantity</th>\n",
       "      <th>UnitPrice</th>\n",
       "      <th>CustomerID</th>\n",
       "    </tr>\n",
       "  </thead>\n",
       "  <tbody>\n",
       "    <tr>\n",
       "      <th>count</th>\n",
       "      <td>541909.000000</td>\n",
       "      <td>541909.000000</td>\n",
       "      <td>406829.000000</td>\n",
       "    </tr>\n",
       "    <tr>\n",
       "      <th>mean</th>\n",
       "      <td>9.552250</td>\n",
       "      <td>4.611114</td>\n",
       "      <td>15287.690570</td>\n",
       "    </tr>\n",
       "    <tr>\n",
       "      <th>std</th>\n",
       "      <td>218.081158</td>\n",
       "      <td>96.759853</td>\n",
       "      <td>1713.600303</td>\n",
       "    </tr>\n",
       "    <tr>\n",
       "      <th>min</th>\n",
       "      <td>-80995.000000</td>\n",
       "      <td>-11062.060000</td>\n",
       "      <td>12346.000000</td>\n",
       "    </tr>\n",
       "    <tr>\n",
       "      <th>25%</th>\n",
       "      <td>1.000000</td>\n",
       "      <td>1.250000</td>\n",
       "      <td>13953.000000</td>\n",
       "    </tr>\n",
       "    <tr>\n",
       "      <th>50%</th>\n",
       "      <td>3.000000</td>\n",
       "      <td>2.080000</td>\n",
       "      <td>15152.000000</td>\n",
       "    </tr>\n",
       "    <tr>\n",
       "      <th>75%</th>\n",
       "      <td>10.000000</td>\n",
       "      <td>4.130000</td>\n",
       "      <td>16791.000000</td>\n",
       "    </tr>\n",
       "    <tr>\n",
       "      <th>max</th>\n",
       "      <td>80995.000000</td>\n",
       "      <td>38970.000000</td>\n",
       "      <td>18287.000000</td>\n",
       "    </tr>\n",
       "  </tbody>\n",
       "</table>\n",
       "</div>"
      ],
      "text/plain": [
       "            Quantity      UnitPrice     CustomerID\n",
       "count  541909.000000  541909.000000  406829.000000\n",
       "mean        9.552250       4.611114   15287.690570\n",
       "std       218.081158      96.759853    1713.600303\n",
       "min    -80995.000000  -11062.060000   12346.000000\n",
       "25%         1.000000       1.250000   13953.000000\n",
       "50%         3.000000       2.080000   15152.000000\n",
       "75%        10.000000       4.130000   16791.000000\n",
       "max     80995.000000   38970.000000   18287.000000"
      ]
     },
     "execution_count": 5,
     "metadata": {},
     "output_type": "execute_result"
    }
   ],
   "source": [
    "df.describe()"
   ]
  },
  {
   "cell_type": "markdown",
   "metadata": {
    "papermill": {
     "duration": 0.049413,
     "end_time": "2021-04-04T20:59:50.495093",
     "exception": false,
     "start_time": "2021-04-04T20:59:50.44568",
     "status": "completed"
    },
    "tags": []
   },
   "source": [
    "- As we can see some of the numerical fields are negative. This could be due to erronous values or refunds \n",
    "- This can be checked by comparing whether there are any duplicate invoice numbers or cancellations\n",
    "- Letter c indicates cancellations in Invoice number. Lets check that. "
   ]
  },
  {
   "cell_type": "code",
   "execution_count": 6,
   "metadata": {
    "execution": {
     "iopub.execute_input": "2021-07-04T14:07:43.010706Z",
     "iopub.status.busy": "2021-07-04T14:07:43.010231Z",
     "iopub.status.idle": "2021-07-04T14:08:02.504631Z",
     "shell.execute_reply": "2021-07-04T14:08:02.503405Z",
     "shell.execute_reply.started": "2021-07-04T14:07:43.010646Z"
    },
    "papermill": {
     "duration": 13.239097,
     "end_time": "2021-04-04T21:00:03.784312",
     "exception": false,
     "start_time": "2021-04-04T20:59:50.545215",
     "status": "completed"
    },
    "tags": []
   },
   "outputs": [
    {
     "name": "stdout",
     "output_type": "stream",
     "text": [
      "No of cancellations:  9288\n"
     ]
    }
   ],
   "source": [
    "Cancellations = []\n",
    "\n",
    "for i in range(len(df)):\n",
    "    \n",
    "    if \"c\" in df[\"InvoiceNo\"].loc[i] or \"C\" in df[\"InvoiceNo\"].loc[i] :\n",
    "        \n",
    "        Cancellations.append(1)\n",
    "        \n",
    "    else:\n",
    "        pass\n",
    "\n",
    "print(\"No of cancellations: \", len(Cancellations))"
   ]
  },
  {
   "cell_type": "code",
   "execution_count": 7,
   "metadata": {
    "execution": {
     "iopub.execute_input": "2021-07-04T14:08:02.506480Z",
     "iopub.status.busy": "2021-07-04T14:08:02.506200Z",
     "iopub.status.idle": "2021-07-04T14:08:05.031498Z",
     "shell.execute_reply": "2021-07-04T14:08:05.030301Z",
     "shell.execute_reply.started": "2021-07-04T14:08:02.506453Z"
    },
    "papermill": {
     "duration": 2.132863,
     "end_time": "2021-04-04T21:00:05.96718",
     "exception": false,
     "start_time": "2021-04-04T21:00:03.834317",
     "status": "completed"
    },
    "tags": []
   },
   "outputs": [
    {
     "name": "stdout",
     "output_type": "stream",
     "text": [
      "No of total negative quantity:  10624\n"
     ]
    }
   ],
   "source": [
    "df['InvoiceDate']= pd.to_datetime(df['InvoiceDate'])\n",
    "\n",
    "df.set_index(np.arange(0,len(df),1),inplace=True)\n",
    "neg_df = df[df[\"Quantity\"]<0]\n",
    "pos_df = df[~df[\"Quantity\"]<0]\n",
    "\n",
    "print(\"No of total negative quantity: \",len(neg_df))"
   ]
  },
  {
   "cell_type": "code",
   "execution_count": 8,
   "metadata": {
    "execution": {
     "iopub.execute_input": "2021-07-04T14:08:05.033358Z",
     "iopub.status.busy": "2021-07-04T14:08:05.032989Z",
     "iopub.status.idle": "2021-07-04T14:08:05.073327Z",
     "shell.execute_reply": "2021-07-04T14:08:05.072006Z",
     "shell.execute_reply.started": "2021-07-04T14:08:05.033322Z"
    },
    "papermill": {
     "duration": 0.085075,
     "end_time": "2021-04-04T21:00:06.103847",
     "exception": false,
     "start_time": "2021-04-04T21:00:06.018772",
     "status": "completed"
    },
    "tags": []
   },
   "outputs": [
    {
     "data": {
      "text/html": [
       "<div>\n",
       "<style scoped>\n",
       "    .dataframe tbody tr th:only-of-type {\n",
       "        vertical-align: middle;\n",
       "    }\n",
       "\n",
       "    .dataframe tbody tr th {\n",
       "        vertical-align: top;\n",
       "    }\n",
       "\n",
       "    .dataframe thead th {\n",
       "        text-align: right;\n",
       "    }\n",
       "</style>\n",
       "<table border=\"1\" class=\"dataframe\">\n",
       "  <thead>\n",
       "    <tr style=\"text-align: right;\">\n",
       "      <th></th>\n",
       "      <th>InvoiceNo</th>\n",
       "      <th>StockCode</th>\n",
       "      <th>Description</th>\n",
       "      <th>Quantity</th>\n",
       "      <th>InvoiceDate</th>\n",
       "      <th>UnitPrice</th>\n",
       "      <th>CustomerID</th>\n",
       "      <th>Country</th>\n",
       "    </tr>\n",
       "  </thead>\n",
       "  <tbody>\n",
       "    <tr>\n",
       "      <th>141</th>\n",
       "      <td>C536379</td>\n",
       "      <td>D</td>\n",
       "      <td>Discount</td>\n",
       "      <td>-1</td>\n",
       "      <td>2010-12-01 09:41:00</td>\n",
       "      <td>27.50</td>\n",
       "      <td>14527.0</td>\n",
       "      <td>United Kingdom</td>\n",
       "    </tr>\n",
       "    <tr>\n",
       "      <th>154</th>\n",
       "      <td>C536383</td>\n",
       "      <td>35004C</td>\n",
       "      <td>SET OF 3 COLOURED  FLYING DUCKS</td>\n",
       "      <td>-1</td>\n",
       "      <td>2010-12-01 09:49:00</td>\n",
       "      <td>4.65</td>\n",
       "      <td>15311.0</td>\n",
       "      <td>United Kingdom</td>\n",
       "    </tr>\n",
       "    <tr>\n",
       "      <th>235</th>\n",
       "      <td>C536391</td>\n",
       "      <td>22556</td>\n",
       "      <td>PLASTERS IN TIN CIRCUS PARADE</td>\n",
       "      <td>-12</td>\n",
       "      <td>2010-12-01 10:24:00</td>\n",
       "      <td>1.65</td>\n",
       "      <td>17548.0</td>\n",
       "      <td>United Kingdom</td>\n",
       "    </tr>\n",
       "    <tr>\n",
       "      <th>236</th>\n",
       "      <td>C536391</td>\n",
       "      <td>21984</td>\n",
       "      <td>PACK OF 12 PINK PAISLEY TISSUES</td>\n",
       "      <td>-24</td>\n",
       "      <td>2010-12-01 10:24:00</td>\n",
       "      <td>0.29</td>\n",
       "      <td>17548.0</td>\n",
       "      <td>United Kingdom</td>\n",
       "    </tr>\n",
       "    <tr>\n",
       "      <th>237</th>\n",
       "      <td>C536391</td>\n",
       "      <td>21983</td>\n",
       "      <td>PACK OF 12 BLUE PAISLEY TISSUES</td>\n",
       "      <td>-24</td>\n",
       "      <td>2010-12-01 10:24:00</td>\n",
       "      <td>0.29</td>\n",
       "      <td>17548.0</td>\n",
       "      <td>United Kingdom</td>\n",
       "    </tr>\n",
       "    <tr>\n",
       "      <th>238</th>\n",
       "      <td>C536391</td>\n",
       "      <td>21980</td>\n",
       "      <td>PACK OF 12 RED RETROSPOT TISSUES</td>\n",
       "      <td>-24</td>\n",
       "      <td>2010-12-01 10:24:00</td>\n",
       "      <td>0.29</td>\n",
       "      <td>17548.0</td>\n",
       "      <td>United Kingdom</td>\n",
       "    </tr>\n",
       "    <tr>\n",
       "      <th>239</th>\n",
       "      <td>C536391</td>\n",
       "      <td>21484</td>\n",
       "      <td>CHICK GREY HOT WATER BOTTLE</td>\n",
       "      <td>-12</td>\n",
       "      <td>2010-12-01 10:24:00</td>\n",
       "      <td>3.45</td>\n",
       "      <td>17548.0</td>\n",
       "      <td>United Kingdom</td>\n",
       "    </tr>\n",
       "    <tr>\n",
       "      <th>240</th>\n",
       "      <td>C536391</td>\n",
       "      <td>22557</td>\n",
       "      <td>PLASTERS IN TIN VINTAGE PAISLEY</td>\n",
       "      <td>-12</td>\n",
       "      <td>2010-12-01 10:24:00</td>\n",
       "      <td>1.65</td>\n",
       "      <td>17548.0</td>\n",
       "      <td>United Kingdom</td>\n",
       "    </tr>\n",
       "    <tr>\n",
       "      <th>241</th>\n",
       "      <td>C536391</td>\n",
       "      <td>22553</td>\n",
       "      <td>PLASTERS IN TIN SKULLS</td>\n",
       "      <td>-24</td>\n",
       "      <td>2010-12-01 10:24:00</td>\n",
       "      <td>1.65</td>\n",
       "      <td>17548.0</td>\n",
       "      <td>United Kingdom</td>\n",
       "    </tr>\n",
       "    <tr>\n",
       "      <th>939</th>\n",
       "      <td>C536506</td>\n",
       "      <td>22960</td>\n",
       "      <td>JAM MAKING SET WITH JARS</td>\n",
       "      <td>-6</td>\n",
       "      <td>2010-12-01 12:38:00</td>\n",
       "      <td>4.25</td>\n",
       "      <td>17897.0</td>\n",
       "      <td>United Kingdom</td>\n",
       "    </tr>\n",
       "    <tr>\n",
       "      <th>1441</th>\n",
       "      <td>C536543</td>\n",
       "      <td>22632</td>\n",
       "      <td>HAND WARMER RED RETROSPOT</td>\n",
       "      <td>-1</td>\n",
       "      <td>2010-12-01 14:30:00</td>\n",
       "      <td>2.10</td>\n",
       "      <td>17841.0</td>\n",
       "      <td>United Kingdom</td>\n",
       "    </tr>\n",
       "    <tr>\n",
       "      <th>1442</th>\n",
       "      <td>C536543</td>\n",
       "      <td>22355</td>\n",
       "      <td>CHARLOTTE BAG SUKI DESIGN</td>\n",
       "      <td>-2</td>\n",
       "      <td>2010-12-01 14:30:00</td>\n",
       "      <td>0.85</td>\n",
       "      <td>17841.0</td>\n",
       "      <td>United Kingdom</td>\n",
       "    </tr>\n",
       "    <tr>\n",
       "      <th>1973</th>\n",
       "      <td>C536548</td>\n",
       "      <td>22244</td>\n",
       "      <td>3 HOOK HANGER MAGIC GARDEN</td>\n",
       "      <td>-4</td>\n",
       "      <td>2010-12-01 14:33:00</td>\n",
       "      <td>1.95</td>\n",
       "      <td>12472.0</td>\n",
       "      <td>Germany</td>\n",
       "    </tr>\n",
       "    <tr>\n",
       "      <th>1974</th>\n",
       "      <td>C536548</td>\n",
       "      <td>22242</td>\n",
       "      <td>5 HOOK HANGER MAGIC TOADSTOOL</td>\n",
       "      <td>-5</td>\n",
       "      <td>2010-12-01 14:33:00</td>\n",
       "      <td>1.65</td>\n",
       "      <td>12472.0</td>\n",
       "      <td>Germany</td>\n",
       "    </tr>\n",
       "    <tr>\n",
       "      <th>1975</th>\n",
       "      <td>C536548</td>\n",
       "      <td>20914</td>\n",
       "      <td>SET/5 RED RETROSPOT LID GLASS BOWLS</td>\n",
       "      <td>-1</td>\n",
       "      <td>2010-12-01 14:33:00</td>\n",
       "      <td>2.95</td>\n",
       "      <td>12472.0</td>\n",
       "      <td>Germany</td>\n",
       "    </tr>\n",
       "    <tr>\n",
       "      <th>1976</th>\n",
       "      <td>C536548</td>\n",
       "      <td>22892</td>\n",
       "      <td>SET OF SALT AND PEPPER TOADSTOOLS</td>\n",
       "      <td>-7</td>\n",
       "      <td>2010-12-01 14:33:00</td>\n",
       "      <td>1.25</td>\n",
       "      <td>12472.0</td>\n",
       "      <td>Germany</td>\n",
       "    </tr>\n",
       "    <tr>\n",
       "      <th>1977</th>\n",
       "      <td>C536548</td>\n",
       "      <td>22654</td>\n",
       "      <td>DELUXE SEWING KIT</td>\n",
       "      <td>-1</td>\n",
       "      <td>2010-12-01 14:33:00</td>\n",
       "      <td>5.95</td>\n",
       "      <td>12472.0</td>\n",
       "      <td>Germany</td>\n",
       "    </tr>\n",
       "    <tr>\n",
       "      <th>1978</th>\n",
       "      <td>C536548</td>\n",
       "      <td>22767</td>\n",
       "      <td>TRIPLE PHOTO FRAME CORNICE</td>\n",
       "      <td>-2</td>\n",
       "      <td>2010-12-01 14:33:00</td>\n",
       "      <td>9.95</td>\n",
       "      <td>12472.0</td>\n",
       "      <td>Germany</td>\n",
       "    </tr>\n",
       "    <tr>\n",
       "      <th>1979</th>\n",
       "      <td>C536548</td>\n",
       "      <td>22333</td>\n",
       "      <td>RETROSPOT PARTY BAG + STICKER SET</td>\n",
       "      <td>-1</td>\n",
       "      <td>2010-12-01 14:33:00</td>\n",
       "      <td>1.65</td>\n",
       "      <td>12472.0</td>\n",
       "      <td>Germany</td>\n",
       "    </tr>\n",
       "    <tr>\n",
       "      <th>1980</th>\n",
       "      <td>C536548</td>\n",
       "      <td>22245</td>\n",
       "      <td>HOOK, 1 HANGER ,MAGIC GARDEN</td>\n",
       "      <td>-2</td>\n",
       "      <td>2010-12-01 14:33:00</td>\n",
       "      <td>0.85</td>\n",
       "      <td>12472.0</td>\n",
       "      <td>Germany</td>\n",
       "    </tr>\n",
       "    <tr>\n",
       "      <th>1981</th>\n",
       "      <td>C536548</td>\n",
       "      <td>22077</td>\n",
       "      <td>6 RIBBONS RUSTIC CHARM</td>\n",
       "      <td>-6</td>\n",
       "      <td>2010-12-01 14:33:00</td>\n",
       "      <td>1.65</td>\n",
       "      <td>12472.0</td>\n",
       "      <td>Germany</td>\n",
       "    </tr>\n",
       "    <tr>\n",
       "      <th>1982</th>\n",
       "      <td>C536548</td>\n",
       "      <td>22631</td>\n",
       "      <td>CIRCUS PARADE LUNCH BOX</td>\n",
       "      <td>-1</td>\n",
       "      <td>2010-12-01 14:33:00</td>\n",
       "      <td>1.95</td>\n",
       "      <td>12472.0</td>\n",
       "      <td>Germany</td>\n",
       "    </tr>\n",
       "    <tr>\n",
       "      <th>1983</th>\n",
       "      <td>C536548</td>\n",
       "      <td>22168</td>\n",
       "      <td>ORGANISER WOOD ANTIQUE WHITE</td>\n",
       "      <td>-2</td>\n",
       "      <td>2010-12-01 14:33:00</td>\n",
       "      <td>8.50</td>\n",
       "      <td>12472.0</td>\n",
       "      <td>Germany</td>\n",
       "    </tr>\n",
       "    <tr>\n",
       "      <th>1984</th>\n",
       "      <td>C536548</td>\n",
       "      <td>21218</td>\n",
       "      <td>RED SPOTTY BISCUIT TIN</td>\n",
       "      <td>-3</td>\n",
       "      <td>2010-12-01 14:33:00</td>\n",
       "      <td>3.75</td>\n",
       "      <td>12472.0</td>\n",
       "      <td>Germany</td>\n",
       "    </tr>\n",
       "    <tr>\n",
       "      <th>1985</th>\n",
       "      <td>C536548</td>\n",
       "      <td>20957</td>\n",
       "      <td>PORCELAIN HANGING BELL SMALL</td>\n",
       "      <td>-1</td>\n",
       "      <td>2010-12-01 14:33:00</td>\n",
       "      <td>1.45</td>\n",
       "      <td>12472.0</td>\n",
       "      <td>Germany</td>\n",
       "    </tr>\n",
       "    <tr>\n",
       "      <th>1986</th>\n",
       "      <td>C536548</td>\n",
       "      <td>22580</td>\n",
       "      <td>ADVENT CALENDAR GINGHAM SACK</td>\n",
       "      <td>-4</td>\n",
       "      <td>2010-12-01 14:33:00</td>\n",
       "      <td>5.95</td>\n",
       "      <td>12472.0</td>\n",
       "      <td>Germany</td>\n",
       "    </tr>\n",
       "    <tr>\n",
       "      <th>2406</th>\n",
       "      <td>536589</td>\n",
       "      <td>21777</td>\n",
       "      <td>NaN</td>\n",
       "      <td>-10</td>\n",
       "      <td>2010-12-01 16:50:00</td>\n",
       "      <td>0.00</td>\n",
       "      <td>NaN</td>\n",
       "      <td>United Kingdom</td>\n",
       "    </tr>\n",
       "    <tr>\n",
       "      <th>3170</th>\n",
       "      <td>C536606</td>\n",
       "      <td>20914</td>\n",
       "      <td>SET/5 RED RETROSPOT LID GLASS BOWLS</td>\n",
       "      <td>-2</td>\n",
       "      <td>2010-12-02 09:10:00</td>\n",
       "      <td>2.95</td>\n",
       "      <td>14092.0</td>\n",
       "      <td>United Kingdom</td>\n",
       "    </tr>\n",
       "    <tr>\n",
       "      <th>3338</th>\n",
       "      <td>C536622</td>\n",
       "      <td>22752</td>\n",
       "      <td>SET 7 BABUSHKA NESTING BOXES</td>\n",
       "      <td>-2</td>\n",
       "      <td>2010-12-02 10:37:00</td>\n",
       "      <td>8.50</td>\n",
       "      <td>12471.0</td>\n",
       "      <td>Germany</td>\n",
       "    </tr>\n",
       "    <tr>\n",
       "      <th>3410</th>\n",
       "      <td>C536625</td>\n",
       "      <td>22839</td>\n",
       "      <td>3 TIER CAKE TIN GREEN AND CREAM</td>\n",
       "      <td>-2</td>\n",
       "      <td>2010-12-02 10:46:00</td>\n",
       "      <td>14.95</td>\n",
       "      <td>14766.0</td>\n",
       "      <td>United Kingdom</td>\n",
       "    </tr>\n",
       "    <tr>\n",
       "      <th>3693</th>\n",
       "      <td>C536642</td>\n",
       "      <td>21463</td>\n",
       "      <td>MIRRORED DISCO BALL</td>\n",
       "      <td>-1</td>\n",
       "      <td>2010-12-02 11:56:00</td>\n",
       "      <td>5.95</td>\n",
       "      <td>14390.0</td>\n",
       "      <td>United Kingdom</td>\n",
       "    </tr>\n",
       "    <tr>\n",
       "      <th>3911</th>\n",
       "      <td>C536734</td>\n",
       "      <td>22780</td>\n",
       "      <td>LIGHT GARLAND BUTTERFILES PINK</td>\n",
       "      <td>-4</td>\n",
       "      <td>2010-12-02 12:50:00</td>\n",
       "      <td>4.25</td>\n",
       "      <td>16042.0</td>\n",
       "      <td>United Kingdom</td>\n",
       "    </tr>\n",
       "    <tr>\n",
       "      <th>3912</th>\n",
       "      <td>C536734</td>\n",
       "      <td>85048</td>\n",
       "      <td>15CM CHRISTMAS GLASS BALL 20 LIGHTS</td>\n",
       "      <td>-1</td>\n",
       "      <td>2010-12-02 12:50:00</td>\n",
       "      <td>7.95</td>\n",
       "      <td>16042.0</td>\n",
       "      <td>United Kingdom</td>\n",
       "    </tr>\n",
       "    <tr>\n",
       "      <th>3919</th>\n",
       "      <td>C536737</td>\n",
       "      <td>22798</td>\n",
       "      <td>ANTIQUE GLASS DRESSING TABLE POT</td>\n",
       "      <td>-2</td>\n",
       "      <td>2010-12-02 13:05:00</td>\n",
       "      <td>2.95</td>\n",
       "      <td>15922.0</td>\n",
       "      <td>United Kingdom</td>\n",
       "    </tr>\n",
       "    <tr>\n",
       "      <th>4287</th>\n",
       "      <td>C536757</td>\n",
       "      <td>84347</td>\n",
       "      <td>ROTATING SILVER ANGELS T-LIGHT HLDR</td>\n",
       "      <td>-9360</td>\n",
       "      <td>2010-12-02 14:23:00</td>\n",
       "      <td>0.03</td>\n",
       "      <td>15838.0</td>\n",
       "      <td>United Kingdom</td>\n",
       "    </tr>\n",
       "    <tr>\n",
       "      <th>4288</th>\n",
       "      <td>C536758</td>\n",
       "      <td>21314</td>\n",
       "      <td>SMALL GLASS HEART TRINKET POT</td>\n",
       "      <td>-1</td>\n",
       "      <td>2010-12-02 14:25:00</td>\n",
       "      <td>2.10</td>\n",
       "      <td>13767.0</td>\n",
       "      <td>United Kingdom</td>\n",
       "    </tr>\n",
       "    <tr>\n",
       "      <th>4306</th>\n",
       "      <td>C536760</td>\n",
       "      <td>22175</td>\n",
       "      <td>PINK OWL SOFT TOY</td>\n",
       "      <td>-1</td>\n",
       "      <td>2010-12-02 14:29:00</td>\n",
       "      <td>2.95</td>\n",
       "      <td>17547.0</td>\n",
       "      <td>United Kingdom</td>\n",
       "    </tr>\n",
       "    <tr>\n",
       "      <th>4307</th>\n",
       "      <td>C536760</td>\n",
       "      <td>22273</td>\n",
       "      <td>FELTCRAFT DOLL MOLLY</td>\n",
       "      <td>-3</td>\n",
       "      <td>2010-12-02 14:29:00</td>\n",
       "      <td>2.95</td>\n",
       "      <td>17547.0</td>\n",
       "      <td>United Kingdom</td>\n",
       "    </tr>\n",
       "    <tr>\n",
       "      <th>4347</th>\n",
       "      <td>536764</td>\n",
       "      <td>84952C</td>\n",
       "      <td>NaN</td>\n",
       "      <td>-38</td>\n",
       "      <td>2010-12-02 14:42:00</td>\n",
       "      <td>0.00</td>\n",
       "      <td>NaN</td>\n",
       "      <td>United Kingdom</td>\n",
       "    </tr>\n",
       "    <tr>\n",
       "      <th>4836</th>\n",
       "      <td>C536807</td>\n",
       "      <td>22501</td>\n",
       "      <td>PICNIC BASKET WICKER LARGE</td>\n",
       "      <td>-2</td>\n",
       "      <td>2010-12-02 16:45:00</td>\n",
       "      <td>9.95</td>\n",
       "      <td>15834.0</td>\n",
       "      <td>United Kingdom</td>\n",
       "    </tr>\n",
       "    <tr>\n",
       "      <th>4837</th>\n",
       "      <td>C536807</td>\n",
       "      <td>22778</td>\n",
       "      <td>GLASS CLOCHE SMALL</td>\n",
       "      <td>-1</td>\n",
       "      <td>2010-12-02 16:45:00</td>\n",
       "      <td>3.95</td>\n",
       "      <td>15834.0</td>\n",
       "      <td>United Kingdom</td>\n",
       "    </tr>\n",
       "    <tr>\n",
       "      <th>4853</th>\n",
       "      <td>C536812</td>\n",
       "      <td>22578</td>\n",
       "      <td>WOODEN STAR CHRISTMAS SCANDINAVIAN</td>\n",
       "      <td>-36</td>\n",
       "      <td>2010-12-02 16:58:00</td>\n",
       "      <td>0.85</td>\n",
       "      <td>16546.0</td>\n",
       "      <td>United Kingdom</td>\n",
       "    </tr>\n",
       "    <tr>\n",
       "      <th>4854</th>\n",
       "      <td>C536812</td>\n",
       "      <td>22574</td>\n",
       "      <td>HEART WOODEN CHRISTMAS DECORATION</td>\n",
       "      <td>-192</td>\n",
       "      <td>2010-12-02 16:58:00</td>\n",
       "      <td>0.72</td>\n",
       "      <td>16546.0</td>\n",
       "      <td>United Kingdom</td>\n",
       "    </tr>\n",
       "    <tr>\n",
       "      <th>4855</th>\n",
       "      <td>C536812</td>\n",
       "      <td>22593</td>\n",
       "      <td>CHRISTMAS GINGHAM STAR</td>\n",
       "      <td>-144</td>\n",
       "      <td>2010-12-02 16:58:00</td>\n",
       "      <td>0.72</td>\n",
       "      <td>16546.0</td>\n",
       "      <td>United Kingdom</td>\n",
       "    </tr>\n",
       "    <tr>\n",
       "      <th>4856</th>\n",
       "      <td>C536812</td>\n",
       "      <td>22595</td>\n",
       "      <td>CHRISTMAS GINGHAM HEART</td>\n",
       "      <td>-144</td>\n",
       "      <td>2010-12-02 16:58:00</td>\n",
       "      <td>0.72</td>\n",
       "      <td>16546.0</td>\n",
       "      <td>United Kingdom</td>\n",
       "    </tr>\n",
       "    <tr>\n",
       "      <th>4857</th>\n",
       "      <td>C536812</td>\n",
       "      <td>22588</td>\n",
       "      <td>CARD HOLDER GINGHAM HEART</td>\n",
       "      <td>-192</td>\n",
       "      <td>2010-12-02 16:58:00</td>\n",
       "      <td>2.10</td>\n",
       "      <td>16546.0</td>\n",
       "      <td>United Kingdom</td>\n",
       "    </tr>\n",
       "    <tr>\n",
       "      <th>4858</th>\n",
       "      <td>C536812</td>\n",
       "      <td>22130</td>\n",
       "      <td>PARTY CONE CHRISTMAS DECORATION</td>\n",
       "      <td>-144</td>\n",
       "      <td>2010-12-02 16:58:00</td>\n",
       "      <td>0.72</td>\n",
       "      <td>16546.0</td>\n",
       "      <td>United Kingdom</td>\n",
       "    </tr>\n",
       "    <tr>\n",
       "      <th>4876</th>\n",
       "      <td>C536814</td>\n",
       "      <td>21527</td>\n",
       "      <td>RED RETROSPOT TRADITIONAL TEAPOT</td>\n",
       "      <td>-2</td>\n",
       "      <td>2010-12-02 17:03:00</td>\n",
       "      <td>7.95</td>\n",
       "      <td>13958.0</td>\n",
       "      <td>United Kingdom</td>\n",
       "    </tr>\n",
       "    <tr>\n",
       "      <th>4877</th>\n",
       "      <td>C536814</td>\n",
       "      <td>72799E</td>\n",
       "      <td>IVORY PILLAR CANDLE SILVER FLOCK</td>\n",
       "      <td>-6</td>\n",
       "      <td>2010-12-02 17:03:00</td>\n",
       "      <td>2.95</td>\n",
       "      <td>13958.0</td>\n",
       "      <td>United Kingdom</td>\n",
       "    </tr>\n",
       "    <tr>\n",
       "      <th>4878</th>\n",
       "      <td>C536814</td>\n",
       "      <td>85066</td>\n",
       "      <td>CREAM SWEETHEART MINI CHEST</td>\n",
       "      <td>-2</td>\n",
       "      <td>2010-12-02 17:03:00</td>\n",
       "      <td>12.75</td>\n",
       "      <td>13958.0</td>\n",
       "      <td>United Kingdom</td>\n",
       "    </tr>\n",
       "  </tbody>\n",
       "</table>\n",
       "</div>"
      ],
      "text/plain": [
       "     InvoiceNo StockCode                          Description  Quantity  \\\n",
       "141    C536379         D                             Discount        -1   \n",
       "154    C536383    35004C      SET OF 3 COLOURED  FLYING DUCKS        -1   \n",
       "235    C536391     22556       PLASTERS IN TIN CIRCUS PARADE        -12   \n",
       "236    C536391     21984     PACK OF 12 PINK PAISLEY TISSUES        -24   \n",
       "237    C536391     21983     PACK OF 12 BLUE PAISLEY TISSUES        -24   \n",
       "238    C536391     21980    PACK OF 12 RED RETROSPOT TISSUES        -24   \n",
       "239    C536391     21484          CHICK GREY HOT WATER BOTTLE       -12   \n",
       "240    C536391     22557     PLASTERS IN TIN VINTAGE PAISLEY        -12   \n",
       "241    C536391     22553               PLASTERS IN TIN SKULLS       -24   \n",
       "939    C536506     22960             JAM MAKING SET WITH JARS        -6   \n",
       "1441   C536543     22632            HAND WARMER RED RETROSPOT        -1   \n",
       "1442   C536543     22355            CHARLOTTE BAG SUKI DESIGN        -2   \n",
       "1973   C536548     22244           3 HOOK HANGER MAGIC GARDEN        -4   \n",
       "1974   C536548     22242        5 HOOK HANGER MAGIC TOADSTOOL        -5   \n",
       "1975   C536548     20914  SET/5 RED RETROSPOT LID GLASS BOWLS        -1   \n",
       "1976   C536548     22892    SET OF SALT AND PEPPER TOADSTOOLS        -7   \n",
       "1977   C536548     22654                   DELUXE SEWING KIT         -1   \n",
       "1978   C536548     22767          TRIPLE PHOTO FRAME CORNICE         -2   \n",
       "1979   C536548     22333    RETROSPOT PARTY BAG + STICKER SET        -1   \n",
       "1980   C536548     22245         HOOK, 1 HANGER ,MAGIC GARDEN        -2   \n",
       "1981   C536548     22077               6 RIBBONS RUSTIC CHARM        -6   \n",
       "1982   C536548     22631             CIRCUS PARADE LUNCH BOX         -1   \n",
       "1983   C536548     22168        ORGANISER WOOD ANTIQUE WHITE         -2   \n",
       "1984   C536548     21218               RED SPOTTY BISCUIT TIN        -3   \n",
       "1985   C536548     20957         PORCELAIN HANGING BELL SMALL        -1   \n",
       "1986   C536548     22580         ADVENT CALENDAR GINGHAM SACK        -4   \n",
       "2406    536589     21777                                  NaN       -10   \n",
       "3170   C536606     20914  SET/5 RED RETROSPOT LID GLASS BOWLS        -2   \n",
       "3338   C536622     22752         SET 7 BABUSHKA NESTING BOXES        -2   \n",
       "3410   C536625     22839      3 TIER CAKE TIN GREEN AND CREAM        -2   \n",
       "3693   C536642     21463                 MIRRORED DISCO BALL         -1   \n",
       "3911   C536734     22780       LIGHT GARLAND BUTTERFILES PINK        -4   \n",
       "3912   C536734     85048  15CM CHRISTMAS GLASS BALL 20 LIGHTS        -1   \n",
       "3919   C536737     22798     ANTIQUE GLASS DRESSING TABLE POT        -2   \n",
       "4287   C536757     84347  ROTATING SILVER ANGELS T-LIGHT HLDR     -9360   \n",
       "4288   C536758     21314        SMALL GLASS HEART TRINKET POT        -1   \n",
       "4306   C536760     22175                    PINK OWL SOFT TOY        -1   \n",
       "4307   C536760     22273                 FELTCRAFT DOLL MOLLY        -3   \n",
       "4347    536764    84952C                                  NaN       -38   \n",
       "4836   C536807     22501           PICNIC BASKET WICKER LARGE        -2   \n",
       "4837   C536807     22778                   GLASS CLOCHE SMALL        -1   \n",
       "4853   C536812     22578   WOODEN STAR CHRISTMAS SCANDINAVIAN       -36   \n",
       "4854   C536812     22574    HEART WOODEN CHRISTMAS DECORATION      -192   \n",
       "4855   C536812     22593               CHRISTMAS GINGHAM STAR      -144   \n",
       "4856   C536812     22595              CHRISTMAS GINGHAM HEART      -144   \n",
       "4857   C536812     22588            CARD HOLDER GINGHAM HEART      -192   \n",
       "4858   C536812     22130     PARTY CONE CHRISTMAS DECORATION       -144   \n",
       "4876   C536814     21527    RED RETROSPOT TRADITIONAL TEAPOT         -2   \n",
       "4877   C536814    72799E     IVORY PILLAR CANDLE SILVER FLOCK        -6   \n",
       "4878   C536814     85066          CREAM SWEETHEART MINI CHEST        -2   \n",
       "\n",
       "             InvoiceDate  UnitPrice  CustomerID         Country  \n",
       "141  2010-12-01 09:41:00      27.50     14527.0  United Kingdom  \n",
       "154  2010-12-01 09:49:00       4.65     15311.0  United Kingdom  \n",
       "235  2010-12-01 10:24:00       1.65     17548.0  United Kingdom  \n",
       "236  2010-12-01 10:24:00       0.29     17548.0  United Kingdom  \n",
       "237  2010-12-01 10:24:00       0.29     17548.0  United Kingdom  \n",
       "238  2010-12-01 10:24:00       0.29     17548.0  United Kingdom  \n",
       "239  2010-12-01 10:24:00       3.45     17548.0  United Kingdom  \n",
       "240  2010-12-01 10:24:00       1.65     17548.0  United Kingdom  \n",
       "241  2010-12-01 10:24:00       1.65     17548.0  United Kingdom  \n",
       "939  2010-12-01 12:38:00       4.25     17897.0  United Kingdom  \n",
       "1441 2010-12-01 14:30:00       2.10     17841.0  United Kingdom  \n",
       "1442 2010-12-01 14:30:00       0.85     17841.0  United Kingdom  \n",
       "1973 2010-12-01 14:33:00       1.95     12472.0         Germany  \n",
       "1974 2010-12-01 14:33:00       1.65     12472.0         Germany  \n",
       "1975 2010-12-01 14:33:00       2.95     12472.0         Germany  \n",
       "1976 2010-12-01 14:33:00       1.25     12472.0         Germany  \n",
       "1977 2010-12-01 14:33:00       5.95     12472.0         Germany  \n",
       "1978 2010-12-01 14:33:00       9.95     12472.0         Germany  \n",
       "1979 2010-12-01 14:33:00       1.65     12472.0         Germany  \n",
       "1980 2010-12-01 14:33:00       0.85     12472.0         Germany  \n",
       "1981 2010-12-01 14:33:00       1.65     12472.0         Germany  \n",
       "1982 2010-12-01 14:33:00       1.95     12472.0         Germany  \n",
       "1983 2010-12-01 14:33:00       8.50     12472.0         Germany  \n",
       "1984 2010-12-01 14:33:00       3.75     12472.0         Germany  \n",
       "1985 2010-12-01 14:33:00       1.45     12472.0         Germany  \n",
       "1986 2010-12-01 14:33:00       5.95     12472.0         Germany  \n",
       "2406 2010-12-01 16:50:00       0.00         NaN  United Kingdom  \n",
       "3170 2010-12-02 09:10:00       2.95     14092.0  United Kingdom  \n",
       "3338 2010-12-02 10:37:00       8.50     12471.0         Germany  \n",
       "3410 2010-12-02 10:46:00      14.95     14766.0  United Kingdom  \n",
       "3693 2010-12-02 11:56:00       5.95     14390.0  United Kingdom  \n",
       "3911 2010-12-02 12:50:00       4.25     16042.0  United Kingdom  \n",
       "3912 2010-12-02 12:50:00       7.95     16042.0  United Kingdom  \n",
       "3919 2010-12-02 13:05:00       2.95     15922.0  United Kingdom  \n",
       "4287 2010-12-02 14:23:00       0.03     15838.0  United Kingdom  \n",
       "4288 2010-12-02 14:25:00       2.10     13767.0  United Kingdom  \n",
       "4306 2010-12-02 14:29:00       2.95     17547.0  United Kingdom  \n",
       "4307 2010-12-02 14:29:00       2.95     17547.0  United Kingdom  \n",
       "4347 2010-12-02 14:42:00       0.00         NaN  United Kingdom  \n",
       "4836 2010-12-02 16:45:00       9.95     15834.0  United Kingdom  \n",
       "4837 2010-12-02 16:45:00       3.95     15834.0  United Kingdom  \n",
       "4853 2010-12-02 16:58:00       0.85     16546.0  United Kingdom  \n",
       "4854 2010-12-02 16:58:00       0.72     16546.0  United Kingdom  \n",
       "4855 2010-12-02 16:58:00       0.72     16546.0  United Kingdom  \n",
       "4856 2010-12-02 16:58:00       0.72     16546.0  United Kingdom  \n",
       "4857 2010-12-02 16:58:00       2.10     16546.0  United Kingdom  \n",
       "4858 2010-12-02 16:58:00       0.72     16546.0  United Kingdom  \n",
       "4876 2010-12-02 17:03:00       7.95     13958.0  United Kingdom  \n",
       "4877 2010-12-02 17:03:00       2.95     13958.0  United Kingdom  \n",
       "4878 2010-12-02 17:03:00      12.75     13958.0  United Kingdom  "
      ]
     },
     "execution_count": 8,
     "metadata": {},
     "output_type": "execute_result"
    }
   ],
   "source": [
    "neg_df.head(50)"
   ]
  },
  {
   "cell_type": "markdown",
   "metadata": {
    "papermill": {
     "duration": 0.050764,
     "end_time": "2021-04-04T21:00:06.205813",
     "exception": false,
     "start_time": "2021-04-04T21:00:06.155049",
     "status": "completed"
    },
    "tags": []
   },
   "source": [
    "Cancellations could amount to the negative quantity. Let's check for refunds. These can happen for\n",
    "- Quantity lower than total bought quantity\n",
    "- Bought after the purchase date\n",
    "- Same customer id"
   ]
  },
  {
   "cell_type": "code",
   "execution_count": 9,
   "metadata": {
    "execution": {
     "iopub.execute_input": "2021-07-04T14:08:05.076815Z",
     "iopub.status.busy": "2021-07-04T14:08:05.076465Z",
     "iopub.status.idle": "2021-07-04T14:08:05.811411Z",
     "shell.execute_reply": "2021-07-04T14:08:05.810330Z",
     "shell.execute_reply.started": "2021-07-04T14:08:05.076780Z"
    },
    "papermill": {
     "duration": 0.404115,
     "end_time": "2021-04-04T21:00:06.661647",
     "exception": false,
     "start_time": "2021-04-04T21:00:06.257532",
     "status": "completed"
    },
    "tags": []
   },
   "outputs": [
    {
     "name": "stdout",
     "output_type": "stream",
     "text": [
      "Refunds exists\n"
     ]
    }
   ],
   "source": [
    "check_for_truth = []\n",
    "\n",
    "for j in neg_df.index:  \n",
    "    \n",
    "        for_ref = pos_df[(neg_df[\"CustomerID\"].loc[j]==pos_df[\"CustomerID\"]) & \\\n",
    "        (neg_df[\"Description\"].loc[j]==pos_df[\"Description\"])\\\n",
    "         &  (neg_df[\"InvoiceDate\"].loc[j]>pos_df[\"InvoiceDate\"]) & \\\n",
    "         (abs(neg_df[\"Quantity\"].loc[j])<=pos_df[\"Quantity\"])]\n",
    "        \n",
    "        if len(for_ref)>0:\n",
    "            print(\"Refunds exists\")\n",
    "            break    \n",
    "        \n",
    "        \n"
   ]
  },
  {
   "cell_type": "markdown",
   "metadata": {
    "papermill": {
     "duration": 0.051198,
     "end_time": "2021-04-04T21:00:06.764542",
     "exception": false,
     "start_time": "2021-04-04T21:00:06.713344",
     "status": "completed"
    },
    "tags": []
   },
   "source": [
    "### Let's check which items contribute to the most refunds"
   ]
  },
  {
   "cell_type": "code",
   "execution_count": 10,
   "metadata": {
    "execution": {
     "iopub.execute_input": "2021-07-04T14:08:05.814024Z",
     "iopub.status.busy": "2021-07-04T14:08:05.813700Z",
     "iopub.status.idle": "2021-07-04T14:08:06.091396Z",
     "shell.execute_reply": "2021-07-04T14:08:06.090172Z",
     "shell.execute_reply.started": "2021-07-04T14:08:05.813991Z"
    },
    "papermill": {
     "duration": 0.29532,
     "end_time": "2021-04-04T21:00:07.111229",
     "exception": false,
     "start_time": "2021-04-04T21:00:06.815909",
     "status": "completed"
    },
    "tags": []
   },
   "outputs": [
    {
     "data": {
      "image/png": "[encoded data removed]",
      "text/plain": [
       "<Figure size 720x720 with 1 Axes>"
      ]
     },
     "metadata": {},
     "output_type": "display_data"
    }
   ],
   "source": [
    "df_neg = neg_df[['Quantity','Description']].groupby(\"Description\").sum()\n",
    "df_neg[\"Quantity\"] = abs(df_neg[\"Quantity\"])\n",
    "\n",
    "plt.figure(figsize=(10,10))\n",
    "df_neg = df_neg.nlargest(10,columns=\"Quantity\")\n",
    "plt.title(\"Top 10 items that were refunded\")\n",
    "plt.pie(df_neg[\"Quantity\"].to_list(),labels=df_neg.index,autopct='%1.1f%%')\n",
    "plt.show()"
   ]
  },
  {
   "cell_type": "markdown",
   "metadata": {
    "papermill": {
     "duration": 0.054442,
     "end_time": "2021-04-04T21:00:07.221258",
     "exception": false,
     "start_time": "2021-04-04T21:00:07.166816",
     "status": "completed"
    },
    "tags": []
   },
   "source": [
    "- Paper craft little birdie along with medium ceramic top storage jar are the most refunded\n",
    "- Refunded item details will not be deleted from the dataframe as they are vital later for correctly finding the revenue retention\n",
    "- Additionally there are items mentioned as unsaleable, destroyed, printing smudges/thrown away which don't point to a specific item. These can be checked with stockcode"
   ]
  },
  {
   "cell_type": "code",
   "execution_count": 11,
   "metadata": {
    "execution": {
     "iopub.execute_input": "2021-07-04T14:08:06.093489Z",
     "iopub.status.busy": "2021-07-04T14:08:06.093155Z",
     "iopub.status.idle": "2021-07-04T14:08:06.326728Z",
     "shell.execute_reply": "2021-07-04T14:08:06.325240Z",
     "shell.execute_reply.started": "2021-07-04T14:08:06.093453Z"
    },
    "papermill": {
     "duration": 0.169342,
     "end_time": "2021-04-04T21:00:07.445328",
     "exception": false,
     "start_time": "2021-04-04T21:00:07.275986",
     "status": "completed"
    },
    "tags": []
   },
   "outputs": [
    {
     "name": "stdout",
     "output_type": "stream",
     "text": [
      "       InvoiceNo StockCode                   Description  Quantity  \\\n",
      "225529    556690     23005  printing smudges/thrown away     -9600   \n",
      "225530    556691     23005  printing smudges/thrown away     -9600   \n",
      "\n",
      "               InvoiceDate  UnitPrice  CustomerID         Country  \n",
      "225529 2011-06-14 10:37:00        0.0         NaN  United Kingdom  \n",
      "225530 2011-06-14 10:37:00        0.0         NaN  United Kingdom  \n",
      "       InvoiceNo StockCode             Description  Quantity  \\\n",
      "431375    573590    79323G  Unsaleable, destroyed.      -657   \n",
      "431376    573591    79323B  Unsaleable, destroyed.     -1671   \n",
      "431377    573592   79323GR  Unsaleable, destroyed.     -1158   \n",
      "431378    573593   79323LP  Unsaleable, destroyed.     -2618   \n",
      "431379    573594    79323P  Unsaleable, destroyed.     -2003   \n",
      "431380    573595    79323S  Unsaleable, destroyed.      -674   \n",
      "431381    573596    79323W  Unsaleable, destroyed.     -4830   \n",
      "431382    573597     79341  Unsaleable, destroyed.      -905   \n",
      "431383    573598    79342B  Unsaleable, destroyed.     -1128   \n",
      "\n",
      "               InvoiceDate  UnitPrice  CustomerID         Country  \n",
      "431375 2011-10-31 15:15:00        0.0         NaN  United Kingdom  \n",
      "431376 2011-10-31 15:15:00        0.0         NaN  United Kingdom  \n",
      "431377 2011-10-31 15:16:00        0.0         NaN  United Kingdom  \n",
      "431378 2011-10-31 15:16:00        0.0         NaN  United Kingdom  \n",
      "431379 2011-10-31 15:16:00        0.0         NaN  United Kingdom  \n",
      "431380 2011-10-31 15:17:00        0.0         NaN  United Kingdom  \n",
      "431381 2011-10-31 15:17:00        0.0         NaN  United Kingdom  \n",
      "431382 2011-10-31 15:18:00        0.0         NaN  United Kingdom  \n",
      "431383 2011-10-31 15:18:00        0.0         NaN  United Kingdom  \n",
      "       InvoiceNo StockCode Description  Quantity         InvoiceDate  \\\n",
      "13217     537425    84968F       check       -20 2010-12-06 15:35:00   \n",
      "13218     537426    84968E       check       -35 2010-12-06 15:36:00   \n",
      "108577    545546    84249A       check      -150 2011-03-03 15:03:00   \n",
      "113580    545990     84598       check     -3000 2011-03-08 13:07:00   \n",
      "381676    569875    90195A       check       -45 2011-10-06 15:07:00   \n",
      "...          ...       ...         ...       ...                 ...   \n",
      "535325    581202     23404       check        41 2011-12-07 18:30:00   \n",
      "535331    581208    72801C       check       -10 2011-12-07 18:35:00   \n",
      "535333    581210     23395       check       -26 2011-12-07 18:36:00   \n",
      "535334    581211     22142       check        14 2011-12-07 18:36:00   \n",
      "535336    581213     22576       check       -30 2011-12-07 18:38:00   \n",
      "\n",
      "        UnitPrice  CustomerID         Country  \n",
      "13217         0.0         NaN  United Kingdom  \n",
      "13218         0.0         NaN  United Kingdom  \n",
      "108577        0.0         NaN  United Kingdom  \n",
      "113580        0.0         NaN  United Kingdom  \n",
      "381676        0.0         NaN  United Kingdom  \n",
      "...           ...         ...             ...  \n",
      "535325        0.0         NaN  United Kingdom  \n",
      "535331        0.0         NaN  United Kingdom  \n",
      "535333        0.0         NaN  United Kingdom  \n",
      "535334        0.0         NaN  United Kingdom  \n",
      "535336        0.0         NaN  United Kingdom  \n",
      "\n",
      "[159 rows x 8 columns]\n"
     ]
    }
   ],
   "source": [
    "print(df[df.Description==\"printing smudges/thrown away\"])\n",
    "\n",
    "print(df[df.Description==\"Unsaleable, destroyed.\"])\n",
    "\n",
    "print(df[df.Description==\"check\"])"
   ]
  },
  {
   "cell_type": "markdown",
   "metadata": {
    "papermill": {
     "duration": 0.053614,
     "end_time": "2021-04-04T21:00:07.553187",
     "exception": false,
     "start_time": "2021-04-04T21:00:07.499573",
     "status": "completed"
    },
    "tags": []
   },
   "source": [
    "- Since, they lack a CustomerID, they could be refunds at the company level i.e. refunds during purchase from the supplier\n",
    "- Let's check for negative price"
   ]
  },
  {
   "cell_type": "code",
   "execution_count": 12,
   "metadata": {
    "execution": {
     "iopub.execute_input": "2021-07-04T14:08:06.328761Z",
     "iopub.status.busy": "2021-07-04T14:08:06.328431Z",
     "iopub.status.idle": "2021-07-04T14:08:06.341916Z",
     "shell.execute_reply": "2021-07-04T14:08:06.340989Z",
     "shell.execute_reply.started": "2021-07-04T14:08:06.328727Z"
    },
    "papermill": {
     "duration": 0.068873,
     "end_time": "2021-04-04T21:00:08.532203",
     "exception": false,
     "start_time": "2021-04-04T21:00:08.46333",
     "status": "completed"
    },
    "tags": []
   },
   "outputs": [
    {
     "name": "stdout",
     "output_type": "stream",
     "text": [
      "       InvoiceNo StockCode      Description  Quantity         InvoiceDate  \\\n",
      "299983   A563186         B  Adjust bad debt         1 2011-08-12 14:51:00   \n",
      "299984   A563187         B  Adjust bad debt         1 2011-08-12 14:52:00   \n",
      "\n",
      "        UnitPrice  CustomerID         Country  \n",
      "299983  -11062.06         NaN  United Kingdom  \n",
      "299984  -11062.06         NaN  United Kingdom  \n"
     ]
    }
   ],
   "source": [
    "neg_price = df[df[\"UnitPrice\"]<0]\n",
    "print(neg_price)"
   ]
  },
  {
   "cell_type": "markdown",
   "metadata": {
    "papermill": {
     "duration": 0.056353,
     "end_time": "2021-04-04T21:00:08.644675",
     "exception": false,
     "start_time": "2021-04-04T21:00:08.588322",
     "status": "completed"
    },
    "tags": []
   },
   "source": [
    "- Since this does not count as a customer, let's delete it "
   ]
  },
  {
   "cell_type": "code",
   "execution_count": 13,
   "metadata": {
    "execution": {
     "iopub.execute_input": "2021-07-04T14:08:06.343471Z",
     "iopub.status.busy": "2021-07-04T14:08:06.343085Z",
     "iopub.status.idle": "2021-07-04T14:08:06.408362Z",
     "shell.execute_reply": "2021-07-04T14:08:06.407353Z",
     "shell.execute_reply.started": "2021-07-04T14:08:06.343435Z"
    },
    "papermill": {
     "duration": 0.113457,
     "end_time": "2021-04-04T21:00:08.814559",
     "exception": false,
     "start_time": "2021-04-04T21:00:08.701102",
     "status": "completed"
    },
    "tags": []
   },
   "outputs": [],
   "source": [
    "df = df[df[\"UnitPrice\"]>0]"
   ]
  },
  {
   "cell_type": "markdown",
   "metadata": {
    "papermill": {
     "duration": 0.056401,
     "end_time": "2021-04-04T21:00:08.927673",
     "exception": false,
     "start_time": "2021-04-04T21:00:08.871272",
     "status": "completed"
    },
    "tags": []
   },
   "source": [
    "- Remove possible duplicates and check for null values"
   ]
  },
  {
   "cell_type": "code",
   "execution_count": 14,
   "metadata": {
    "execution": {
     "iopub.execute_input": "2021-07-04T14:08:06.409974Z",
     "iopub.status.busy": "2021-07-04T14:08:06.409548Z",
     "iopub.status.idle": "2021-07-04T14:08:07.036145Z",
     "shell.execute_reply": "2021-07-04T14:08:07.035382Z",
     "shell.execute_reply.started": "2021-07-04T14:08:06.409942Z"
    },
    "papermill": {
     "duration": 0.49845,
     "end_time": "2021-04-04T21:00:09.482713",
     "exception": false,
     "start_time": "2021-04-04T21:00:08.984263",
     "status": "completed"
    },
    "tags": []
   },
   "outputs": [
    {
     "data": {
      "text/plain": [
       "InvoiceNo           0\n",
       "StockCode           0\n",
       "Description         0\n",
       "Quantity            0\n",
       "InvoiceDate         0\n",
       "UnitPrice           0\n",
       "CustomerID     132565\n",
       "Country             0\n",
       "dtype: int64"
      ]
     },
     "execution_count": 14,
     "metadata": {},
     "output_type": "execute_result"
    }
   ],
   "source": [
    "df = df.drop_duplicates(keep='first')\n",
    "df.isnull().sum()"
   ]
  },
  {
   "cell_type": "markdown",
   "metadata": {
    "papermill": {
     "duration": 0.057301,
     "end_time": "2021-04-04T21:00:09.596986",
     "exception": false,
     "start_time": "2021-04-04T21:00:09.539685",
     "status": "completed"
    },
    "tags": []
   },
   "source": [
    "- From above, some descriptions are NaN, but they don't appear here.\n",
    "- Maybe they are text, let's find them and convert them to null values"
   ]
  },
  {
   "cell_type": "code",
   "execution_count": 15,
   "metadata": {
    "execution": {
     "iopub.execute_input": "2021-07-04T14:08:07.037760Z",
     "iopub.status.busy": "2021-07-04T14:08:07.037326Z",
     "iopub.status.idle": "2021-07-04T14:08:07.419847Z",
     "shell.execute_reply": "2021-07-04T14:08:07.419085Z",
     "shell.execute_reply.started": "2021-07-04T14:08:07.037712Z"
    },
    "papermill": {
     "duration": 0.290116,
     "end_time": "2021-04-04T21:00:09.944321",
     "exception": false,
     "start_time": "2021-04-04T21:00:09.654205",
     "status": "completed"
    },
    "tags": []
   },
   "outputs": [
    {
     "name": "stdout",
     "output_type": "stream",
     "text": [
      "InvoiceNo           0\n",
      "StockCode           0\n",
      "Description         0\n",
      "Quantity            0\n",
      "InvoiceDate         0\n",
      "UnitPrice           0\n",
      "CustomerID     132565\n",
      "Country             0\n",
      "dtype: int64\n"
     ]
    }
   ],
   "source": [
    "df[\"Description\"] = df[\"Description\"].apply(lambda x:np.nan if x.lower() == \"nan\" else x)\n",
    "print(df.isnull().sum()) # Seems to be zero for zero unit price"
   ]
  },
  {
   "cell_type": "code",
   "execution_count": 16,
   "metadata": {
    "execution": {
     "iopub.execute_input": "2021-07-04T14:08:07.421939Z",
     "iopub.status.busy": "2021-07-04T14:08:07.421320Z",
     "iopub.status.idle": "2021-07-04T14:08:07.451591Z",
     "shell.execute_reply": "2021-07-04T14:08:07.450582Z",
     "shell.execute_reply.started": "2021-07-04T14:08:07.421891Z"
    },
    "papermill": {
     "duration": 0.083663,
     "end_time": "2021-04-04T21:00:10.085424",
     "exception": false,
     "start_time": "2021-04-04T21:00:10.001761",
     "status": "completed"
    },
    "tags": []
   },
   "outputs": [
    {
     "name": "stdout",
     "output_type": "stream",
     "text": [
      "       InvoiceNo StockCode                      Description  Quantity  \\\n",
      "1443      536544     21773  DECORATIVE ROSE BATHROOM BOTTLE         1   \n",
      "1444      536544     21774  DECORATIVE CATS BATHROOM BOTTLE         2   \n",
      "1445      536544     21786               POLKADOT RAIN HAT          4   \n",
      "1446      536544     21787            RAIN PONCHO RETROSPOT         2   \n",
      "1447      536544     21790               VINTAGE SNAP CARDS         9   \n",
      "...          ...       ...                              ...       ...   \n",
      "541536    581498    85099B          JUMBO BAG RED RETROSPOT         5   \n",
      "541537    581498    85099C   JUMBO  BAG BAROQUE BLACK WHITE         4   \n",
      "541538    581498     85150    LADIES & GENTLEMEN METAL SIGN         1   \n",
      "541539    581498     85174                S/4 CACTI CANDLES         1   \n",
      "541540    581498       DOT                   DOTCOM POSTAGE         1   \n",
      "\n",
      "               InvoiceDate  UnitPrice  CustomerID         Country  \n",
      "1443   2010-12-01 14:32:00       2.51         NaN  United Kingdom  \n",
      "1444   2010-12-01 14:32:00       2.51         NaN  United Kingdom  \n",
      "1445   2010-12-01 14:32:00       0.85         NaN  United Kingdom  \n",
      "1446   2010-12-01 14:32:00       1.66         NaN  United Kingdom  \n",
      "1447   2010-12-01 14:32:00       1.66         NaN  United Kingdom  \n",
      "...                    ...        ...         ...             ...  \n",
      "541536 2011-12-09 10:26:00       4.13         NaN  United Kingdom  \n",
      "541537 2011-12-09 10:26:00       4.13         NaN  United Kingdom  \n",
      "541538 2011-12-09 10:26:00       4.96         NaN  United Kingdom  \n",
      "541539 2011-12-09 10:26:00      10.79         NaN  United Kingdom  \n",
      "541540 2011-12-09 10:26:00    1714.17         NaN  United Kingdom  \n",
      "\n",
      "[132565 rows x 8 columns]\n"
     ]
    }
   ],
   "source": [
    "print(df[df[\"CustomerID\"].isna()])"
   ]
  },
  {
   "cell_type": "markdown",
   "metadata": {
    "papermill": {
     "duration": 0.057998,
     "end_time": "2021-04-04T21:00:10.201901",
     "exception": false,
     "start_time": "2021-04-04T21:00:10.143903",
     "status": "completed"
    },
    "tags": []
   },
   "source": [
    "- This could probably be customers whose details have not been taken down\n",
    "- To ensure our analysis are correct, drop rows with null values throughout\n",
    "- Additionally some items are coded less than 5, they seem to some kind of delivery charge"
   ]
  },
  {
   "cell_type": "code",
   "execution_count": 17,
   "metadata": {
    "execution": {
     "iopub.execute_input": "2021-07-04T14:08:07.453385Z",
     "iopub.status.busy": "2021-07-04T14:08:07.453042Z",
     "iopub.status.idle": "2021-07-04T14:08:08.290074Z",
     "shell.execute_reply": "2021-07-04T14:08:08.288901Z",
     "shell.execute_reply.started": "2021-07-04T14:08:07.453350Z"
    },
    "papermill": {
     "duration": 0.560877,
     "end_time": "2021-04-04T21:00:10.820723",
     "exception": false,
     "start_time": "2021-04-04T21:00:10.259846",
     "status": "completed"
    },
    "tags": []
   },
   "outputs": [],
   "source": [
    "# String nan\n",
    "columns = [\"InvoiceNo\",\"StockCode\",\"Country\",\"Description\"]\n",
    "for column in columns:\n",
    "    df[column] = df[column].apply(lambda x:np.nan if x.lower==\"nan\" else x)   \n",
    "  \n",
    "df.dropna(inplace=True)\n"
   ]
  },
  {
   "cell_type": "markdown",
   "metadata": {
    "papermill": {
     "duration": 0.059128,
     "end_time": "2021-04-04T21:00:10.938791",
     "exception": false,
     "start_time": "2021-04-04T21:00:10.879663",
     "status": "completed"
    },
    "tags": []
   },
   "source": [
    "Lets look at the stock code especially where there are instance of codes with length less than 5"
   ]
  },
  {
   "cell_type": "code",
   "execution_count": 18,
   "metadata": {
    "execution": {
     "iopub.execute_input": "2021-07-04T14:08:08.292047Z",
     "iopub.status.busy": "2021-07-04T14:08:08.291709Z",
     "iopub.status.idle": "2021-07-04T14:08:08.557244Z",
     "shell.execute_reply": "2021-07-04T14:08:08.555868Z",
     "shell.execute_reply.started": "2021-07-04T14:08:08.292012Z"
    },
    "papermill": {
     "duration": 0.215144,
     "end_time": "2021-04-04T21:00:11.213218",
     "exception": false,
     "start_time": "2021-04-04T21:00:10.998074",
     "status": "completed"
    },
    "tags": []
   },
   "outputs": [
    {
     "name": "stdout",
     "output_type": "stream",
     "text": [
      "POST    1196\n",
      "M        454\n",
      "C2       134\n",
      "D         77\n",
      "DOT       16\n",
      "CRUK      16\n",
      "PADS       3\n",
      "Name: StockCode, dtype: int64\n"
     ]
    }
   ],
   "source": [
    "df_sc = df[df.StockCode.str.len()<5]\n",
    "print(df_sc[\"StockCode\"].value_counts())"
   ]
  },
  {
   "cell_type": "code",
   "execution_count": 19,
   "metadata": {
    "execution": {
     "iopub.execute_input": "2021-07-04T14:08:08.558863Z",
     "iopub.status.busy": "2021-07-04T14:08:08.558566Z",
     "iopub.status.idle": "2021-07-04T14:08:08.591047Z",
     "shell.execute_reply": "2021-07-04T14:08:08.589791Z",
     "shell.execute_reply.started": "2021-07-04T14:08:08.558833Z"
    },
    "papermill": {
     "duration": 0.086594,
     "end_time": "2021-04-04T21:00:11.358794",
     "exception": false,
     "start_time": "2021-04-04T21:00:11.2722",
     "status": "completed"
    },
    "tags": []
   },
   "outputs": [
    {
     "name": "stdout",
     "output_type": "stream",
     "text": [
      "POST 45    POSTAGE\n",
      "Name: Description, dtype: object\n",
      "DOT 317507    DOTCOM POSTAGE\n",
      "Name: Description, dtype: object\n",
      "M 2239    Manual\n",
      "Name: Description, dtype: object\n",
      "C2 1423    CARRIAGE\n",
      "Name: Description, dtype: object\n",
      "D 141    Discount\n",
      "Name: Description, dtype: object\n",
      "S Series([], Name: Description, dtype: object)\n",
      "CRUK 317508    CRUK Commission\n",
      "Name: Description, dtype: object\n",
      "PADS 157195    PADS TO MATCH ALL CUSHIONS\n",
      "Name: Description, dtype: object\n",
      "B Series([], Name: Description, dtype: object)\n",
      "M 2239    Manual\n",
      "Name: Description, dtype: object\n"
     ]
    }
   ],
   "source": [
    "print(\"POST\",df_sc[df_sc.StockCode==\"POST\"][\"Description\"].head(1))\n",
    "print(\"DOT\",df_sc[df_sc.StockCode==\"DOT\"][\"Description\"].head(1)) \n",
    "print(\"M\",df_sc[df_sc.StockCode==\"M\"][\"Description\"].head(1)) \n",
    "print(\"C2\",df_sc[df_sc.StockCode==\"C2\"][\"Description\"].head(1))\n",
    "print(\"D\",df_sc[df_sc.StockCode==\"D\"][\"Description\"].head(1)) \n",
    "print(\"S\",df_sc[df_sc.StockCode==\"S\"][\"Description\"].head(1))\n",
    "print(\"CRUK\",df_sc[df_sc.StockCode==\"CRUK\"][\"Description\"].head(1))\n",
    "print(\"PADS\",df_sc[df_sc.StockCode==\"PADS\"][\"Description\"].head(1))\n",
    "print(\"B\",df_sc[df_sc.StockCode==\"B\"][\"Description\"].head(1))\n",
    "print(\"M\",df_sc[df_sc.StockCode==\"M\"][\"Description\"].head(1))"
   ]
  },
  {
   "cell_type": "markdown",
   "metadata": {
    "papermill": {
     "duration": 0.059062,
     "end_time": "2021-04-04T21:00:11.477456",
     "exception": false,
     "start_time": "2021-04-04T21:00:11.418394",
     "status": "completed"
    },
    "tags": []
   },
   "source": [
    "- These seem to be additional charges for delivery and additional services. It would be better to remove them as they might inflate the revenue figures (except for discount)\n",
    "- Before that, let's check for stock code greater than 5"
   ]
  },
  {
   "cell_type": "code",
   "execution_count": 20,
   "metadata": {
    "execution": {
     "iopub.execute_input": "2021-07-04T14:08:08.592587Z",
     "iopub.status.busy": "2021-07-04T14:08:08.592324Z",
     "iopub.status.idle": "2021-07-04T14:08:09.249028Z",
     "shell.execute_reply": "2021-07-04T14:08:09.248189Z",
     "shell.execute_reply.started": "2021-07-04T14:08:08.592561Z"
    },
    "papermill": {
     "duration": 0.430914,
     "end_time": "2021-04-04T21:00:11.966813",
     "exception": false,
     "start_time": "2021-04-04T21:00:11.535899",
     "status": "completed"
    },
    "tags": []
   },
   "outputs": [
    {
     "name": "stdout",
     "output_type": "stream",
     "text": [
      "  InvoiceNo StockCode                         Description  Quantity  \\\n",
      "0    536365    85123A  WHITE HANGING HEART T-LIGHT HOLDER         6   \n",
      "2    536365    84406B      CREAM CUPID HEARTS COAT HANGER         8   \n",
      "\n",
      "          InvoiceDate  UnitPrice  CustomerID         Country  \n",
      "0 2010-12-01 08:26:00       2.55     17850.0  United Kingdom  \n",
      "2 2010-12-01 08:26:00       2.75     17850.0  United Kingdom  \n",
      "    InvoiceNo StockCode              Description  Quantity  \\\n",
      "132    536381   15056BL  EDWARDIAN PARASOL BLACK         2   \n",
      "281    536396   15056BL  EDWARDIAN PARASOL BLACK         6   \n",
      "\n",
      "            InvoiceDate  UnitPrice  CustomerID         Country  \n",
      "132 2010-12-01 09:41:00       5.95     15311.0  United Kingdom  \n",
      "281 2010-12-01 10:51:00       4.95     17850.0  United Kingdom  \n",
      "      InvoiceNo     StockCode   Description  Quantity         InvoiceDate  \\\n",
      "4406     536779  BANK CHARGES  Bank Charges         1 2010-12-02 15:08:00   \n",
      "62508    541505  BANK CHARGES  Bank Charges         1 2011-01-18 15:58:00   \n",
      "\n",
      "       UnitPrice  CustomerID         Country  \n",
      "4406        15.0     15823.0  United Kingdom  \n",
      "62508       15.0     15939.0  United Kingdom  \n"
     ]
    }
   ],
   "source": [
    "df_sc = df[(df.StockCode.str.len()>5)]\n",
    "print(df_sc.head(2))\n",
    "df_sc = df[(df.StockCode.str.len()>6)]\n",
    "print(df_sc.head(2))\n",
    "df_sc = df[(df.StockCode.str.len()>7)]\n",
    "print(df_sc.head(2))"
   ]
  },
  {
   "cell_type": "markdown",
   "metadata": {
    "papermill": {
     "duration": 0.060756,
     "end_time": "2021-04-04T21:00:12.087741",
     "exception": false,
     "start_time": "2021-04-04T21:00:12.026985",
     "status": "completed"
    },
    "tags": []
   },
   "source": [
    "- Delete additional and bank charges as bank charges might be due to transaction charges and will inflate actual revenue to the company through customers"
   ]
  },
  {
   "cell_type": "code",
   "execution_count": 21,
   "metadata": {
    "execution": {
     "iopub.execute_input": "2021-07-04T14:08:09.251069Z",
     "iopub.status.busy": "2021-07-04T14:08:09.250520Z",
     "iopub.status.idle": "2021-07-04T14:08:09.791090Z",
     "shell.execute_reply": "2021-07-04T14:08:09.790317Z",
     "shell.execute_reply.started": "2021-07-04T14:08:09.251028Z"
    },
    "papermill": {
     "duration": 0.374582,
     "end_time": "2021-04-04T21:00:12.521877",
     "exception": false,
     "start_time": "2021-04-04T21:00:12.147295",
     "status": "completed"
    },
    "tags": []
   },
   "outputs": [],
   "source": [
    "df = df[~((df.StockCode.str.len()<5) & (df.StockCode!=\"D\"))]\n",
    "df = df[df.StockCode.str.lower() !=\"bank charges\"]"
   ]
  },
  {
   "cell_type": "markdown",
   "metadata": {
    "papermill": {
     "duration": 0.058897,
     "end_time": "2021-04-04T21:00:12.640003",
     "exception": false,
     "start_time": "2021-04-04T21:00:12.581106",
     "status": "completed"
    },
    "tags": []
   },
   "source": [
    "- Let's further check stock code. Is each product associated with a single stock code"
   ]
  },
  {
   "cell_type": "code",
   "execution_count": 22,
   "metadata": {
    "execution": {
     "iopub.execute_input": "2021-07-04T14:08:09.792988Z",
     "iopub.status.busy": "2021-07-04T14:08:09.792467Z",
     "iopub.status.idle": "2021-07-04T14:08:11.361164Z",
     "shell.execute_reply": "2021-07-04T14:08:11.360007Z",
     "shell.execute_reply.started": "2021-07-04T14:08:09.792949Z"
    },
    "papermill": {
     "duration": 1.855642,
     "end_time": "2021-04-04T21:00:14.555296",
     "exception": false,
     "start_time": "2021-04-04T21:00:12.699654",
     "status": "completed"
    },
    "tags": []
   },
   "outputs": [
    {
     "data": {
      "text/plain": [
       "<AxesSubplot:xlabel='StockCode'>"
      ]
     },
     "execution_count": 22,
     "metadata": {},
     "output_type": "execute_result"
    },
    {
     "data": {
      "image/png": "[encoded data removed]",
      "text/plain": [
       "<Figure size 1440x720 with 1 Axes>"
      ]
     },
     "metadata": {},
     "output_type": "display_data"
    }
   ],
   "source": [
    "stock_code_df = df[[\"StockCode\",\"Description\"]].groupby(\"StockCode\")[\"Description\"].nunique()\n",
    "stock_code_df = stock_code_df.sort_values(ascending=False)\n",
    "plt.figure(figsize=(20,10))\n",
    "stock_code_df.head(100).plot(kind='bar')"
   ]
  },
  {
   "cell_type": "code",
   "execution_count": 23,
   "metadata": {
    "execution": {
     "iopub.execute_input": "2021-07-04T14:08:11.362966Z",
     "iopub.status.busy": "2021-07-04T14:08:11.362644Z",
     "iopub.status.idle": "2021-07-04T14:08:11.778981Z",
     "shell.execute_reply": "2021-07-04T14:08:11.777597Z",
     "shell.execute_reply.started": "2021-07-04T14:08:11.362933Z"
    },
    "papermill": {
     "duration": 0.430588,
     "end_time": "2021-04-04T21:00:15.046632",
     "exception": false,
     "start_time": "2021-04-04T21:00:14.616044",
     "status": "completed"
    },
    "tags": []
   },
   "outputs": [
    {
     "name": "stdout",
     "output_type": "stream",
     "text": [
      "['Product for stock code 23196: RETRO LEAVES MAGNETIC NOTEPAD'\n",
      " 'Product for stock code 23196: RETO LEAVES MAGNETIC SHOPPING LIST'\n",
      " 'Product for stock code 23196: LEAVES MAGNETIC  SHOPPING LIST'\n",
      " 'Product for stock code 23196: VINTAGE LEAF MAGNETIC NOTEPAD']\n",
      "['Product for stock code 23236: DOILEY STORAGE TIN'\n",
      " 'Product for stock code 23236: DOILEY BISCUIT TIN'\n",
      " 'Product for stock code 23236: STORAGE TIN VINTAGE DOILY '\n",
      " 'Product for stock code 23236: STORAGE TIN VINTAGE DOILEY ']\n",
      "['Product for stock code 21243: PINK  POLKADOT PLATE '\n",
      " 'Product for stock code 21243: PINK POLKADOT PLATE ']\n"
     ]
    }
   ],
   "source": [
    "stockcode = df[[\"StockCode\",\"Description\"]].groupby(\"StockCode\")[\"Description\"].unique()\n",
    "print(\"Product for stock code 23196: \" + stockcode.at[\"23196\"])\n",
    "\n",
    "print(\"Product for stock code 23236: \" + stockcode.at[\"23236\"])\n",
    "\n",
    "print(\"Product for stock code 21243: \" + stockcode.at[\"21243\"])"
   ]
  },
  {
   "cell_type": "markdown",
   "metadata": {
    "papermill": {
     "duration": 0.060647,
     "end_time": "2021-04-04T21:00:15.168807",
     "exception": false,
     "start_time": "2021-04-04T21:00:15.10816",
     "status": "completed"
    },
    "tags": []
   },
   "source": [
    "- Stockcode seems to denote similar items from different suppliers or with different spellings\n",
    "- So rather than analysing with product descriptions, it would be advisable with stock codes for some of the analysis"
   ]
  },
  {
   "cell_type": "markdown",
   "metadata": {
    "papermill": {
     "duration": 0.081543,
     "end_time": "2021-04-04T21:01:16.081178",
     "exception": false,
     "start_time": "2021-04-04T21:01:15.999635",
     "status": "completed"
    },
    "tags": []
   },
   "source": [
    "# Derivation of marketing strategies"
   ]
  },
  {
   "cell_type": "markdown",
   "metadata": {
    "papermill": {
     "duration": 0.0802,
     "end_time": "2021-04-04T21:01:16.243446",
     "exception": false,
     "start_time": "2021-04-04T21:01:16.163246",
     "status": "completed"
    },
    "tags": []
   },
   "source": [
    "## Customer segmentation will be achieved with an RFM matrix. It has three indicators \n",
    "```\n",
    "1. Recency - When the customer last bought from the store. Calculated with the difference between the last date of purchase ever to date of purchase\n",
    "2. Frequency - No of times customer has bought from the store\n",
    "3. Monetary - Total purchase from the customer\n",
    "```"
   ]
  },
  {
   "cell_type": "markdown",
   "metadata": {
    "papermill": {
     "duration": 0.080525,
     "end_time": "2021-04-04T21:01:16.405075",
     "exception": false,
     "start_time": "2021-04-04T21:01:16.32455",
     "status": "completed"
    },
    "tags": []
   },
   "source": [
    "- Here, let's analyse only based on purchases not based on returns or cancellations\n",
    "- For Germany alone, for targeted marketing"
   ]
  },
  {
   "cell_type": "code",
   "execution_count": 24,
   "metadata": {
    "execution": {
     "iopub.execute_input": "2021-07-04T14:08:11.784244Z",
     "iopub.status.busy": "2021-07-04T14:08:11.783905Z",
     "iopub.status.idle": "2021-07-04T14:08:11.863644Z",
     "shell.execute_reply": "2021-07-04T14:08:11.862417Z",
     "shell.execute_reply.started": "2021-07-04T14:08:11.784212Z"
    },
    "papermill": {
     "duration": 0.324188,
     "end_time": "2021-04-04T21:01:16.810181",
     "exception": false,
     "start_time": "2021-04-04T21:01:16.485993",
     "status": "completed"
    },
    "tags": []
   },
   "outputs": [],
   "source": [
    "df = df.loc[df.Country==\"Germany\",:]\n",
    "df = df[~df['InvoiceNo'].str.contains('C', na=False)]\n",
    "df = df[df[\"Quantity\"]>0]\n",
    "df[\"Individual Revenue\"] = df[\"Quantity\"]*df[\"UnitPrice\"]\n",
    "\n",
    "# Non consideration of discounts\n",
    "df = df[df[\"StockCode\"]!='D']"
   ]
  },
  {
   "cell_type": "code",
   "execution_count": 25,
   "metadata": {
    "execution": {
     "iopub.execute_input": "2021-07-04T14:08:11.868540Z",
     "iopub.status.busy": "2021-07-04T14:08:11.868160Z",
     "iopub.status.idle": "2021-07-04T14:08:11.909802Z",
     "shell.execute_reply": "2021-07-04T14:08:11.909062Z",
     "shell.execute_reply.started": "2021-07-04T14:08:11.868506Z"
    },
    "papermill": {
     "duration": 0.501001,
     "end_time": "2021-04-04T21:01:17.392828",
     "exception": false,
     "start_time": "2021-04-04T21:01:16.891827",
     "status": "completed"
    },
    "tags": []
   },
   "outputs": [
    {
     "name": "stdout",
     "output_type": "stream",
     "text": [
      "            Recency  Frequency  Monetary\n",
      "CustomerID                              \n",
      "12426.0         193         29    510.73\n",
      "12427.0          21         28    699.80\n",
      "12468.0         187         36    657.54\n",
      "12471.0           1        438  17388.65\n",
      "12472.0          31        332   6068.11\n",
      "...             ...        ...       ...\n",
      "13814.0          91         57   1579.12\n",
      "13815.0          21        173   3667.36\n",
      "13816.0          23         26    499.67\n",
      "13817.0          28         22    328.98\n",
      "14335.0          15         60    454.86\n",
      "\n",
      "[94 rows x 3 columns]\n"
     ]
    }
   ],
   "source": [
    "# Latest purchase\n",
    "max_date = df[\"InvoiceDate\"].max()\n",
    "\n",
    "rfm_df = df.groupby(\"CustomerID\").agg({\"InvoiceDate\":lambda date: (max_date - date.max()).days,\n",
    "                                      \"InvoiceNo\": 'count',\n",
    "                                      \"Individual Revenue\":'sum'})\n",
    "\n",
    "rfm_df.rename(columns={\"InvoiceDate\":\"Recency\",\"InvoiceNo\":\"Frequency\",\"Individual Revenue\":\"Monetary\"},inplace=True)\n",
    "print(rfm_df)"
   ]
  },
  {
   "cell_type": "code",
   "execution_count": 26,
   "metadata": {
    "execution": {
     "iopub.execute_input": "2021-07-04T14:08:11.911047Z",
     "iopub.status.busy": "2021-07-04T14:08:11.910787Z",
     "iopub.status.idle": "2021-07-04T14:08:23.147950Z",
     "shell.execute_reply": "2021-07-04T14:08:23.146559Z",
     "shell.execute_reply.started": "2021-07-04T14:08:11.911019Z"
    }
   },
   "outputs": [
    {
     "name": "stdout",
     "output_type": "stream",
     "text": [
      "root\n",
      " |-- Recency: long (nullable = true)\n",
      " |-- Frequency: long (nullable = true)\n",
      " |-- Monetary: double (nullable = true)\n",
      "\n",
      "+-------+---------+------------------+\n",
      "|Recency|Frequency|          Monetary|\n",
      "+-------+---------+------------------+\n",
      "|    193|       29| 510.7299999999999|\n",
      "|     21|       28| 699.8000000000002|\n",
      "|    187|       36|            657.54|\n",
      "|      1|      438|17388.649999999954|\n",
      "|     31|      332| 6068.110000000003|\n",
      "|     53|      160| 2585.729999999999|\n",
      "|     16|      406|           6694.09|\n",
      "|     53|       35|            669.38|\n",
      "|     14|      224|5898.4200000000055|\n",
      "|     22|      300| 13219.73999999999|\n",
      "|     10|       30|             473.2|\n",
      "|     27|      150|2885.6300000000006|\n",
      "|     22|      208| 5003.820000000002|\n",
      "|     62|       18|227.20999999999998|\n",
      "|     80|       13|             953.1|\n",
      "|     20|       21|             349.7|\n",
      "|     22|       52|4059.8200000000006|\n",
      "|    335|      148|2025.3899999999992|\n",
      "|     17|        8|428.04999999999995|\n",
      "|     77|       24|           1186.06|\n",
      "+-------+---------+------------------+\n",
      "only showing top 20 rows\n",
      "\n"
     ]
    }
   ],
   "source": [
    "#Create PySpark SparkSession\n",
    "spark = SparkSession.builder.appName(\"Clustering using K-Means\").getOrCreate()\n",
    "\n",
    "#Create PySpark DataFrame from Pandas\n",
    "sparkDF=spark.createDataFrame(rfm_df) \n",
    "sparkDF.printSchema()\n",
    "sparkDF.show()"
   ]
  },
  {
   "cell_type": "markdown",
   "metadata": {},
   "source": [
    "# Customer segmentation by behaviour\n",
    "\n",
    "## Finding suitable number of clusters"
   ]
  },
  {
   "cell_type": "code",
   "execution_count": 27,
   "metadata": {
    "execution": {
     "iopub.execute_input": "2021-07-04T14:08:23.150383Z",
     "iopub.status.busy": "2021-07-04T14:08:23.149882Z",
     "iopub.status.idle": "2021-07-04T14:09:30.849638Z",
     "shell.execute_reply": "2021-07-04T14:09:30.848134Z",
     "shell.execute_reply.started": "2021-07-04T14:08:23.150332Z"
    }
   },
   "outputs": [],
   "source": [
    "# For recency\n",
    "silhouette_score_recency=[]\n",
    "evaluator = ClusteringEvaluator()\n",
    "\n",
    "# To turn specific columns to features for clustering\n",
    "vecAssembler = VectorAssembler(inputCols=[\"Recency\"], outputCol=\"features\")\n",
    "new_df = vecAssembler.transform(sparkDF)\n",
    "\n",
    "K = np.arange(2,21,1)\n",
    "\n",
    "for k in K:\n",
    "    \n",
    "    Kmeans=KMeans(featuresCol='features', k=k)    \n",
    "    model=Kmeans.fit(new_df)    \n",
    "    output=model.transform(new_df)        \n",
    "    score = evaluator.evaluate(output)    \n",
    "    silhouette_score_recency.append(score)  \n",
    "    \n",
    "# For frequency   \n",
    "silhouette_score_frequency=[]\n",
    "evaluator = ClusteringEvaluator()\n",
    "\n",
    "vecAssembler = VectorAssembler(inputCols=[\"Frequency\"], outputCol=\"features\")\n",
    "new_df = vecAssembler.transform(sparkDF)\n",
    "\n",
    "for k in K:\n",
    "    \n",
    "    Kmeans=KMeans(featuresCol='features', k=k)    \n",
    "    model=Kmeans.fit(new_df)    \n",
    "    output=model.transform(new_df)        \n",
    "    score = evaluator.evaluate(output)    \n",
    "    silhouette_score_frequency.append(score)  "
   ]
  },
  {
   "cell_type": "code",
   "execution_count": 28,
   "metadata": {
    "execution": {
     "iopub.execute_input": "2021-07-04T14:09:30.851516Z",
     "iopub.status.busy": "2021-07-04T14:09:30.851179Z",
     "iopub.status.idle": "2021-07-04T14:09:31.219577Z",
     "shell.execute_reply": "2021-07-04T14:09:31.218410Z",
     "shell.execute_reply.started": "2021-07-04T14:09:30.851480Z"
    }
   },
   "outputs": [
    {
     "data": {
      "image/png": "[encoded data removed]",
      "text/plain": [
       "<Figure size 1440x720 with 2 Axes>"
      ]
     },
     "metadata": {},
     "output_type": "display_data"
    }
   ],
   "source": [
    "fig, ax = plt.subplots(nrows=1, ncols=2, figsize=(20,10))\n",
    "ax[0].plot(K, silhouette_score_recency, 'bx-')\n",
    "ax[0].set_title('Elbow Method For Optimal k - Recency')\n",
    "\n",
    "\n",
    "ax[1].plot(K, silhouette_score_frequency, 'bx-')\n",
    "ax[1].set_title('Elbow Method For Optimal k - Frequency')\n",
    "\n",
    "for a in ax.flat:\n",
    "    a.set(xlabel='k', ylabel='Sum_of_squared_distances')\n",
    "    \n",
    "# Hide x labels and tick labels for top plots and y ticks for right plots.\n",
    "for a in ax.flat:\n",
    "    a.label_outer()\n",
    "    \n",
    "plt.show()"
   ]
  },
  {
   "cell_type": "markdown",
   "metadata": {},
   "source": [
    "## Clustering, ordering and attaching them to original database\n",
    "- From above, 6 would be appropriate cluster for both recency and frequency\n",
    "- Although 15 would be appropriate, that would mean too many labels for a directed marketing action"
   ]
  },
  {
   "cell_type": "code",
   "execution_count": 29,
   "metadata": {
    "execution": {
     "iopub.execute_input": "2021-07-04T14:09:31.221528Z",
     "iopub.status.busy": "2021-07-04T14:09:31.221197Z",
     "iopub.status.idle": "2021-07-04T14:09:34.306551Z",
     "shell.execute_reply": "2021-07-04T14:09:34.305063Z",
     "shell.execute_reply.started": "2021-07-04T14:09:31.221494Z"
    }
   },
   "outputs": [
    {
     "data": {
      "image/png": "[encoded data removed]",
      "text/plain": [
       "<Figure size 1440x720 with 2 Axes>"
      ]
     },
     "metadata": {},
     "output_type": "display_data"
    }
   ],
   "source": [
    "k=6\n",
    "\n",
    "fig, ax = plt.subplots(nrows=1, ncols=2, figsize=(20,10))\n",
    "labels = [\"Recency\",\"Frequency\"]\n",
    "\n",
    "Cluster_labels = []\n",
    "\n",
    "for i in range(len(labels)):\n",
    "    \n",
    "    vecAssembler = VectorAssembler(inputCols=[labels[i]], outputCol=\"features\")\n",
    "    new_df = vecAssembler.transform(sparkDF)\n",
    "    \n",
    "    Kmeans=KMeans(featuresCol='features', k=k)    \n",
    "    model=Kmeans.fit(new_df)    \n",
    "    output=model.transform(new_df)\n",
    "    \n",
    "   \n",
    "    # Ordering clusters with numerical order\n",
    "    predictions = output.select(\"prediction\").rdd.flatMap(lambda x: x).collect()     \n",
    "    idx = np.argsort(np.array(model.clusterCenters()).sum(axis=1))\n",
    "    lut = np.zeros_like(idx)\n",
    "    lut[idx] = np.arange(k)\n",
    "    \n",
    "\n",
    "    dict = {\n",
    "    labels[i]: rfm_df[labels[i]].tolist(),\n",
    "    \"Cluster_labels\": list(lut[predictions])\n",
    "     }\n",
    "    param_df=pd.DataFrame.from_dict(dict,orient='index').transpose()\n",
    "    sns.boxplot(x=\"Cluster_labels\", y=labels[i], data=param_df,ax=ax[i])\n",
    "    \n",
    "    ax[i].set(xlabel=\"Cluster labels\", ylabel = labels[i])\n",
    "    ax[i].title.set_text(\"Clustering \" + labels[i])\n",
    "    \n",
    "        \n",
    "    rfm_df[\"Cluster labels - \" + str(labels[i])] = list(lut[predictions])\n",
    "\n",
    "    \n",
    "    \n",
    "plt.show()"
   ]
  },
  {
   "cell_type": "markdown",
   "metadata": {
    "papermill": {
     "duration": 0.10308,
     "end_time": "2021-04-04T21:01:19.798775",
     "exception": false,
     "start_time": "2021-04-04T21:01:19.695695",
     "status": "completed"
    },
    "tags": []
   },
   "source": [
    "# Creation of an appropriate marketing strategy"
   ]
  },
  {
   "cell_type": "code",
   "execution_count": 30,
   "metadata": {
    "execution": {
     "iopub.execute_input": "2021-07-04T14:09:34.308505Z",
     "iopub.status.busy": "2021-07-04T14:09:34.308120Z",
     "iopub.status.idle": "2021-07-04T14:09:34.337598Z",
     "shell.execute_reply": "2021-07-04T14:09:34.336350Z",
     "shell.execute_reply.started": "2021-07-04T14:09:34.308468Z"
    },
    "papermill": {
     "duration": 0.185939,
     "end_time": "2021-04-04T21:01:24.383042",
     "exception": false,
     "start_time": "2021-04-04T21:01:24.197103",
     "status": "completed"
    },
    "tags": []
   },
   "outputs": [
    {
     "data": {
      "text/html": [
       "<div>\n",
       "<style scoped>\n",
       "    .dataframe tbody tr th:only-of-type {\n",
       "        vertical-align: middle;\n",
       "    }\n",
       "\n",
       "    .dataframe tbody tr th {\n",
       "        vertical-align: top;\n",
       "    }\n",
       "\n",
       "    .dataframe thead th {\n",
       "        text-align: right;\n",
       "    }\n",
       "</style>\n",
       "<table border=\"1\" class=\"dataframe\">\n",
       "  <thead>\n",
       "    <tr style=\"text-align: right;\">\n",
       "      <th></th>\n",
       "      <th>Recency</th>\n",
       "      <th>Frequency</th>\n",
       "      <th>Monetary</th>\n",
       "      <th>Cluster labels - Recency</th>\n",
       "      <th>Cluster labels - Frequency</th>\n",
       "      <th>RF class</th>\n",
       "      <th>Marketing strategy</th>\n",
       "    </tr>\n",
       "    <tr>\n",
       "      <th>CustomerID</th>\n",
       "      <th></th>\n",
       "      <th></th>\n",
       "      <th></th>\n",
       "      <th></th>\n",
       "      <th></th>\n",
       "      <th></th>\n",
       "      <th></th>\n",
       "    </tr>\n",
       "  </thead>\n",
       "  <tbody>\n",
       "    <tr>\n",
       "      <th>12426.0</th>\n",
       "      <td>193</td>\n",
       "      <td>29</td>\n",
       "      <td>510.73</td>\n",
       "      <td>3</td>\n",
       "      <td>0</td>\n",
       "      <td>30</td>\n",
       "      <td>About to lose - Feedback form</td>\n",
       "    </tr>\n",
       "    <tr>\n",
       "      <th>12427.0</th>\n",
       "      <td>21</td>\n",
       "      <td>28</td>\n",
       "      <td>699.80</td>\n",
       "      <td>0</td>\n",
       "      <td>0</td>\n",
       "      <td>00</td>\n",
       "      <td>First timers - SMS ads</td>\n",
       "    </tr>\n",
       "    <tr>\n",
       "      <th>12468.0</th>\n",
       "      <td>187</td>\n",
       "      <td>36</td>\n",
       "      <td>657.54</td>\n",
       "      <td>3</td>\n",
       "      <td>0</td>\n",
       "      <td>30</td>\n",
       "      <td>About to lose - Feedback form</td>\n",
       "    </tr>\n",
       "    <tr>\n",
       "      <th>12471.0</th>\n",
       "      <td>1</td>\n",
       "      <td>438</td>\n",
       "      <td>17388.65</td>\n",
       "      <td>0</td>\n",
       "      <td>5</td>\n",
       "      <td>05</td>\n",
       "      <td>Immediate targeting - Promotions</td>\n",
       "    </tr>\n",
       "    <tr>\n",
       "      <th>12472.0</th>\n",
       "      <td>31</td>\n",
       "      <td>332</td>\n",
       "      <td>6068.11</td>\n",
       "      <td>0</td>\n",
       "      <td>4</td>\n",
       "      <td>04</td>\n",
       "      <td>At risk - Discounts</td>\n",
       "    </tr>\n",
       "  </tbody>\n",
       "</table>\n",
       "</div>"
      ],
      "text/plain": [
       "            Recency  Frequency  Monetary  Cluster labels - Recency  \\\n",
       "CustomerID                                                           \n",
       "12426.0         193         29    510.73                         3   \n",
       "12427.0          21         28    699.80                         0   \n",
       "12468.0         187         36    657.54                         3   \n",
       "12471.0           1        438  17388.65                         0   \n",
       "12472.0          31        332   6068.11                         0   \n",
       "\n",
       "            Cluster labels - Frequency RF class  \\\n",
       "CustomerID                                        \n",
       "12426.0                              0       30   \n",
       "12427.0                              0       00   \n",
       "12468.0                              0       30   \n",
       "12471.0                              5       05   \n",
       "12472.0                              4       04   \n",
       "\n",
       "                          Marketing strategy  \n",
       "CustomerID                                    \n",
       "12426.0        About to lose - Feedback form  \n",
       "12427.0               First timers - SMS ads  \n",
       "12468.0        About to lose - Feedback form  \n",
       "12471.0     Immediate targeting - Promotions  \n",
       "12472.0                  At risk - Discounts  "
      ]
     },
     "execution_count": 30,
     "metadata": {},
     "output_type": "execute_result"
    }
   ],
   "source": [
    "segt_map = {\n",
    "    r'[0-2][0-2]': 'First timers - SMS ads',\n",
    "    r'[0-2][3-4]': 'At risk - Discounts',\n",
    "    r'[0-2]5': 'Immediate targeting - Promotions',\n",
    "    r'3[0-2]': 'About to lose - Feedback form',\n",
    "    r'[3-5][4-5]': 'Regular customers - Loyalty cards',\n",
    "    r'40': 'Promising - Instant vouchers',\n",
    "    r'50': 'New customers - 50 % discounts on certain items',\n",
    "    r'[4-5][1-3]': 'Potential regular customers - Loyalty cards',\n",
    "    r'4[4-5]': 'Best customers - Loyalty cards',\n",
    "    r'33': 'Need attention - Discounts'\n",
    "}  # For example if customers hasn't bought for a long time and has tried the shop only once, an SMS ad might     \n",
    "   # rekindle interest\n",
    "\n",
    "\n",
    "rfm_df[\"RF class\"] = rfm_df['Cluster labels - Recency'].apply(str)+ rfm_df['Cluster labels - Frequency'].apply(str) \n",
    "\n",
    "# Marketing strategy based on recency and frequnecy of shopping alone\n",
    "rfm_df['Marketing strategy'] = rfm_df['Cluster labels - Recency'].apply(str)+ rfm_df['Cluster labels - Frequency'].apply(str)\n",
    "rfm_df['Marketing strategy'] = rfm_df['Marketing strategy'].replace(segt_map, regex=True)\n",
    "rfm_df.head(5)"
   ]
  },
  {
   "cell_type": "code",
   "execution_count": 31,
   "metadata": {
    "execution": {
     "iopub.execute_input": "2021-07-04T14:09:34.339597Z",
     "iopub.status.busy": "2021-07-04T14:09:34.339254Z",
     "iopub.status.idle": "2021-07-04T14:09:34.700092Z",
     "shell.execute_reply": "2021-07-04T14:09:34.698628Z",
     "shell.execute_reply.started": "2021-07-04T14:09:34.339561Z"
    }
   },
   "outputs": [
    {
     "data": {
      "image/png": "[encoded data removed]",
      "text/plain": [
       "<Figure size 1080x1080 with 1 Axes>"
      ]
     },
     "metadata": {},
     "output_type": "display_data"
    }
   ],
   "source": [
    "pie_plot_df = rfm_df[['Marketing strategy',\"Monetary\"]]\n",
    "pie_plot_df = pie_plot_df.groupby('Marketing strategy').sum()\n",
    "pie_plot_df.plot.pie(subplots=True, figsize=(15,15), autopct='%.2f', fontsize=10, labeldistance=None)\n",
    "plt.show()"
   ]
  },
  {
   "cell_type": "markdown",
   "metadata": {},
   "source": [
    "## Inferences\n",
    "- Spending 39.96 % of the monetary value on SMS ads can contribute to increasing customer interest in the e-commerce shop\n",
    "- Also, discounts and promotions are essential for increasing business value"
   ]
  }
 ],
 "metadata": {
  "kernelspec": {
   "display_name": "Python 3",
   "language": "python",
   "name": "python3"
  },
  "language_info": {
   "codemirror_mode": {
    "name": "ipython",
    "version": 3
   },
   "file_extension": ".py",
   "mimetype": "text/x-python",
   "name": "python",
   "nbconvert_exporter": "python",
   "pygments_lexer": "ipython3",
   "version": "3.8.5"
  }
 },
 "nbformat": 4,
 "nbformat_minor": 4
}
